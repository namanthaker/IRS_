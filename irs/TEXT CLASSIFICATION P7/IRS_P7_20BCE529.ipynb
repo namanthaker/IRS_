{
  "cells": [
    {
      "cell_type": "markdown",
      "source": [
        "20BCE529 \n",
        "\n",
        "Naman Thaker\n",
        "\n",
        "INFORMATION RETRIEVAL SYSTEM \n",
        "\n",
        "Practical 7 \n",
        "\n",
        "TEXT CLASSIFICATION\n",
        "\n"
      ],
      "metadata": {
        "id": "FN0_G-PZBRRh"
      }
    },
    {
      "cell_type": "code",
      "execution_count": null,
      "metadata": {
        "id": "T1XO6H5FBMxZ"
      },
      "outputs": [],
      "source": [
        "import re\n",
        "import string\n",
        "import pandas as pd\n",
        "from functools import reduce\n",
        "from math import log"
      ]
    },
    {
      "cell_type": "markdown",
      "source": [
        "Simple Implementation of TF-IDF without library"
      ],
      "metadata": {
        "id": "fgSbJBb_BmHa"
      }
    },
    {
      "cell_type": "markdown",
      "metadata": {
        "id": "xxt8MW-HBMxf"
      },
      "source": [
        "## Simple example of [TF-IDF](https://en.wikipedia.org/wiki/Tf%E2%80%93idf)\n",
        "1. Example of corpus\n",
        "2. Preprocessing and Tokenizing\n",
        "3. Calculating bag of words\n",
        "4. TF\n",
        "5. IDF\n",
        "6. TF-IDF"
      ]
    },
    {
      "cell_type": "code",
      "execution_count": null,
      "metadata": {
        "id": "VFgLqEv5BMxh"
      },
      "outputs": [],
      "source": [
        "#1\n",
        "corpus = \"\"\"\n",
        "Simple example with Cats and Mouse\n",
        "Another simple example with dogs and cats\n",
        "Another simple example with mouse and cheese\n",
        "\"\"\".split(\"\\n\")[1:-1]"
      ]
    },
    {
      "cell_type": "code",
      "execution_count": null,
      "metadata": {
        "colab": {
          "base_uri": "https://localhost:8080/"
        },
        "id": "-416oC-eBMxi",
        "outputId": "5a0bb64e-b2cb-4210-ebaa-697fe57502e2"
      },
      "outputs": [
        {
          "output_type": "stream",
          "name": "stdout",
          "text": [
            "['simple', 'example', 'with', 'cats', 'and', 'mouse']\n",
            "['another', 'simple', 'example', 'with', 'dogs', 'and', 'cats']\n",
            "['another', 'simple', 'example', 'with', 'mouse', 'and', 'cheese']\n"
          ]
        }
      ],
      "source": [
        "#2\n",
        "l_A = corpus[0].lower().split()\n",
        "l_B = corpus[1].lower().split()\n",
        "l_C = corpus[2].lower().split()\n",
        "\n",
        "print(l_A)\n",
        "print(l_B)\n",
        "print(l_C)"
      ]
    },
    {
      "cell_type": "code",
      "execution_count": null,
      "metadata": {
        "colab": {
          "base_uri": "https://localhost:8080/"
        },
        "id": "xOfPetYeBMxj",
        "outputId": "358e8f16-3130-4a76-8175-fdd22d88fbe1"
      },
      "outputs": [
        {
          "output_type": "stream",
          "name": "stdout",
          "text": [
            "{'example', 'dogs', 'cheese', 'simple', 'with', 'mouse', 'another', 'cats', 'and'}\n"
          ]
        }
      ],
      "source": [
        "#3\n",
        "word_set = set(l_A).union(set(l_B)).union(set(l_C))\n",
        "print(word_set)"
      ]
    },
    {
      "cell_type": "code",
      "execution_count": null,
      "metadata": {
        "colab": {
          "base_uri": "https://localhost:8080/",
          "height": 187
        },
        "id": "Ix-fw5c-BMxk",
        "outputId": "8979c51e-6630-43f7-f7ec-ee5ac1d8d643"
      },
      "outputs": [
        {
          "output_type": "execute_result",
          "data": {
            "text/plain": [
              "   example  dogs  cheese  simple  with  mouse  another  cats  and\n",
              "0        1     0       0       1     1      1        0     1    1\n",
              "1        1     1       0       1     1      0        1     1    1\n",
              "2        1     0       1       1     1      1        1     0    1"
            ],
            "text/html": [
              "\n",
              "  <div id=\"df-a2c2525e-faa5-459c-89d6-292510629d5b\">\n",
              "    <div class=\"colab-df-container\">\n",
              "      <div>\n",
              "<style scoped>\n",
              "    .dataframe tbody tr th:only-of-type {\n",
              "        vertical-align: middle;\n",
              "    }\n",
              "\n",
              "    .dataframe tbody tr th {\n",
              "        vertical-align: top;\n",
              "    }\n",
              "\n",
              "    .dataframe thead th {\n",
              "        text-align: right;\n",
              "    }\n",
              "</style>\n",
              "<table border=\"1\" class=\"dataframe\">\n",
              "  <thead>\n",
              "    <tr style=\"text-align: right;\">\n",
              "      <th></th>\n",
              "      <th>example</th>\n",
              "      <th>dogs</th>\n",
              "      <th>cheese</th>\n",
              "      <th>simple</th>\n",
              "      <th>with</th>\n",
              "      <th>mouse</th>\n",
              "      <th>another</th>\n",
              "      <th>cats</th>\n",
              "      <th>and</th>\n",
              "    </tr>\n",
              "  </thead>\n",
              "  <tbody>\n",
              "    <tr>\n",
              "      <th>0</th>\n",
              "      <td>1</td>\n",
              "      <td>0</td>\n",
              "      <td>0</td>\n",
              "      <td>1</td>\n",
              "      <td>1</td>\n",
              "      <td>1</td>\n",
              "      <td>0</td>\n",
              "      <td>1</td>\n",
              "      <td>1</td>\n",
              "    </tr>\n",
              "    <tr>\n",
              "      <th>1</th>\n",
              "      <td>1</td>\n",
              "      <td>1</td>\n",
              "      <td>0</td>\n",
              "      <td>1</td>\n",
              "      <td>1</td>\n",
              "      <td>0</td>\n",
              "      <td>1</td>\n",
              "      <td>1</td>\n",
              "      <td>1</td>\n",
              "    </tr>\n",
              "    <tr>\n",
              "      <th>2</th>\n",
              "      <td>1</td>\n",
              "      <td>0</td>\n",
              "      <td>1</td>\n",
              "      <td>1</td>\n",
              "      <td>1</td>\n",
              "      <td>1</td>\n",
              "      <td>1</td>\n",
              "      <td>0</td>\n",
              "      <td>1</td>\n",
              "    </tr>\n",
              "  </tbody>\n",
              "</table>\n",
              "</div>\n",
              "      <button class=\"colab-df-convert\" onclick=\"convertToInteractive('df-a2c2525e-faa5-459c-89d6-292510629d5b')\"\n",
              "              title=\"Convert this dataframe to an interactive table.\"\n",
              "              style=\"display:none;\">\n",
              "        \n",
              "  <svg xmlns=\"http://www.w3.org/2000/svg\" height=\"24px\"viewBox=\"0 0 24 24\"\n",
              "       width=\"24px\">\n",
              "    <path d=\"M0 0h24v24H0V0z\" fill=\"none\"/>\n",
              "    <path d=\"M18.56 5.44l.94 2.06.94-2.06 2.06-.94-2.06-.94-.94-2.06-.94 2.06-2.06.94zm-11 1L8.5 8.5l.94-2.06 2.06-.94-2.06-.94L8.5 2.5l-.94 2.06-2.06.94zm10 10l.94 2.06.94-2.06 2.06-.94-2.06-.94-.94-2.06-.94 2.06-2.06.94z\"/><path d=\"M17.41 7.96l-1.37-1.37c-.4-.4-.92-.59-1.43-.59-.52 0-1.04.2-1.43.59L10.3 9.45l-7.72 7.72c-.78.78-.78 2.05 0 2.83L4 21.41c.39.39.9.59 1.41.59.51 0 1.02-.2 1.41-.59l7.78-7.78 2.81-2.81c.8-.78.8-2.07 0-2.86zM5.41 20L4 18.59l7.72-7.72 1.47 1.35L5.41 20z\"/>\n",
              "  </svg>\n",
              "      </button>\n",
              "      \n",
              "  <style>\n",
              "    .colab-df-container {\n",
              "      display:flex;\n",
              "      flex-wrap:wrap;\n",
              "      gap: 12px;\n",
              "    }\n",
              "\n",
              "    .colab-df-convert {\n",
              "      background-color: #E8F0FE;\n",
              "      border: none;\n",
              "      border-radius: 50%;\n",
              "      cursor: pointer;\n",
              "      display: none;\n",
              "      fill: #1967D2;\n",
              "      height: 32px;\n",
              "      padding: 0 0 0 0;\n",
              "      width: 32px;\n",
              "    }\n",
              "\n",
              "    .colab-df-convert:hover {\n",
              "      background-color: #E2EBFA;\n",
              "      box-shadow: 0px 1px 2px rgba(60, 64, 67, 0.3), 0px 1px 3px 1px rgba(60, 64, 67, 0.15);\n",
              "      fill: #174EA6;\n",
              "    }\n",
              "\n",
              "    [theme=dark] .colab-df-convert {\n",
              "      background-color: #3B4455;\n",
              "      fill: #D2E3FC;\n",
              "    }\n",
              "\n",
              "    [theme=dark] .colab-df-convert:hover {\n",
              "      background-color: #434B5C;\n",
              "      box-shadow: 0px 1px 3px 1px rgba(0, 0, 0, 0.15);\n",
              "      filter: drop-shadow(0px 1px 2px rgba(0, 0, 0, 0.3));\n",
              "      fill: #FFFFFF;\n",
              "    }\n",
              "  </style>\n",
              "\n",
              "      <script>\n",
              "        const buttonEl =\n",
              "          document.querySelector('#df-a2c2525e-faa5-459c-89d6-292510629d5b button.colab-df-convert');\n",
              "        buttonEl.style.display =\n",
              "          google.colab.kernel.accessAllowed ? 'block' : 'none';\n",
              "\n",
              "        async function convertToInteractive(key) {\n",
              "          const element = document.querySelector('#df-a2c2525e-faa5-459c-89d6-292510629d5b');\n",
              "          const dataTable =\n",
              "            await google.colab.kernel.invokeFunction('convertToInteractive',\n",
              "                                                     [key], {});\n",
              "          if (!dataTable) return;\n",
              "\n",
              "          const docLinkHtml = 'Like what you see? Visit the ' +\n",
              "            '<a target=\"_blank\" href=https://colab.research.google.com/notebooks/data_table.ipynb>data table notebook</a>'\n",
              "            + ' to learn more about interactive tables.';\n",
              "          element.innerHTML = '';\n",
              "          dataTable['output_type'] = 'display_data';\n",
              "          await google.colab.output.renderOutput(dataTable, element);\n",
              "          const docLink = document.createElement('div');\n",
              "          docLink.innerHTML = docLinkHtml;\n",
              "          element.appendChild(docLink);\n",
              "        }\n",
              "      </script>\n",
              "    </div>\n",
              "  </div>\n",
              "  "
            ]
          },
          "metadata": {},
          "execution_count": 5
        }
      ],
      "source": [
        "word_dict_A = dict.fromkeys(word_set, 0)\n",
        "word_dict_B = dict.fromkeys(word_set, 0)\n",
        "word_dict_C = dict.fromkeys(word_set, 0)\n",
        "\n",
        "for word in l_A:\n",
        "    word_dict_A[word] += 1\n",
        "\n",
        "for word in l_B:\n",
        "    word_dict_B[word] += 1\n",
        "\n",
        "for word in l_C:\n",
        "    word_dict_C[word] += 1\n",
        "\n",
        "pd.DataFrame([word_dict_A, word_dict_B, word_dict_C])"
      ]
    },
    {
      "cell_type": "markdown",
      "metadata": {
        "id": "2bbcsusSBMxm"
      },
      "source": [
        "## \\#4 tf - term frequency\n",
        "In the case of the term frequency $tf(t,d)$, the simplest choice is to use the raw count of a term in a string. \n",
        "$${\\displaystyle \\mathrm {tf} (t,d)={\\frac {n_{t}}{\\sum _{k}n_{k}}}} $$\n",
        "where $n_t$ is the number of occurrences of the word $t$ in the string, and in the denominator - the total number of words in this string."
      ]
    },
    {
      "cell_type": "code",
      "execution_count": null,
      "metadata": {
        "id": "-1DZHyDrBMxm"
      },
      "outputs": [],
      "source": [
        "def compute_tf(word_dict, l):\n",
        "    tf = {}\n",
        "    sum_nk = len(l)\n",
        "    for word, count in word_dict.items():\n",
        "        tf[word] = count/sum_nk\n",
        "    return tf"
      ]
    },
    {
      "cell_type": "code",
      "execution_count": null,
      "metadata": {
        "id": "YGNUzwi0BMxn"
      },
      "outputs": [],
      "source": [
        "tf_A = compute_tf(word_dict_A, l_A)\n",
        "tf_B = compute_tf(word_dict_B, l_B)\n",
        "tf_C = compute_tf(word_dict_C, l_C)"
      ]
    },
    {
      "cell_type": "markdown",
      "metadata": {
        "id": "ur2mCeufBMxn"
      },
      "source": [
        "## \\#5 idf - inverse document frequency\n",
        "idf is a measure of how much information the word provides\n",
        "$$ \\mathrm{idf}(t, D) =  \\log \\frac{N}{|\\{d \\in D: t \\in d\\}|} $$\n",
        "- $N$: total number of strings in the corpus ${\\displaystyle N={|D|}}$\n",
        "- ${\\displaystyle |\\{d\\in D:t\\in d\\}|}$  : number of strings where the term ${\\displaystyle t}$ appears (i.e., ${\\displaystyle \\mathrm {tf} (t,d)\\neq 0})$. If the term is not in the corpus, this will lead to a division-by-zero. It is therefore common to adjust the denominator to ${\\displaystyle 1+|\\{d\\in D:t\\in d\\}|}$."
      ]
    },
    {
      "cell_type": "code",
      "execution_count": null,
      "metadata": {
        "id": "JMpIXL35BMxo"
      },
      "outputs": [],
      "source": [
        "def compute_idf(strings_list):\n",
        "    n = len(strings_list)\n",
        "    idf = dict.fromkeys(strings_list[0].keys(), 0)\n",
        "    for l in strings_list:\n",
        "        for word, count in l.items():\n",
        "            if count > 0:\n",
        "                idf[word] += 1\n",
        "    \n",
        "    for word, v in idf.items():\n",
        "        idf[word] = log(n / float(v))\n",
        "    return idf"
      ]
    },
    {
      "cell_type": "code",
      "execution_count": null,
      "metadata": {
        "id": "M6XSGAemBMxo"
      },
      "outputs": [],
      "source": [
        "idf = compute_idf([word_dict_A, word_dict_B, word_dict_C])"
      ]
    },
    {
      "cell_type": "markdown",
      "metadata": {
        "id": "G7F_Df6LBMxp"
      },
      "source": [
        "## \\# 6 tf-idf\n",
        "Then tf–idf is calculated as\n",
        "$$ {\\displaystyle \\mathrm {tfidf} (t,d,D)=\\mathrm {tf} (t,d)\\cdot \\mathrm {idf} (t,D)} $$"
      ]
    },
    {
      "cell_type": "code",
      "execution_count": null,
      "metadata": {
        "id": "ZbYoN4MqBMxp"
      },
      "outputs": [],
      "source": [
        "def compute_tf_idf(tf, idf):\n",
        "    tf_idf = dict.fromkeys(tf.keys(), 0)\n",
        "    for word, v in tf.items():\n",
        "        tf_idf[word] = v * idf[word]\n",
        "    return tf_idf"
      ]
    },
    {
      "cell_type": "code",
      "execution_count": null,
      "metadata": {
        "id": "17pV911MBMxq"
      },
      "outputs": [],
      "source": [
        "tf_idf_A = compute_tf_idf(tf_A, idf)\n",
        "tf_idf_B = compute_tf_idf(tf_B, idf)\n",
        "tf_idf_C = compute_tf_idf(tf_C, idf)"
      ]
    },
    {
      "cell_type": "code",
      "execution_count": null,
      "metadata": {
        "colab": {
          "base_uri": "https://localhost:8080/",
          "height": 207
        },
        "id": "SgLvmhWVBMxq",
        "outputId": "cdcf8bc9-5f67-420c-f603-a0f13a6d188a"
      },
      "outputs": [
        {
          "output_type": "execute_result",
          "data": {
            "text/plain": [
              "   example      dogs    cheese  simple  with     mouse   another      cats  \\\n",
              "0      0.0  0.000000  0.000000     0.0   0.0  0.067578  0.000000  0.067578   \n",
              "1      0.0  0.156945  0.000000     0.0   0.0  0.000000  0.057924  0.057924   \n",
              "2      0.0  0.000000  0.156945     0.0   0.0  0.057924  0.057924  0.000000   \n",
              "\n",
              "   and  \n",
              "0  0.0  \n",
              "1  0.0  \n",
              "2  0.0  "
            ],
            "text/html": [
              "\n",
              "  <div id=\"df-37d4b4ac-fdc9-4268-9aaa-816768cba180\">\n",
              "    <div class=\"colab-df-container\">\n",
              "      <div>\n",
              "<style scoped>\n",
              "    .dataframe tbody tr th:only-of-type {\n",
              "        vertical-align: middle;\n",
              "    }\n",
              "\n",
              "    .dataframe tbody tr th {\n",
              "        vertical-align: top;\n",
              "    }\n",
              "\n",
              "    .dataframe thead th {\n",
              "        text-align: right;\n",
              "    }\n",
              "</style>\n",
              "<table border=\"1\" class=\"dataframe\">\n",
              "  <thead>\n",
              "    <tr style=\"text-align: right;\">\n",
              "      <th></th>\n",
              "      <th>example</th>\n",
              "      <th>dogs</th>\n",
              "      <th>cheese</th>\n",
              "      <th>simple</th>\n",
              "      <th>with</th>\n",
              "      <th>mouse</th>\n",
              "      <th>another</th>\n",
              "      <th>cats</th>\n",
              "      <th>and</th>\n",
              "    </tr>\n",
              "  </thead>\n",
              "  <tbody>\n",
              "    <tr>\n",
              "      <th>0</th>\n",
              "      <td>0.0</td>\n",
              "      <td>0.000000</td>\n",
              "      <td>0.000000</td>\n",
              "      <td>0.0</td>\n",
              "      <td>0.0</td>\n",
              "      <td>0.067578</td>\n",
              "      <td>0.000000</td>\n",
              "      <td>0.067578</td>\n",
              "      <td>0.0</td>\n",
              "    </tr>\n",
              "    <tr>\n",
              "      <th>1</th>\n",
              "      <td>0.0</td>\n",
              "      <td>0.156945</td>\n",
              "      <td>0.000000</td>\n",
              "      <td>0.0</td>\n",
              "      <td>0.0</td>\n",
              "      <td>0.000000</td>\n",
              "      <td>0.057924</td>\n",
              "      <td>0.057924</td>\n",
              "      <td>0.0</td>\n",
              "    </tr>\n",
              "    <tr>\n",
              "      <th>2</th>\n",
              "      <td>0.0</td>\n",
              "      <td>0.000000</td>\n",
              "      <td>0.156945</td>\n",
              "      <td>0.0</td>\n",
              "      <td>0.0</td>\n",
              "      <td>0.057924</td>\n",
              "      <td>0.057924</td>\n",
              "      <td>0.000000</td>\n",
              "      <td>0.0</td>\n",
              "    </tr>\n",
              "  </tbody>\n",
              "</table>\n",
              "</div>\n",
              "      <button class=\"colab-df-convert\" onclick=\"convertToInteractive('df-37d4b4ac-fdc9-4268-9aaa-816768cba180')\"\n",
              "              title=\"Convert this dataframe to an interactive table.\"\n",
              "              style=\"display:none;\">\n",
              "        \n",
              "  <svg xmlns=\"http://www.w3.org/2000/svg\" height=\"24px\"viewBox=\"0 0 24 24\"\n",
              "       width=\"24px\">\n",
              "    <path d=\"M0 0h24v24H0V0z\" fill=\"none\"/>\n",
              "    <path d=\"M18.56 5.44l.94 2.06.94-2.06 2.06-.94-2.06-.94-.94-2.06-.94 2.06-2.06.94zm-11 1L8.5 8.5l.94-2.06 2.06-.94-2.06-.94L8.5 2.5l-.94 2.06-2.06.94zm10 10l.94 2.06.94-2.06 2.06-.94-2.06-.94-.94-2.06-.94 2.06-2.06.94z\"/><path d=\"M17.41 7.96l-1.37-1.37c-.4-.4-.92-.59-1.43-.59-.52 0-1.04.2-1.43.59L10.3 9.45l-7.72 7.72c-.78.78-.78 2.05 0 2.83L4 21.41c.39.39.9.59 1.41.59.51 0 1.02-.2 1.41-.59l7.78-7.78 2.81-2.81c.8-.78.8-2.07 0-2.86zM5.41 20L4 18.59l7.72-7.72 1.47 1.35L5.41 20z\"/>\n",
              "  </svg>\n",
              "      </button>\n",
              "      \n",
              "  <style>\n",
              "    .colab-df-container {\n",
              "      display:flex;\n",
              "      flex-wrap:wrap;\n",
              "      gap: 12px;\n",
              "    }\n",
              "\n",
              "    .colab-df-convert {\n",
              "      background-color: #E8F0FE;\n",
              "      border: none;\n",
              "      border-radius: 50%;\n",
              "      cursor: pointer;\n",
              "      display: none;\n",
              "      fill: #1967D2;\n",
              "      height: 32px;\n",
              "      padding: 0 0 0 0;\n",
              "      width: 32px;\n",
              "    }\n",
              "\n",
              "    .colab-df-convert:hover {\n",
              "      background-color: #E2EBFA;\n",
              "      box-shadow: 0px 1px 2px rgba(60, 64, 67, 0.3), 0px 1px 3px 1px rgba(60, 64, 67, 0.15);\n",
              "      fill: #174EA6;\n",
              "    }\n",
              "\n",
              "    [theme=dark] .colab-df-convert {\n",
              "      background-color: #3B4455;\n",
              "      fill: #D2E3FC;\n",
              "    }\n",
              "\n",
              "    [theme=dark] .colab-df-convert:hover {\n",
              "      background-color: #434B5C;\n",
              "      box-shadow: 0px 1px 3px 1px rgba(0, 0, 0, 0.15);\n",
              "      filter: drop-shadow(0px 1px 2px rgba(0, 0, 0, 0.3));\n",
              "      fill: #FFFFFF;\n",
              "    }\n",
              "  </style>\n",
              "\n",
              "      <script>\n",
              "        const buttonEl =\n",
              "          document.querySelector('#df-37d4b4ac-fdc9-4268-9aaa-816768cba180 button.colab-df-convert');\n",
              "        buttonEl.style.display =\n",
              "          google.colab.kernel.accessAllowed ? 'block' : 'none';\n",
              "\n",
              "        async function convertToInteractive(key) {\n",
              "          const element = document.querySelector('#df-37d4b4ac-fdc9-4268-9aaa-816768cba180');\n",
              "          const dataTable =\n",
              "            await google.colab.kernel.invokeFunction('convertToInteractive',\n",
              "                                                     [key], {});\n",
              "          if (!dataTable) return;\n",
              "\n",
              "          const docLinkHtml = 'Like what you see? Visit the ' +\n",
              "            '<a target=\"_blank\" href=https://colab.research.google.com/notebooks/data_table.ipynb>data table notebook</a>'\n",
              "            + ' to learn more about interactive tables.';\n",
              "          element.innerHTML = '';\n",
              "          dataTable['output_type'] = 'display_data';\n",
              "          await google.colab.output.renderOutput(dataTable, element);\n",
              "          const docLink = document.createElement('div');\n",
              "          docLink.innerHTML = docLinkHtml;\n",
              "          element.appendChild(docLink);\n",
              "        }\n",
              "      </script>\n",
              "    </div>\n",
              "  </div>\n",
              "  "
            ]
          },
          "metadata": {},
          "execution_count": 12
        }
      ],
      "source": [
        "pd.DataFrame([tf_idf_A, tf_idf_B, tf_idf_C])"
      ]
    },
    {
      "cell_type": "markdown",
      "metadata": {
        "id": "CDARtz-RBMxr"
      },
      "source": [
        "# For clustering we must use tf-idf weights\n"
      ]
    },
    {
      "cell_type": "code",
      "execution_count": null,
      "metadata": {
        "id": "OrP5Blh7BMxr"
      },
      "outputs": [],
      "source": [
        "from sklearn.feature_extraction.text import TfidfVectorizer\n",
        "from sklearn.cluster import KMeans"
      ]
    },
    {
      "cell_type": "markdown",
      "metadata": {
        "id": "rF26oIGTBMxr"
      },
      "source": [
        "## Full text for clusterring\n",
        "\n",
        "This corpus contain some news strings about Google and some strings about TF-IDF from Wikipedia. Just for example"
      ]
    },
    {
      "cell_type": "code",
      "execution_count": null,
      "metadata": {
        "id": "6roP7dx-BMxr"
      },
      "outputs": [],
      "source": [
        "all_text = \"\"\"\n",
        "Google and Facebook are strangling the free press to death. Democracy is the loser\n",
        "Your 60-second guide to security stuff Google touted today at Next '18\n",
        "A Guide to Using Android Without Selling Your Soul to Google\n",
        "Review: Lenovo’s Google Smart Display is pretty and intelligent\n",
        "Google Maps user spots mysterious object submerged off the coast of Greece - and no-one knows what it is\n",
        "Android is better than IOS\n",
        "In information retrieval, tf–idf or TFIDF, short for term frequency–inverse document frequency\n",
        "is a numerical statistic that is intended to reflect\n",
        "how important a word is to a document in a collection or corpus.\n",
        "It is often used as a weighting factor in searches of information retrieval\n",
        "text mining, and user modeling. The tf-idf value increases proportionally\n",
        "to the number of times a word appears in the document\n",
        "and is offset by the frequency of the word in the corpus\n",
        "\"\"\".split(\"\\n\")[1:-1]"
      ]
    },
    {
      "cell_type": "markdown",
      "metadata": {
        "id": "XMpe-1qZBMxs"
      },
      "source": [
        "## Preprocessing and tokenizing\n",
        "Firstly, we must bring every chars to lowercase and remove all punctuation, because it's not important for our task, but is very harmful for clustering algorithm. \n",
        "After that, we'll split strings to array of words."
      ]
    },
    {
      "cell_type": "code",
      "execution_count": null,
      "metadata": {
        "id": "96SGOINcBMxs"
      },
      "outputs": [],
      "source": [
        "def preprocessing(line):\n",
        "    line = line.lower()\n",
        "    line = re.sub(r\"[{}]\".format(string.punctuation), \" \", line)\n",
        "    return line"
      ]
    },
    {
      "cell_type": "markdown",
      "metadata": {
        "id": "7u2Ju1tpBMxs"
      },
      "source": [
        "Now, let's calculate tf-idf for this corpus"
      ]
    },
    {
      "cell_type": "code",
      "execution_count": null,
      "metadata": {
        "id": "v4vyIwWTBMxt"
      },
      "outputs": [],
      "source": [
        "tfidf_vectorizer = TfidfVectorizer(preprocessor=preprocessing)\n",
        "tfidf = tfidf_vectorizer.fit_transform(all_text)"
      ]
    },
    {
      "cell_type": "markdown",
      "metadata": {
        "id": "6EyQqSkeBMxt"
      },
      "source": [
        "And train simple kmeans model with k = 2"
      ]
    },
    {
      "cell_type": "code",
      "execution_count": null,
      "metadata": {
        "id": "YakQ7P9fBMxt"
      },
      "outputs": [],
      "source": [
        "kmeans = KMeans(n_clusters=2).fit(tfidf)"
      ]
    },
    {
      "cell_type": "markdown",
      "metadata": {
        "id": "2btl3qNMBMxt"
      },
      "source": [
        "Predictions"
      ]
    },
    {
      "cell_type": "code",
      "execution_count": null,
      "metadata": {
        "colab": {
          "base_uri": "https://localhost:8080/"
        },
        "id": "P5wc5qs6BMxt",
        "outputId": "ae6f15a3-bb86-4b7f-a928-571abeeeb4b5"
      },
      "outputs": [
        {
          "output_type": "execute_result",
          "data": {
            "text/plain": [
              "array([1, 0, 1, 1], dtype=int32)"
            ]
          },
          "metadata": {},
          "execution_count": 18
        }
      ],
      "source": [
        "lines_for_predicting = [\"tf and idf is awesome!\", \"some androids is there\", \"how important a word is to a document\",\"frequency of the word in the corpus\"]\n",
        "kmeans.predict(tfidf_vectorizer.transform(lines_for_predicting))"
      ]
    },
    {
      "cell_type": "code",
      "execution_count": null,
      "metadata": {
        "id": "-0kUFO0EBMxt"
      },
      "outputs": [],
      "source": [
        ""
      ]
    }
  ],
  "metadata": {
    "kernelspec": {
      "display_name": "Python 3",
      "language": "python",
      "name": "python3"
    },
    "language_info": {
      "codemirror_mode": {
        "name": "ipython",
        "version": 3
      },
      "file_extension": ".py",
      "mimetype": "text/x-python",
      "name": "python",
      "nbconvert_exporter": "python",
      "pygments_lexer": "ipython3",
      "version": "3.6.5"
    },
    "colab": {
      "name": "IRS_P7_20BCE529.ipynb",
      "provenance": []
    }
  },
  "nbformat": 4,
  "nbformat_minor": 0
}