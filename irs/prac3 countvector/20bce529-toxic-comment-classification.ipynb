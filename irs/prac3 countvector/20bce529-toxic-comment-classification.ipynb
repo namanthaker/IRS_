{
 "cells": [
  {
   "cell_type": "code",
   "execution_count": 1,
   "id": "b35d8c9e",
   "metadata": {
    "execution": {
     "iopub.execute_input": "2022-03-11T05:28:13.793204Z",
     "iopub.status.busy": "2022-03-11T05:28:13.792424Z",
     "iopub.status.idle": "2022-03-11T05:28:19.975902Z",
     "shell.execute_reply": "2022-03-11T05:28:19.975313Z",
     "shell.execute_reply.started": "2022-03-11T05:16:27.847724Z"
    },
    "papermill": {
     "duration": 6.22733,
     "end_time": "2022-03-11T05:28:19.976085",
     "exception": false,
     "start_time": "2022-03-11T05:28:13.748755",
     "status": "completed"
    },
    "tags": []
   },
   "outputs": [],
   "source": [
    "import pandas as pd \n",
    "import  matplotlib.pyplot as plt\n",
    "import numpy as np \n",
    "import tensorflow as tf\n",
    "import keras\n",
    "import re\n",
    "import string\n",
    "import nltk\n",
    "from nltk.corpus import stopwords\n",
    "from nltk.stem.porter import PorterStemmer\n",
    "from wordcloud import WordCloud\n",
    "from nltk.stem.snowball import SnowballStemmer\n",
    "from sklearn.model_selection import train_test_split\n",
    "import pickle\n",
    "import xgboost as xgb\n",
    "from sklearn.linear_model import LogisticRegression\n",
    "from sklearn.naive_bayes import MultinomialNB\n",
    "from sklearn import metrics\n",
    "from sklearn.metrics import roc_auc_score , accuracy_score , confusion_matrix , f1_score\n",
    "from sklearn.multiclass import OneVsRestClassifier\n",
    "from skmultilearn.problem_transform import BinaryRelevance\n",
    "from sklearn.feature_extraction.text import TfidfVectorizer\n"
   ]
  },
  {
   "cell_type": "code",
   "execution_count": 2,
   "id": "6d002e5b",
   "metadata": {
    "execution": {
     "iopub.execute_input": "2022-03-11T05:28:20.043180Z",
     "iopub.status.busy": "2022-03-11T05:28:20.042597Z",
     "iopub.status.idle": "2022-03-11T05:28:21.709300Z",
     "shell.execute_reply": "2022-03-11T05:28:21.708795Z",
     "shell.execute_reply.started": "2022-03-11T05:16:35.153548Z"
    },
    "papermill": {
     "duration": 1.702529,
     "end_time": "2022-03-11T05:28:21.709424",
     "exception": false,
     "start_time": "2022-03-11T05:28:20.006895",
     "status": "completed"
    },
    "tags": []
   },
   "outputs": [],
   "source": [
    "train_data  =  pd.read_csv('../input/jigsaw-toxic-comment-classification-challenge/train.csv.zip')"
   ]
  },
  {
   "cell_type": "code",
   "execution_count": 3,
   "id": "a5804ec0",
   "metadata": {
    "execution": {
     "iopub.execute_input": "2022-03-11T05:28:21.774067Z",
     "iopub.status.busy": "2022-03-11T05:28:21.772504Z",
     "iopub.status.idle": "2022-03-11T05:28:23.232652Z",
     "shell.execute_reply": "2022-03-11T05:28:23.232139Z",
     "shell.execute_reply.started": "2022-03-11T05:16:37.145582Z"
    },
    "papermill": {
     "duration": 1.492708,
     "end_time": "2022-03-11T05:28:23.232788",
     "exception": false,
     "start_time": "2022-03-11T05:28:21.740080",
     "status": "completed"
    },
    "tags": []
   },
   "outputs": [],
   "source": [
    "test_data  =  pd.read_csv('../input/jigsaw-toxic-comment-classification-challenge/test.csv.zip')"
   ]
  },
  {
   "cell_type": "code",
   "execution_count": 4,
   "id": "cc8b4626",
   "metadata": {
    "execution": {
     "iopub.execute_input": "2022-03-11T05:28:23.304004Z",
     "iopub.status.busy": "2022-03-11T05:28:23.303454Z",
     "iopub.status.idle": "2022-03-11T05:28:23.484353Z",
     "shell.execute_reply": "2022-03-11T05:28:23.483437Z",
     "shell.execute_reply.started": "2022-03-11T05:16:38.767203Z"
    },
    "papermill": {
     "duration": 0.215042,
     "end_time": "2022-03-11T05:28:23.484492",
     "exception": false,
     "start_time": "2022-03-11T05:28:23.269450",
     "status": "completed"
    },
    "tags": []
   },
   "outputs": [],
   "source": [
    "test_target =  pd.read_csv('../input/jigsaw-toxic-comment-classification-challenge/test_labels.csv.zip')"
   ]
  },
  {
   "cell_type": "code",
   "execution_count": 5,
   "id": "6f01c481",
   "metadata": {
    "execution": {
     "iopub.execute_input": "2022-03-11T05:28:23.554185Z",
     "iopub.status.busy": "2022-03-11T05:28:23.553369Z",
     "iopub.status.idle": "2022-03-11T05:28:23.566999Z",
     "shell.execute_reply": "2022-03-11T05:28:23.567443Z",
     "shell.execute_reply.started": "2022-03-11T05:16:39.073871Z"
    },
    "papermill": {
     "duration": 0.051684,
     "end_time": "2022-03-11T05:28:23.567571",
     "exception": false,
     "start_time": "2022-03-11T05:28:23.515887",
     "status": "completed"
    },
    "tags": []
   },
   "outputs": [
    {
     "data": {
      "text/html": [
       "<div>\n",
       "<style scoped>\n",
       "    .dataframe tbody tr th:only-of-type {\n",
       "        vertical-align: middle;\n",
       "    }\n",
       "\n",
       "    .dataframe tbody tr th {\n",
       "        vertical-align: top;\n",
       "    }\n",
       "\n",
       "    .dataframe thead th {\n",
       "        text-align: right;\n",
       "    }\n",
       "</style>\n",
       "<table border=\"1\" class=\"dataframe\">\n",
       "  <thead>\n",
       "    <tr style=\"text-align: right;\">\n",
       "      <th></th>\n",
       "      <th>id</th>\n",
       "      <th>comment_text</th>\n",
       "      <th>toxic</th>\n",
       "      <th>severe_toxic</th>\n",
       "      <th>obscene</th>\n",
       "      <th>threat</th>\n",
       "      <th>insult</th>\n",
       "      <th>identity_hate</th>\n",
       "    </tr>\n",
       "  </thead>\n",
       "  <tbody>\n",
       "    <tr>\n",
       "      <th>0</th>\n",
       "      <td>0000997932d777bf</td>\n",
       "      <td>Explanation\\nWhy the edits made under my usern...</td>\n",
       "      <td>0</td>\n",
       "      <td>0</td>\n",
       "      <td>0</td>\n",
       "      <td>0</td>\n",
       "      <td>0</td>\n",
       "      <td>0</td>\n",
       "    </tr>\n",
       "    <tr>\n",
       "      <th>1</th>\n",
       "      <td>000103f0d9cfb60f</td>\n",
       "      <td>D'aww! He matches this background colour I'm s...</td>\n",
       "      <td>0</td>\n",
       "      <td>0</td>\n",
       "      <td>0</td>\n",
       "      <td>0</td>\n",
       "      <td>0</td>\n",
       "      <td>0</td>\n",
       "    </tr>\n",
       "    <tr>\n",
       "      <th>2</th>\n",
       "      <td>000113f07ec002fd</td>\n",
       "      <td>Hey man, I'm really not trying to edit war. It...</td>\n",
       "      <td>0</td>\n",
       "      <td>0</td>\n",
       "      <td>0</td>\n",
       "      <td>0</td>\n",
       "      <td>0</td>\n",
       "      <td>0</td>\n",
       "    </tr>\n",
       "    <tr>\n",
       "      <th>3</th>\n",
       "      <td>0001b41b1c6bb37e</td>\n",
       "      <td>\"\\nMore\\nI can't make any real suggestions on ...</td>\n",
       "      <td>0</td>\n",
       "      <td>0</td>\n",
       "      <td>0</td>\n",
       "      <td>0</td>\n",
       "      <td>0</td>\n",
       "      <td>0</td>\n",
       "    </tr>\n",
       "    <tr>\n",
       "      <th>4</th>\n",
       "      <td>0001d958c54c6e35</td>\n",
       "      <td>You, sir, are my hero. Any chance you remember...</td>\n",
       "      <td>0</td>\n",
       "      <td>0</td>\n",
       "      <td>0</td>\n",
       "      <td>0</td>\n",
       "      <td>0</td>\n",
       "      <td>0</td>\n",
       "    </tr>\n",
       "  </tbody>\n",
       "</table>\n",
       "</div>"
      ],
      "text/plain": [
       "                 id                                       comment_text  toxic  \\\n",
       "0  0000997932d777bf  Explanation\\nWhy the edits made under my usern...      0   \n",
       "1  000103f0d9cfb60f  D'aww! He matches this background colour I'm s...      0   \n",
       "2  000113f07ec002fd  Hey man, I'm really not trying to edit war. It...      0   \n",
       "3  0001b41b1c6bb37e  \"\\nMore\\nI can't make any real suggestions on ...      0   \n",
       "4  0001d958c54c6e35  You, sir, are my hero. Any chance you remember...      0   \n",
       "\n",
       "   severe_toxic  obscene  threat  insult  identity_hate  \n",
       "0             0        0       0       0              0  \n",
       "1             0        0       0       0              0  \n",
       "2             0        0       0       0              0  \n",
       "3             0        0       0       0              0  \n",
       "4             0        0       0       0              0  "
      ]
     },
     "execution_count": 5,
     "metadata": {},
     "output_type": "execute_result"
    }
   ],
   "source": [
    "train_data.head()"
   ]
  },
  {
   "cell_type": "code",
   "execution_count": 6,
   "id": "bdb9196a",
   "metadata": {
    "execution": {
     "iopub.execute_input": "2022-03-11T05:28:23.637899Z",
     "iopub.status.busy": "2022-03-11T05:28:23.637297Z",
     "iopub.status.idle": "2022-03-11T05:28:23.640072Z",
     "shell.execute_reply": "2022-03-11T05:28:23.640478Z",
     "shell.execute_reply.started": "2022-03-11T05:16:39.113693Z"
    },
    "papermill": {
     "duration": 0.041979,
     "end_time": "2022-03-11T05:28:23.640605",
     "exception": false,
     "start_time": "2022-03-11T05:28:23.598626",
     "status": "completed"
    },
    "tags": []
   },
   "outputs": [
    {
     "data": {
      "text/html": [
       "<div>\n",
       "<style scoped>\n",
       "    .dataframe tbody tr th:only-of-type {\n",
       "        vertical-align: middle;\n",
       "    }\n",
       "\n",
       "    .dataframe tbody tr th {\n",
       "        vertical-align: top;\n",
       "    }\n",
       "\n",
       "    .dataframe thead th {\n",
       "        text-align: right;\n",
       "    }\n",
       "</style>\n",
       "<table border=\"1\" class=\"dataframe\">\n",
       "  <thead>\n",
       "    <tr style=\"text-align: right;\">\n",
       "      <th></th>\n",
       "      <th>id</th>\n",
       "      <th>comment_text</th>\n",
       "    </tr>\n",
       "  </thead>\n",
       "  <tbody>\n",
       "    <tr>\n",
       "      <th>0</th>\n",
       "      <td>00001cee341fdb12</td>\n",
       "      <td>Yo bitch Ja Rule is more succesful then you'll...</td>\n",
       "    </tr>\n",
       "    <tr>\n",
       "      <th>1</th>\n",
       "      <td>0000247867823ef7</td>\n",
       "      <td>== From RfC == \\n\\n The title is fine as it is...</td>\n",
       "    </tr>\n",
       "    <tr>\n",
       "      <th>2</th>\n",
       "      <td>00013b17ad220c46</td>\n",
       "      <td>\" \\n\\n == Sources == \\n\\n * Zawe Ashton on Lap...</td>\n",
       "    </tr>\n",
       "    <tr>\n",
       "      <th>3</th>\n",
       "      <td>00017563c3f7919a</td>\n",
       "      <td>:If you have a look back at the source, the in...</td>\n",
       "    </tr>\n",
       "    <tr>\n",
       "      <th>4</th>\n",
       "      <td>00017695ad8997eb</td>\n",
       "      <td>I don't anonymously edit articles at all.</td>\n",
       "    </tr>\n",
       "  </tbody>\n",
       "</table>\n",
       "</div>"
      ],
      "text/plain": [
       "                 id                                       comment_text\n",
       "0  00001cee341fdb12  Yo bitch Ja Rule is more succesful then you'll...\n",
       "1  0000247867823ef7  == From RfC == \\n\\n The title is fine as it is...\n",
       "2  00013b17ad220c46  \" \\n\\n == Sources == \\n\\n * Zawe Ashton on Lap...\n",
       "3  00017563c3f7919a  :If you have a look back at the source, the in...\n",
       "4  00017695ad8997eb          I don't anonymously edit articles at all."
      ]
     },
     "execution_count": 6,
     "metadata": {},
     "output_type": "execute_result"
    }
   ],
   "source": [
    "test_data.head()"
   ]
  },
  {
   "cell_type": "code",
   "execution_count": 7,
   "id": "2cec5fdd",
   "metadata": {
    "execution": {
     "iopub.execute_input": "2022-03-11T05:28:23.712733Z",
     "iopub.status.busy": "2022-03-11T05:28:23.711578Z",
     "iopub.status.idle": "2022-03-11T05:28:23.715318Z",
     "shell.execute_reply": "2022-03-11T05:28:23.715713Z",
     "shell.execute_reply.started": "2022-03-11T05:16:39.135230Z"
    },
    "papermill": {
     "duration": 0.043845,
     "end_time": "2022-03-11T05:28:23.715836",
     "exception": false,
     "start_time": "2022-03-11T05:28:23.671991",
     "status": "completed"
    },
    "tags": []
   },
   "outputs": [
    {
     "data": {
      "text/html": [
       "<div>\n",
       "<style scoped>\n",
       "    .dataframe tbody tr th:only-of-type {\n",
       "        vertical-align: middle;\n",
       "    }\n",
       "\n",
       "    .dataframe tbody tr th {\n",
       "        vertical-align: top;\n",
       "    }\n",
       "\n",
       "    .dataframe thead th {\n",
       "        text-align: right;\n",
       "    }\n",
       "</style>\n",
       "<table border=\"1\" class=\"dataframe\">\n",
       "  <thead>\n",
       "    <tr style=\"text-align: right;\">\n",
       "      <th></th>\n",
       "      <th>id</th>\n",
       "      <th>toxic</th>\n",
       "      <th>severe_toxic</th>\n",
       "      <th>obscene</th>\n",
       "      <th>threat</th>\n",
       "      <th>insult</th>\n",
       "      <th>identity_hate</th>\n",
       "    </tr>\n",
       "  </thead>\n",
       "  <tbody>\n",
       "    <tr>\n",
       "      <th>0</th>\n",
       "      <td>00001cee341fdb12</td>\n",
       "      <td>-1</td>\n",
       "      <td>-1</td>\n",
       "      <td>-1</td>\n",
       "      <td>-1</td>\n",
       "      <td>-1</td>\n",
       "      <td>-1</td>\n",
       "    </tr>\n",
       "    <tr>\n",
       "      <th>1</th>\n",
       "      <td>0000247867823ef7</td>\n",
       "      <td>-1</td>\n",
       "      <td>-1</td>\n",
       "      <td>-1</td>\n",
       "      <td>-1</td>\n",
       "      <td>-1</td>\n",
       "      <td>-1</td>\n",
       "    </tr>\n",
       "    <tr>\n",
       "      <th>2</th>\n",
       "      <td>00013b17ad220c46</td>\n",
       "      <td>-1</td>\n",
       "      <td>-1</td>\n",
       "      <td>-1</td>\n",
       "      <td>-1</td>\n",
       "      <td>-1</td>\n",
       "      <td>-1</td>\n",
       "    </tr>\n",
       "    <tr>\n",
       "      <th>3</th>\n",
       "      <td>00017563c3f7919a</td>\n",
       "      <td>-1</td>\n",
       "      <td>-1</td>\n",
       "      <td>-1</td>\n",
       "      <td>-1</td>\n",
       "      <td>-1</td>\n",
       "      <td>-1</td>\n",
       "    </tr>\n",
       "    <tr>\n",
       "      <th>4</th>\n",
       "      <td>00017695ad8997eb</td>\n",
       "      <td>-1</td>\n",
       "      <td>-1</td>\n",
       "      <td>-1</td>\n",
       "      <td>-1</td>\n",
       "      <td>-1</td>\n",
       "      <td>-1</td>\n",
       "    </tr>\n",
       "  </tbody>\n",
       "</table>\n",
       "</div>"
      ],
      "text/plain": [
       "                 id  toxic  severe_toxic  obscene  threat  insult  \\\n",
       "0  00001cee341fdb12     -1            -1       -1      -1      -1   \n",
       "1  0000247867823ef7     -1            -1       -1      -1      -1   \n",
       "2  00013b17ad220c46     -1            -1       -1      -1      -1   \n",
       "3  00017563c3f7919a     -1            -1       -1      -1      -1   \n",
       "4  00017695ad8997eb     -1            -1       -1      -1      -1   \n",
       "\n",
       "   identity_hate  \n",
       "0             -1  \n",
       "1             -1  \n",
       "2             -1  \n",
       "3             -1  \n",
       "4             -1  "
      ]
     },
     "execution_count": 7,
     "metadata": {},
     "output_type": "execute_result"
    }
   ],
   "source": [
    "test_target.head()"
   ]
  },
  {
   "cell_type": "code",
   "execution_count": 8,
   "id": "abc0cc81",
   "metadata": {
    "execution": {
     "iopub.execute_input": "2022-03-11T05:28:23.783861Z",
     "iopub.status.busy": "2022-03-11T05:28:23.783336Z",
     "iopub.status.idle": "2022-03-11T05:28:23.786523Z",
     "shell.execute_reply": "2022-03-11T05:28:23.786896Z",
     "shell.execute_reply.started": "2022-03-11T05:16:39.173146Z"
    },
    "papermill": {
     "duration": 0.039476,
     "end_time": "2022-03-11T05:28:23.787051",
     "exception": false,
     "start_time": "2022-03-11T05:28:23.747575",
     "status": "completed"
    },
    "tags": []
   },
   "outputs": [
    {
     "data": {
      "text/plain": [
       "153164"
      ]
     },
     "execution_count": 8,
     "metadata": {},
     "output_type": "execute_result"
    }
   ],
   "source": [
    "len(test_data)"
   ]
  },
  {
   "cell_type": "code",
   "execution_count": 9,
   "id": "3639c17e",
   "metadata": {
    "execution": {
     "iopub.execute_input": "2022-03-11T05:28:23.855277Z",
     "iopub.status.busy": "2022-03-11T05:28:23.854652Z",
     "iopub.status.idle": "2022-03-11T05:28:23.857266Z",
     "shell.execute_reply": "2022-03-11T05:28:23.857683Z",
     "shell.execute_reply.started": "2022-03-11T05:16:39.191720Z"
    },
    "papermill": {
     "duration": 0.039022,
     "end_time": "2022-03-11T05:28:23.857804",
     "exception": false,
     "start_time": "2022-03-11T05:28:23.818782",
     "status": "completed"
    },
    "tags": []
   },
   "outputs": [
    {
     "data": {
      "text/plain": [
       "159571"
      ]
     },
     "execution_count": 9,
     "metadata": {},
     "output_type": "execute_result"
    }
   ],
   "source": [
    "len(train_data)"
   ]
  },
  {
   "cell_type": "code",
   "execution_count": 10,
   "id": "d64dbf31",
   "metadata": {
    "execution": {
     "iopub.execute_input": "2022-03-11T05:28:23.928513Z",
     "iopub.status.busy": "2022-03-11T05:28:23.928001Z",
     "iopub.status.idle": "2022-03-11T05:28:23.932799Z",
     "shell.execute_reply": "2022-03-11T05:28:23.932374Z",
     "shell.execute_reply.started": "2022-03-11T05:16:39.215421Z"
    },
    "papermill": {
     "duration": 0.042625,
     "end_time": "2022-03-11T05:28:23.932905",
     "exception": false,
     "start_time": "2022-03-11T05:28:23.890280",
     "status": "completed"
    },
    "tags": []
   },
   "outputs": [
    {
     "data": {
      "text/plain": [
       "153164"
      ]
     },
     "execution_count": 10,
     "metadata": {},
     "output_type": "execute_result"
    }
   ],
   "source": [
    "len(test_target)"
   ]
  },
  {
   "cell_type": "code",
   "execution_count": 11,
   "id": "895bbdae",
   "metadata": {
    "execution": {
     "iopub.execute_input": "2022-03-11T05:28:24.039538Z",
     "iopub.status.busy": "2022-03-11T05:28:24.038753Z",
     "iopub.status.idle": "2022-03-11T05:28:24.045670Z",
     "shell.execute_reply": "2022-03-11T05:28:24.045266Z",
     "shell.execute_reply.started": "2022-03-11T05:16:39.231146Z"
    },
    "papermill": {
     "duration": 0.080072,
     "end_time": "2022-03-11T05:28:24.045781",
     "exception": false,
     "start_time": "2022-03-11T05:28:23.965709",
     "status": "completed"
    },
    "tags": []
   },
   "outputs": [
    {
     "data": {
      "text/plain": [
       "id               0\n",
       "comment_text     0\n",
       "toxic            0\n",
       "severe_toxic     0\n",
       "obscene          0\n",
       "threat           0\n",
       "insult           0\n",
       "identity_hate    0\n",
       "dtype: int64"
      ]
     },
     "execution_count": 11,
     "metadata": {},
     "output_type": "execute_result"
    }
   ],
   "source": [
    "train_data.isnull().sum()"
   ]
  },
  {
   "cell_type": "code",
   "execution_count": 12,
   "id": "db2ba6e7",
   "metadata": {
    "execution": {
     "iopub.execute_input": "2022-03-11T05:28:24.128470Z",
     "iopub.status.busy": "2022-03-11T05:28:24.115837Z",
     "iopub.status.idle": "2022-03-11T05:28:24.162961Z",
     "shell.execute_reply": "2022-03-11T05:28:24.162493Z",
     "shell.execute_reply.started": "2022-03-11T05:16:39.323393Z"
    },
    "papermill": {
     "duration": 0.083589,
     "end_time": "2022-03-11T05:28:24.163083",
     "exception": false,
     "start_time": "2022-03-11T05:28:24.079494",
     "status": "completed"
    },
    "tags": []
   },
   "outputs": [
    {
     "data": {
      "text/html": [
       "<div>\n",
       "<style scoped>\n",
       "    .dataframe tbody tr th:only-of-type {\n",
       "        vertical-align: middle;\n",
       "    }\n",
       "\n",
       "    .dataframe tbody tr th {\n",
       "        vertical-align: top;\n",
       "    }\n",
       "\n",
       "    .dataframe thead th {\n",
       "        text-align: right;\n",
       "    }\n",
       "</style>\n",
       "<table border=\"1\" class=\"dataframe\">\n",
       "  <thead>\n",
       "    <tr style=\"text-align: right;\">\n",
       "      <th></th>\n",
       "      <th>toxic</th>\n",
       "      <th>severe_toxic</th>\n",
       "      <th>obscene</th>\n",
       "      <th>threat</th>\n",
       "      <th>insult</th>\n",
       "      <th>identity_hate</th>\n",
       "    </tr>\n",
       "  </thead>\n",
       "  <tbody>\n",
       "    <tr>\n",
       "      <th>count</th>\n",
       "      <td>159571.000000</td>\n",
       "      <td>159571.000000</td>\n",
       "      <td>159571.000000</td>\n",
       "      <td>159571.000000</td>\n",
       "      <td>159571.000000</td>\n",
       "      <td>159571.000000</td>\n",
       "    </tr>\n",
       "    <tr>\n",
       "      <th>mean</th>\n",
       "      <td>0.095844</td>\n",
       "      <td>0.009996</td>\n",
       "      <td>0.052948</td>\n",
       "      <td>0.002996</td>\n",
       "      <td>0.049364</td>\n",
       "      <td>0.008805</td>\n",
       "    </tr>\n",
       "    <tr>\n",
       "      <th>std</th>\n",
       "      <td>0.294379</td>\n",
       "      <td>0.099477</td>\n",
       "      <td>0.223931</td>\n",
       "      <td>0.054650</td>\n",
       "      <td>0.216627</td>\n",
       "      <td>0.093420</td>\n",
       "    </tr>\n",
       "    <tr>\n",
       "      <th>min</th>\n",
       "      <td>0.000000</td>\n",
       "      <td>0.000000</td>\n",
       "      <td>0.000000</td>\n",
       "      <td>0.000000</td>\n",
       "      <td>0.000000</td>\n",
       "      <td>0.000000</td>\n",
       "    </tr>\n",
       "    <tr>\n",
       "      <th>25%</th>\n",
       "      <td>0.000000</td>\n",
       "      <td>0.000000</td>\n",
       "      <td>0.000000</td>\n",
       "      <td>0.000000</td>\n",
       "      <td>0.000000</td>\n",
       "      <td>0.000000</td>\n",
       "    </tr>\n",
       "    <tr>\n",
       "      <th>50%</th>\n",
       "      <td>0.000000</td>\n",
       "      <td>0.000000</td>\n",
       "      <td>0.000000</td>\n",
       "      <td>0.000000</td>\n",
       "      <td>0.000000</td>\n",
       "      <td>0.000000</td>\n",
       "    </tr>\n",
       "    <tr>\n",
       "      <th>75%</th>\n",
       "      <td>0.000000</td>\n",
       "      <td>0.000000</td>\n",
       "      <td>0.000000</td>\n",
       "      <td>0.000000</td>\n",
       "      <td>0.000000</td>\n",
       "      <td>0.000000</td>\n",
       "    </tr>\n",
       "    <tr>\n",
       "      <th>max</th>\n",
       "      <td>1.000000</td>\n",
       "      <td>1.000000</td>\n",
       "      <td>1.000000</td>\n",
       "      <td>1.000000</td>\n",
       "      <td>1.000000</td>\n",
       "      <td>1.000000</td>\n",
       "    </tr>\n",
       "  </tbody>\n",
       "</table>\n",
       "</div>"
      ],
      "text/plain": [
       "               toxic   severe_toxic        obscene         threat  \\\n",
       "count  159571.000000  159571.000000  159571.000000  159571.000000   \n",
       "mean        0.095844       0.009996       0.052948       0.002996   \n",
       "std         0.294379       0.099477       0.223931       0.054650   \n",
       "min         0.000000       0.000000       0.000000       0.000000   \n",
       "25%         0.000000       0.000000       0.000000       0.000000   \n",
       "50%         0.000000       0.000000       0.000000       0.000000   \n",
       "75%         0.000000       0.000000       0.000000       0.000000   \n",
       "max         1.000000       1.000000       1.000000       1.000000   \n",
       "\n",
       "              insult  identity_hate  \n",
       "count  159571.000000  159571.000000  \n",
       "mean        0.049364       0.008805  \n",
       "std         0.216627       0.093420  \n",
       "min         0.000000       0.000000  \n",
       "25%         0.000000       0.000000  \n",
       "50%         0.000000       0.000000  \n",
       "75%         0.000000       0.000000  \n",
       "max         1.000000       1.000000  "
      ]
     },
     "execution_count": 12,
     "metadata": {},
     "output_type": "execute_result"
    }
   ],
   "source": [
    "train_data.describe()"
   ]
  },
  {
   "cell_type": "code",
   "execution_count": 13,
   "id": "cefe830f",
   "metadata": {
    "execution": {
     "iopub.execute_input": "2022-03-11T05:28:24.241158Z",
     "iopub.status.busy": "2022-03-11T05:28:24.240261Z",
     "iopub.status.idle": "2022-03-11T05:28:24.248616Z",
     "shell.execute_reply": "2022-03-11T05:28:24.247931Z",
     "shell.execute_reply.started": "2022-03-11T05:16:39.417375Z"
    },
    "papermill": {
     "duration": 0.051477,
     "end_time": "2022-03-11T05:28:24.248737",
     "exception": false,
     "start_time": "2022-03-11T05:28:24.197260",
     "status": "completed"
    },
    "tags": []
   },
   "outputs": [
    {
     "name": "stdout",
     "output_type": "stream",
     "text": [
      "Percent of toxics:  9.58 %\n",
      "Percent of severe_toxics:  1.0 %\n",
      "Percent of obscenes:  5.29 %\n",
      "Percent of threats:  0.3 %\n",
      "Percent of insults:  4.94 %\n",
      "Percent of identity_hates:  0.88 %\n"
     ]
    }
   ],
   "source": [
    "comments = train_data.drop(['id','comment_text'],axis = 1)\n",
    "for i in comments.columns :\n",
    "    print(\"Percent of {0}s: \".format(i), round(100*comments[i].mean(),2), \"%\")\n"
   ]
  },
  {
   "cell_type": "code",
   "execution_count": 14,
   "id": "ac7b643e",
   "metadata": {
    "execution": {
     "iopub.execute_input": "2022-03-11T05:28:24.321414Z",
     "iopub.status.busy": "2022-03-11T05:28:24.320862Z",
     "iopub.status.idle": "2022-03-11T05:28:24.325851Z",
     "shell.execute_reply": "2022-03-11T05:28:24.325420Z",
     "shell.execute_reply.started": "2022-03-11T05:16:39.448477Z"
    },
    "papermill": {
     "duration": 0.043224,
     "end_time": "2022-03-11T05:28:24.325985",
     "exception": false,
     "start_time": "2022-03-11T05:28:24.282761",
     "status": "completed"
    },
    "tags": []
   },
   "outputs": [],
   "source": [
    "classes = {}\n",
    "for i in list(comments.columns):\n",
    "    classes[i] =  comments[i].sum()\n",
    "n_classes = [classes[i] for i in list(classes.keys())]\n",
    "classes = list(classes.keys())"
   ]
  },
  {
   "cell_type": "code",
   "execution_count": 15,
   "id": "cce2ab21",
   "metadata": {
    "execution": {
     "iopub.execute_input": "2022-03-11T05:28:24.402123Z",
     "iopub.status.busy": "2022-03-11T05:28:24.400096Z",
     "iopub.status.idle": "2022-03-11T05:28:24.609016Z",
     "shell.execute_reply": "2022-03-11T05:28:24.608560Z",
     "shell.execute_reply.started": "2022-03-11T05:16:39.467417Z"
    },
    "papermill": {
     "duration": 0.249416,
     "end_time": "2022-03-11T05:28:24.609149",
     "exception": false,
     "start_time": "2022-03-11T05:28:24.359733",
     "status": "completed"
    },
    "tags": []
   },
   "outputs": [
    {
     "data": {
      "text/plain": [
       "<BarContainer object of 6 artists>"
      ]
     },
     "execution_count": 15,
     "metadata": {},
     "output_type": "execute_result"
    },
    {
     "data": {
      "text/plain": [
       "<Figure size 864x864 with 0 Axes>"
      ]
     },
     "metadata": {},
     "output_type": "display_data"
    },
    {
     "data": {
      "image/png": "[encoded data removed]",
      "text/plain": [
       "<Figure size 432x288 with 1 Axes>"
      ]
     },
     "metadata": {
      "needs_background": "light"
     },
     "output_type": "display_data"
    }
   ],
   "source": [
    "color = ['red','blue','green','yellow','black','orange']\n",
    "plt.figure(figsize=(12,12))\n",
    "fig, ax = plt.subplots()\n",
    "ax.bar(classes,n_classes,color = color)"
   ]
  },
  {
   "cell_type": "code",
   "execution_count": 16,
   "id": "ec72ff14",
   "metadata": {
    "execution": {
     "iopub.execute_input": "2022-03-11T05:28:24.682830Z",
     "iopub.status.busy": "2022-03-11T05:28:24.681984Z",
     "iopub.status.idle": "2022-03-11T05:28:24.692351Z",
     "shell.execute_reply": "2022-03-11T05:28:24.691896Z",
     "shell.execute_reply.started": "2022-03-11T05:16:39.769651Z"
    },
    "papermill": {
     "duration": 0.048071,
     "end_time": "2022-03-11T05:28:24.692465",
     "exception": false,
     "start_time": "2022-03-11T05:28:24.644394",
     "status": "completed"
    },
    "tags": []
   },
   "outputs": [],
   "source": [
    "def  clean_text(text):\n",
    "    text =  text.lower()\n",
    "    text = re.sub(r\"i'm\", \"i am\", text)\n",
    "    text = re.sub(r\"\\r\", \"\", text)\n",
    "    text = re.sub(r\"he's\", \"he is\", text)\n",
    "    text = re.sub(r\"she's\", \"she is\", text)\n",
    "    text = re.sub(r\"it's\", \"it is\", text)\n",
    "    text = re.sub(r\"that's\", \"that is\", text)\n",
    "    text = re.sub(r\"what's\", \"that is\", text)\n",
    "    text = re.sub(r\"where's\", \"where is\", text)\n",
    "    text = re.sub(r\"how's\", \"how is\", text)\n",
    "    text = re.sub(r\"\\'ll\", \" will\", text)\n",
    "    text = re.sub(r\"\\'ve\", \" have\", text)\n",
    "    text = re.sub(r\"\\'re\", \" are\", text)\n",
    "    text = re.sub(r\"\\'d\", \" would\", text)\n",
    "    text = re.sub(r\"\\'re\", \" are\", text)\n",
    "    text = re.sub(r\"won't\", \"will not\", text)\n",
    "    text = re.sub(r\"can't\", \"cannot\", text)\n",
    "    text = re.sub(r\"n't\", \" not\", text)\n",
    "    text = re.sub(r\"n'\", \"ng\", text)\n",
    "    text = re.sub(r\"'bout\", \"about\", text)\n",
    "    text = re.sub(r\"'til\", \"until\", text)\n",
    "    text = re.sub(r\"[-()\\\"#/@;:<>{}`+=~|.!?,]\", \"\", text)\n",
    "    text = text.translate(str.maketrans('', '', string.punctuation)) \n",
    "    text = re.sub(\"(\\\\W)\",\" \",text) \n",
    "    text = re.sub('\\S*\\d\\S*\\s*','', text)\n",
    "    \n",
    "    return text"
   ]
  },
  {
   "cell_type": "code",
   "execution_count": 17,
   "id": "de8cdf25",
   "metadata": {
    "execution": {
     "iopub.execute_input": "2022-03-11T05:28:24.769652Z",
     "iopub.status.busy": "2022-03-11T05:28:24.768835Z",
     "iopub.status.idle": "2022-03-11T05:28:52.882241Z",
     "shell.execute_reply": "2022-03-11T05:28:52.881714Z",
     "shell.execute_reply.started": "2022-03-11T05:16:39.785828Z"
    },
    "papermill": {
     "duration": 28.154455,
     "end_time": "2022-03-11T05:28:52.882389",
     "exception": false,
     "start_time": "2022-03-11T05:28:24.727934",
     "status": "completed"
    },
    "tags": []
   },
   "outputs": [],
   "source": [
    "\n",
    "train_data.comment_text = train_data.comment_text.apply(clean_text)"
   ]
  },
  {
   "cell_type": "code",
   "execution_count": 18,
   "id": "8ec011ea",
   "metadata": {
    "execution": {
     "iopub.execute_input": "2022-03-11T05:28:52.964545Z",
     "iopub.status.busy": "2022-03-11T05:28:52.963875Z",
     "iopub.status.idle": "2022-03-11T05:28:52.966684Z",
     "shell.execute_reply": "2022-03-11T05:28:52.967116Z",
     "shell.execute_reply.started": "2022-03-11T05:17:09.993708Z"
    },
    "papermill": {
     "duration": 0.048153,
     "end_time": "2022-03-11T05:28:52.967252",
     "exception": false,
     "start_time": "2022-03-11T05:28:52.919099",
     "status": "completed"
    },
    "tags": []
   },
   "outputs": [
    {
     "data": {
      "text/html": [
       "<div>\n",
       "<style scoped>\n",
       "    .dataframe tbody tr th:only-of-type {\n",
       "        vertical-align: middle;\n",
       "    }\n",
       "\n",
       "    .dataframe tbody tr th {\n",
       "        vertical-align: top;\n",
       "    }\n",
       "\n",
       "    .dataframe thead th {\n",
       "        text-align: right;\n",
       "    }\n",
       "</style>\n",
       "<table border=\"1\" class=\"dataframe\">\n",
       "  <thead>\n",
       "    <tr style=\"text-align: right;\">\n",
       "      <th></th>\n",
       "      <th>id</th>\n",
       "      <th>comment_text</th>\n",
       "      <th>toxic</th>\n",
       "      <th>severe_toxic</th>\n",
       "      <th>obscene</th>\n",
       "      <th>threat</th>\n",
       "      <th>insult</th>\n",
       "      <th>identity_hate</th>\n",
       "    </tr>\n",
       "  </thead>\n",
       "  <tbody>\n",
       "    <tr>\n",
       "      <th>0</th>\n",
       "      <td>0000997932d777bf</td>\n",
       "      <td>explanation why the edits made under my userna...</td>\n",
       "      <td>0</td>\n",
       "      <td>0</td>\n",
       "      <td>0</td>\n",
       "      <td>0</td>\n",
       "      <td>0</td>\n",
       "      <td>0</td>\n",
       "    </tr>\n",
       "    <tr>\n",
       "      <th>1</th>\n",
       "      <td>000103f0d9cfb60f</td>\n",
       "      <td>daww he matches this background colour i am se...</td>\n",
       "      <td>0</td>\n",
       "      <td>0</td>\n",
       "      <td>0</td>\n",
       "      <td>0</td>\n",
       "      <td>0</td>\n",
       "      <td>0</td>\n",
       "    </tr>\n",
       "    <tr>\n",
       "      <th>2</th>\n",
       "      <td>000113f07ec002fd</td>\n",
       "      <td>hey man i am really not trying to edit war it ...</td>\n",
       "      <td>0</td>\n",
       "      <td>0</td>\n",
       "      <td>0</td>\n",
       "      <td>0</td>\n",
       "      <td>0</td>\n",
       "      <td>0</td>\n",
       "    </tr>\n",
       "    <tr>\n",
       "      <th>3</th>\n",
       "      <td>0001b41b1c6bb37e</td>\n",
       "      <td>more i cannot make any real suggestions on im...</td>\n",
       "      <td>0</td>\n",
       "      <td>0</td>\n",
       "      <td>0</td>\n",
       "      <td>0</td>\n",
       "      <td>0</td>\n",
       "      <td>0</td>\n",
       "    </tr>\n",
       "    <tr>\n",
       "      <th>4</th>\n",
       "      <td>0001d958c54c6e35</td>\n",
       "      <td>you sir are my hero any chance you remember wh...</td>\n",
       "      <td>0</td>\n",
       "      <td>0</td>\n",
       "      <td>0</td>\n",
       "      <td>0</td>\n",
       "      <td>0</td>\n",
       "      <td>0</td>\n",
       "    </tr>\n",
       "  </tbody>\n",
       "</table>\n",
       "</div>"
      ],
      "text/plain": [
       "                 id                                       comment_text  toxic  \\\n",
       "0  0000997932d777bf  explanation why the edits made under my userna...      0   \n",
       "1  000103f0d9cfb60f  daww he matches this background colour i am se...      0   \n",
       "2  000113f07ec002fd  hey man i am really not trying to edit war it ...      0   \n",
       "3  0001b41b1c6bb37e   more i cannot make any real suggestions on im...      0   \n",
       "4  0001d958c54c6e35  you sir are my hero any chance you remember wh...      0   \n",
       "\n",
       "   severe_toxic  obscene  threat  insult  identity_hate  \n",
       "0             0        0       0       0              0  \n",
       "1             0        0       0       0              0  \n",
       "2             0        0       0       0              0  \n",
       "3             0        0       0       0              0  \n",
       "4             0        0       0       0              0  "
      ]
     },
     "execution_count": 18,
     "metadata": {},
     "output_type": "execute_result"
    }
   ],
   "source": [
    "train_data.head()"
   ]
  },
  {
   "cell_type": "code",
   "execution_count": 19,
   "id": "20aa15db",
   "metadata": {
    "execution": {
     "iopub.execute_input": "2022-03-11T05:28:53.051567Z",
     "iopub.status.busy": "2022-03-11T05:28:53.044475Z",
     "iopub.status.idle": "2022-03-11T05:28:53.169101Z",
     "shell.execute_reply": "2022-03-11T05:28:53.169510Z",
     "shell.execute_reply.started": "2022-03-11T05:17:10.010279Z"
    },
    "papermill": {
     "duration": 0.166932,
     "end_time": "2022-03-11T05:28:53.169660",
     "exception": false,
     "start_time": "2022-03-11T05:28:53.002728",
     "status": "completed"
    },
    "tags": []
   },
   "outputs": [
    {
     "name": "stdout",
     "output_type": "stream",
     "text": [
      "[nltk_data] Downloading package stopwords to /usr/share/nltk_data...\n",
      "[nltk_data]   Package stopwords is already up-to-date!\n"
     ]
    }
   ],
   "source": [
    "nltk.download('stopwords')\n",
    "sn = SnowballStemmer(language='english')\n",
    "\n",
    "\n",
    "def stemmer(text):\n",
    "    words =  text.split()\n",
    "    train = [sn.stem(word) for word in words if not word in set(stopwords.words('english'))]\n",
    "    return ' '.join(train)"
   ]
  },
  {
   "cell_type": "code",
   "execution_count": 20,
   "id": "513fcd1d",
   "metadata": {
    "execution": {
     "iopub.execute_input": "2022-03-11T05:28:53.260586Z",
     "iopub.status.busy": "2022-03-11T05:28:53.257293Z",
     "iopub.status.idle": "2022-03-11T05:52:14.825694Z",
     "shell.execute_reply": "2022-03-11T05:52:14.825187Z",
     "shell.execute_reply.started": "2022-03-11T05:21:49.621764Z"
    },
    "papermill": {
     "duration": 1401.617078,
     "end_time": "2022-03-11T05:52:14.825830",
     "exception": false,
     "start_time": "2022-03-11T05:28:53.208752",
     "status": "completed"
    },
    "tags": []
   },
   "outputs": [],
   "source": [
    "train_data.comment_text = train_data.comment_text.apply(stemmer)"
   ]
  },
  {
   "cell_type": "code",
   "execution_count": 21,
   "id": "6e530cf9",
   "metadata": {
    "execution": {
     "iopub.execute_input": "2022-03-11T05:52:14.905733Z",
     "iopub.status.busy": "2022-03-11T05:52:14.905109Z",
     "iopub.status.idle": "2022-03-11T05:52:14.907731Z",
     "shell.execute_reply": "2022-03-11T05:52:14.908160Z",
     "shell.execute_reply.started": "2022-03-11T05:21:43.720484Z"
    },
    "papermill": {
     "duration": 0.045282,
     "end_time": "2022-03-11T05:52:14.908292",
     "exception": false,
     "start_time": "2022-03-11T05:52:14.863010",
     "status": "completed"
    },
    "tags": []
   },
   "outputs": [
    {
     "data": {
      "text/plain": [
       "0    explan edit made usernam hardcor metallica fan...\n",
       "1    daww match background colour seem stuck thank ...\n",
       "2    hey man realli tri edit war guy constant remov...\n",
       "3    cannot make real suggest improv wonder section...\n",
       "4                           sir hero chanc rememb page\n",
       "Name: comment_text, dtype: object"
      ]
     },
     "execution_count": 21,
     "metadata": {},
     "output_type": "execute_result"
    }
   ],
   "source": [
    "train_data.comment_text.head()"
   ]
  },
  {
   "cell_type": "code",
   "execution_count": 22,
   "id": "732388de",
   "metadata": {
    "execution": {
     "iopub.execute_input": "2022-03-11T05:52:14.987133Z",
     "iopub.status.busy": "2022-03-11T05:52:14.986357Z",
     "iopub.status.idle": "2022-03-11T05:52:15.362747Z",
     "shell.execute_reply": "2022-03-11T05:52:15.363176Z",
     "shell.execute_reply.started": "2022-03-11T05:21:43.722702Z"
    },
    "papermill": {
     "duration": 0.418071,
     "end_time": "2022-03-11T05:52:15.363322",
     "exception": false,
     "start_time": "2022-03-11T05:52:14.945251",
     "status": "completed"
    },
    "tags": []
   },
   "outputs": [
    {
     "data": {
      "image/png": "[encoded data removed]",
      "text/plain": [
       "<Figure size 720x432 with 1 Axes>"
      ]
     },
     "metadata": {
      "needs_background": "light"
     },
     "output_type": "display_data"
    }
   ],
   "source": [
    "wordcloud = WordCloud(stopwords=stopwords.words('english'),max_words=50).generate(str(train_data.comment_text))\n",
    "plt.figure(figsize=(10,6))\n",
    "plt.imshow(wordcloud)\n",
    "plt.axis('off')\n",
    "plt.show()"
   ]
  },
  {
   "cell_type": "code",
   "execution_count": 23,
   "id": "0af7ca63",
   "metadata": {
    "execution": {
     "iopub.execute_input": "2022-03-11T05:52:15.456062Z",
     "iopub.status.busy": "2022-03-11T05:52:15.455480Z",
     "iopub.status.idle": "2022-03-11T05:52:15.459018Z",
     "shell.execute_reply": "2022-03-11T05:52:15.458514Z",
     "shell.execute_reply.started": "2022-03-11T05:21:43.725519Z"
    },
    "papermill": {
     "duration": 0.054624,
     "end_time": "2022-03-11T05:52:15.459136",
     "exception": false,
     "start_time": "2022-03-11T05:52:15.404512",
     "status": "completed"
    },
    "tags": []
   },
   "outputs": [],
   "source": [
    "x =  train_data.comment_text\n",
    "y =  train_data.drop(['id','comment_text'],axis = 1)"
   ]
  },
  {
   "cell_type": "code",
   "execution_count": 24,
   "id": "92f04111",
   "metadata": {
    "execution": {
     "iopub.execute_input": "2022-03-11T05:52:15.544857Z",
     "iopub.status.busy": "2022-03-11T05:52:15.544097Z",
     "iopub.status.idle": "2022-03-11T05:52:15.572751Z",
     "shell.execute_reply": "2022-03-11T05:52:15.572306Z",
     "shell.execute_reply.started": "2022-03-11T05:21:43.727657Z"
    },
    "papermill": {
     "duration": 0.071826,
     "end_time": "2022-03-11T05:52:15.572870",
     "exception": false,
     "start_time": "2022-03-11T05:52:15.501044",
     "status": "completed"
    },
    "tags": []
   },
   "outputs": [],
   "source": [
    "x_train,x_test,y_train,y_test =  train_test_split(x,y,test_size = 0.2,random_state = 45)"
   ]
  },
  {
   "cell_type": "code",
   "execution_count": 25,
   "id": "7b193082",
   "metadata": {
    "execution": {
     "iopub.execute_input": "2022-03-11T05:52:15.661825Z",
     "iopub.status.busy": "2022-03-11T05:52:15.661247Z",
     "iopub.status.idle": "2022-03-11T05:52:15.663946Z",
     "shell.execute_reply": "2022-03-11T05:52:15.664367Z",
     "shell.execute_reply.started": "2022-03-11T05:21:43.730011Z"
    },
    "papermill": {
     "duration": 0.050846,
     "end_time": "2022-03-11T05:52:15.664501",
     "exception": false,
     "start_time": "2022-03-11T05:52:15.613655",
     "status": "completed"
    },
    "tags": []
   },
   "outputs": [
    {
     "data": {
      "text/plain": [
       "9162      anteced etc technic manual page encyclopaedia ...\n",
       "87716                          redirect talkrepubl survivor\n",
       "63837     possibl imag hi patrick take look httpbroadsid...\n",
       "148939    happi new year dheyward classplainlink dheywar...\n",
       "30008          nobodi said coi remov content clear referenc\n",
       "                                ...                        \n",
       "81853                                                messag\n",
       "143967    attack attack name synchrocat seem respons edi...\n",
       "60960     ban spot even bother give warn never contribut...\n",
       "137084    preced unsign comment ad talk contrib june utc...\n",
       "137630    dear yamla sorri misunderstand dont know els c...\n",
       "Name: comment_text, Length: 127656, dtype: object"
      ]
     },
     "execution_count": 25,
     "metadata": {},
     "output_type": "execute_result"
    }
   ],
   "source": [
    "x_train"
   ]
  },
  {
   "cell_type": "code",
   "execution_count": 26,
   "id": "d2be7691",
   "metadata": {
    "execution": {
     "iopub.execute_input": "2022-03-11T05:52:15.749853Z",
     "iopub.status.busy": "2022-03-11T05:52:15.749084Z",
     "iopub.status.idle": "2022-03-11T05:52:15.759726Z",
     "shell.execute_reply": "2022-03-11T05:52:15.760157Z",
     "shell.execute_reply.started": "2022-03-11T05:21:43.732641Z"
    },
    "papermill": {
     "duration": 0.054942,
     "end_time": "2022-03-11T05:52:15.760292",
     "exception": false,
     "start_time": "2022-03-11T05:52:15.705350",
     "status": "completed"
    },
    "tags": []
   },
   "outputs": [
    {
     "data": {
      "text/html": [
       "<div>\n",
       "<style scoped>\n",
       "    .dataframe tbody tr th:only-of-type {\n",
       "        vertical-align: middle;\n",
       "    }\n",
       "\n",
       "    .dataframe tbody tr th {\n",
       "        vertical-align: top;\n",
       "    }\n",
       "\n",
       "    .dataframe thead th {\n",
       "        text-align: right;\n",
       "    }\n",
       "</style>\n",
       "<table border=\"1\" class=\"dataframe\">\n",
       "  <thead>\n",
       "    <tr style=\"text-align: right;\">\n",
       "      <th></th>\n",
       "      <th>toxic</th>\n",
       "      <th>severe_toxic</th>\n",
       "      <th>obscene</th>\n",
       "      <th>threat</th>\n",
       "      <th>insult</th>\n",
       "      <th>identity_hate</th>\n",
       "    </tr>\n",
       "  </thead>\n",
       "  <tbody>\n",
       "    <tr>\n",
       "      <th>9162</th>\n",
       "      <td>0</td>\n",
       "      <td>0</td>\n",
       "      <td>0</td>\n",
       "      <td>0</td>\n",
       "      <td>0</td>\n",
       "      <td>0</td>\n",
       "    </tr>\n",
       "    <tr>\n",
       "      <th>87716</th>\n",
       "      <td>0</td>\n",
       "      <td>0</td>\n",
       "      <td>0</td>\n",
       "      <td>0</td>\n",
       "      <td>0</td>\n",
       "      <td>0</td>\n",
       "    </tr>\n",
       "    <tr>\n",
       "      <th>63837</th>\n",
       "      <td>0</td>\n",
       "      <td>0</td>\n",
       "      <td>0</td>\n",
       "      <td>0</td>\n",
       "      <td>0</td>\n",
       "      <td>0</td>\n",
       "    </tr>\n",
       "    <tr>\n",
       "      <th>148939</th>\n",
       "      <td>0</td>\n",
       "      <td>0</td>\n",
       "      <td>0</td>\n",
       "      <td>0</td>\n",
       "      <td>0</td>\n",
       "      <td>0</td>\n",
       "    </tr>\n",
       "    <tr>\n",
       "      <th>30008</th>\n",
       "      <td>0</td>\n",
       "      <td>0</td>\n",
       "      <td>0</td>\n",
       "      <td>0</td>\n",
       "      <td>0</td>\n",
       "      <td>0</td>\n",
       "    </tr>\n",
       "    <tr>\n",
       "      <th>...</th>\n",
       "      <td>...</td>\n",
       "      <td>...</td>\n",
       "      <td>...</td>\n",
       "      <td>...</td>\n",
       "      <td>...</td>\n",
       "      <td>...</td>\n",
       "    </tr>\n",
       "    <tr>\n",
       "      <th>81853</th>\n",
       "      <td>0</td>\n",
       "      <td>0</td>\n",
       "      <td>0</td>\n",
       "      <td>0</td>\n",
       "      <td>0</td>\n",
       "      <td>0</td>\n",
       "    </tr>\n",
       "    <tr>\n",
       "      <th>143967</th>\n",
       "      <td>0</td>\n",
       "      <td>0</td>\n",
       "      <td>0</td>\n",
       "      <td>0</td>\n",
       "      <td>0</td>\n",
       "      <td>0</td>\n",
       "    </tr>\n",
       "    <tr>\n",
       "      <th>60960</th>\n",
       "      <td>0</td>\n",
       "      <td>0</td>\n",
       "      <td>0</td>\n",
       "      <td>0</td>\n",
       "      <td>0</td>\n",
       "      <td>0</td>\n",
       "    </tr>\n",
       "    <tr>\n",
       "      <th>137084</th>\n",
       "      <td>0</td>\n",
       "      <td>0</td>\n",
       "      <td>0</td>\n",
       "      <td>0</td>\n",
       "      <td>0</td>\n",
       "      <td>0</td>\n",
       "    </tr>\n",
       "    <tr>\n",
       "      <th>137630</th>\n",
       "      <td>0</td>\n",
       "      <td>0</td>\n",
       "      <td>0</td>\n",
       "      <td>0</td>\n",
       "      <td>0</td>\n",
       "      <td>0</td>\n",
       "    </tr>\n",
       "  </tbody>\n",
       "</table>\n",
       "<p>127656 rows × 6 columns</p>\n",
       "</div>"
      ],
      "text/plain": [
       "        toxic  severe_toxic  obscene  threat  insult  identity_hate\n",
       "9162        0             0        0       0       0              0\n",
       "87716       0             0        0       0       0              0\n",
       "63837       0             0        0       0       0              0\n",
       "148939      0             0        0       0       0              0\n",
       "30008       0             0        0       0       0              0\n",
       "...       ...           ...      ...     ...     ...            ...\n",
       "81853       0             0        0       0       0              0\n",
       "143967      0             0        0       0       0              0\n",
       "60960       0             0        0       0       0              0\n",
       "137084      0             0        0       0       0              0\n",
       "137630      0             0        0       0       0              0\n",
       "\n",
       "[127656 rows x 6 columns]"
      ]
     },
     "execution_count": 26,
     "metadata": {},
     "output_type": "execute_result"
    }
   ],
   "source": [
    "y_train"
   ]
  },
  {
   "cell_type": "code",
   "execution_count": 27,
   "id": "e1043114",
   "metadata": {
    "execution": {
     "iopub.execute_input": "2022-03-11T05:52:15.902298Z",
     "iopub.status.busy": "2022-03-11T05:52:15.887865Z",
     "iopub.status.idle": "2022-03-11T05:53:09.917355Z",
     "shell.execute_reply": "2022-03-11T05:53:09.916413Z",
     "shell.execute_reply.started": "2022-03-11T05:21:43.735090Z"
    },
    "papermill": {
     "duration": 54.11617,
     "end_time": "2022-03-11T05:53:09.917506",
     "exception": false,
     "start_time": "2022-03-11T05:52:15.801336",
     "status": "completed"
    },
    "tags": []
   },
   "outputs": [],
   "source": [
    "word_vectorizer = TfidfVectorizer(\n",
    "    strip_accents='unicode',     \n",
    "    analyzer='word',            \n",
    "    token_pattern=r'\\w{1,}',    \n",
    "    ngram_range=(1, 3),         \n",
    "    stop_words='english',\n",
    "    sublinear_tf=True)\n",
    "\n",
    "word_vectorizer.fit(x_train)    \n",
    "train_word_features = word_vectorizer.transform(x_train)"
   ]
  },
  {
   "cell_type": "code",
   "execution_count": 28,
   "id": "be160a2b",
   "metadata": {
    "execution": {
     "iopub.execute_input": "2022-03-11T05:53:10.014309Z",
     "iopub.status.busy": "2022-03-11T05:53:10.013492Z",
     "iopub.status.idle": "2022-03-11T05:53:28.610906Z",
     "shell.execute_reply": "2022-03-11T05:53:28.609858Z",
     "shell.execute_reply.started": "2022-03-11T05:21:43.737383Z"
    },
    "papermill": {
     "duration": 18.651571,
     "end_time": "2022-03-11T05:53:28.611076",
     "exception": false,
     "start_time": "2022-03-11T05:53:09.959505",
     "status": "completed"
    },
    "tags": []
   },
   "outputs": [],
   "source": [
    "X_train_transformed = word_vectorizer.transform(x_train)\n",
    "X_test_transformed = word_vectorizer.transform(x_test)"
   ]
  },
  {
   "cell_type": "code",
   "execution_count": 29,
   "id": "eeb99fef",
   "metadata": {
    "execution": {
     "iopub.execute_input": "2022-03-11T05:53:28.699552Z",
     "iopub.status.busy": "2022-03-11T05:53:28.698563Z",
     "iopub.status.idle": "2022-03-11T05:53:28.803745Z",
     "shell.execute_reply": "2022-03-11T05:53:28.804235Z",
     "shell.execute_reply.started": "2022-03-11T05:21:43.772609Z"
    },
    "papermill": {
     "duration": 0.151199,
     "end_time": "2022-03-11T05:53:28.804394",
     "exception": false,
     "start_time": "2022-03-11T05:53:28.653195",
     "status": "completed"
    },
    "tags": []
   },
   "outputs": [
    {
     "name": "stdout",
     "output_type": "stream",
     "text": [
      "  (0, 4519984)\t0.16254979022671487\n",
      "  (0, 4519982)\t0.12851811001523689\n",
      "  (0, 4502375)\t0.04091808252509931\n",
      "  (0, 4315832)\t0.04567361786893691\n",
      "  (0, 4207682)\t0.16254979022671487\n",
      "  (0, 4207680)\t0.1502036843858704\n",
      "  (0, 4207157)\t0.08495431931991004\n",
      "  (0, 4135267)\t0.16254979022671487\n",
      "  (0, 4135266)\t0.16254979022671487\n",
      "  (0, 4134118)\t0.07243925822538433\n",
      "  (0, 3924582)\t0.16254979022671487\n",
      "  (0, 3924581)\t0.16254979022671487\n",
      "  (0, 3923546)\t0.056561284231265184\n",
      "  (0, 3632377)\t0.16254979022671487\n",
      "  (0, 3632376)\t0.16254979022671487\n",
      "  (0, 3632368)\t0.13732911846254384\n",
      "  (0, 3261139)\t0.16254979022671487\n",
      "  (0, 3261138)\t0.16254979022671487\n",
      "  (0, 3259781)\t0.058045660204666755\n",
      "  (0, 2965651)\t0.16254979022671487\n",
      "  (0, 2965650)\t0.16254979022671487\n",
      "  (0, 2956522)\t0.035414984490323126\n",
      "  (0, 2535228)\t0.16254979022671487\n",
      "  (0, 2535227)\t0.15708655136012295\n",
      "  (0, 2535021)\t0.07759130531691433\n",
      "  :\t:\n",
      "  (127655, 2326865)\t0.10949707660587811\n",
      "  (127655, 2325452)\t0.0807368378202353\n",
      "  (127655, 2245344)\t0.1641448879172348\n",
      "  (127655, 2245339)\t0.12408218848844661\n",
      "  (127655, 2240997)\t0.04506174761915817\n",
      "  (127655, 1872385)\t0.1641448879172348\n",
      "  (127655, 1872384)\t0.1641448879172348\n",
      "  (127655, 1339793)\t0.1641448879172348\n",
      "  (127655, 1339778)\t0.13215154696550677\n",
      "  (127655, 1339094)\t0.06393258950811745\n",
      "  (127655, 1313306)\t0.1641448879172348\n",
      "  (127655, 1313305)\t0.1641448879172348\n",
      "  (127655, 1309375)\t0.054230767622010186\n",
      "  (127655, 1237088)\t0.15167762999808754\n",
      "  (127655, 1237037)\t0.0982874617227488\n",
      "  (127655, 1236193)\t0.07256114075271144\n",
      "  (127655, 1073538)\t0.1641448879172348\n",
      "  (127655, 1073537)\t0.1641448879172348\n",
      "  (127655, 1072242)\t0.0818629810217712\n",
      "  (127655, 817702)\t0.1641448879172348\n",
      "  (127655, 817701)\t0.1641448879172348\n",
      "  (127655, 812619)\t0.057716396705164034\n",
      "  (127655, 363971)\t0.1641448879172348\n",
      "  (127655, 363968)\t0.15471377137816952\n",
      "  (127655, 359886)\t0.06265144410292946\n"
     ]
    }
   ],
   "source": [
    "print(X_train_transformed)"
   ]
  },
  {
   "cell_type": "code",
   "execution_count": 30,
   "id": "e92aaf5f",
   "metadata": {
    "execution": {
     "iopub.execute_input": "2022-03-11T05:53:28.896732Z",
     "iopub.status.busy": "2022-03-11T05:53:28.895879Z",
     "iopub.status.idle": "2022-03-11T05:55:23.001751Z",
     "shell.execute_reply": "2022-03-11T05:55:23.002265Z",
     "shell.execute_reply.started": "2022-03-11T05:21:43.774826Z"
    },
    "papermill": {
     "duration": 114.155692,
     "end_time": "2022-03-11T05:55:23.002431",
     "exception": false,
     "start_time": "2022-03-11T05:53:28.846739",
     "status": "completed"
    },
    "tags": []
   },
   "outputs": [
    {
     "name": "stdout",
     "output_type": "stream",
     "text": [
      "ROC AUC Score Train: 0.9998057854773116\n",
      "ROC AUC Score Test: 0.9776951604870202\n"
     ]
    }
   ],
   "source": [
    "log_reg = LogisticRegression(C = 10, penalty='l2', solver = 'liblinear', random_state=45)\n",
    "\n",
    "classifier = OneVsRestClassifier(log_reg)\n",
    "classifier.fit(X_train_transformed, y_train)\n",
    "\n",
    "\n",
    "y_train_pred_proba = classifier.predict_proba(X_train_transformed)\n",
    "y_test_pred_proba = classifier.predict_proba(X_test_transformed)\n",
    "\n",
    "\n",
    "roc_auc_score_train = roc_auc_score(y_train, y_train_pred_proba,average='weighted')\n",
    "roc_auc_score_test = roc_auc_score(y_test, y_test_pred_proba,average='weighted')\n",
    "\n",
    "print(\"ROC AUC Score Train:\", roc_auc_score_train)\n",
    "print(\"ROC AUC Score Test:\", roc_auc_score_test)\n"
   ]
  },
  {
   "cell_type": "code",
   "execution_count": 31,
   "id": "63f9d230",
   "metadata": {
    "execution": {
     "iopub.execute_input": "2022-03-11T05:55:23.095994Z",
     "iopub.status.busy": "2022-03-11T05:55:23.095223Z",
     "iopub.status.idle": "2022-03-11T05:55:23.097682Z",
     "shell.execute_reply": "2022-03-11T05:55:23.097264Z",
     "shell.execute_reply.started": "2022-03-11T05:21:43.777162Z"
    },
    "papermill": {
     "duration": 0.050252,
     "end_time": "2022-03-11T05:55:23.097796",
     "exception": false,
     "start_time": "2022-03-11T05:55:23.047544",
     "status": "completed"
    },
    "tags": []
   },
   "outputs": [],
   "source": [
    "def make_test_predictions(df,classifier):\n",
    "    df.comment_text = df.comment_text.apply(clean_text)\n",
    "    df.comment_text = df.comment_text.apply(stemmer)\n",
    "    X_test = df.comment_text\n",
    "    X_test_transformed = word_vectorizer.transform(X_test)\n",
    "    y_test_pred = classifier.predict_proba(X_test_transformed)\n",
    "    return y_test_pred\n",
    "    #y_test_pred_df = pd.DataFrame(y_test_pred,columns=comments.columns) \n",
    "    #submission_df = pd.concat([df.id, y_test_pred_df], axis=1)\n",
    "    #submission_df.to_csv('submission.csv', index = False)\n",
    "    "
   ]
  },
  {
   "cell_type": "code",
   "execution_count": 32,
   "id": "8575e5d5",
   "metadata": {
    "execution": {
     "iopub.execute_input": "2022-03-11T05:55:23.185780Z",
     "iopub.status.busy": "2022-03-11T05:55:23.185008Z",
     "iopub.status.idle": "2022-03-11T05:55:23.187502Z",
     "shell.execute_reply": "2022-03-11T05:55:23.187107Z",
     "shell.execute_reply.started": "2022-03-11T05:21:43.779668Z"
    },
    "papermill": {
     "duration": 0.048292,
     "end_time": "2022-03-11T05:55:23.187611",
     "exception": false,
     "start_time": "2022-03-11T05:55:23.139319",
     "status": "completed"
    },
    "tags": []
   },
   "outputs": [],
   "source": [
    "xx ={'id':[565],'comment_text':['Shut up your mouth bitch']}\n",
    "xx = pd.DataFrame(xx)"
   ]
  },
  {
   "cell_type": "code",
   "execution_count": 33,
   "id": "40a54356",
   "metadata": {
    "execution": {
     "iopub.execute_input": "2022-03-11T05:55:23.344273Z",
     "iopub.status.busy": "2022-03-11T05:55:23.340103Z",
     "iopub.status.idle": "2022-03-11T05:55:23.490834Z",
     "shell.execute_reply": "2022-03-11T05:55:23.491826Z",
     "shell.execute_reply.started": "2022-03-11T05:21:43.781982Z"
    },
    "papermill": {
     "duration": 0.241073,
     "end_time": "2022-03-11T05:55:23.492049",
     "exception": false,
     "start_time": "2022-03-11T05:55:23.250976",
     "status": "completed"
    },
    "tags": []
   },
   "outputs": [
    {
     "data": {
      "text/plain": [
       "array([[0.99999983, 0.87949241, 0.99992886, 0.01799142, 0.9999273 ,\n",
       "        0.0640647 ]])"
      ]
     },
     "execution_count": 33,
     "metadata": {},
     "output_type": "execute_result"
    }
   ],
   "source": [
    "#test 1 \n",
    "make_test_predictions(xx,classifier)"
   ]
  },
  {
   "cell_type": "code",
   "execution_count": 34,
   "id": "1259f6f2",
   "metadata": {
    "execution": {
     "iopub.execute_input": "2022-03-11T05:55:23.639897Z",
     "iopub.status.busy": "2022-03-11T05:55:23.639027Z",
     "iopub.status.idle": "2022-03-11T05:55:23.641261Z",
     "shell.execute_reply": "2022-03-11T05:55:23.640613Z",
     "shell.execute_reply.started": "2022-03-11T05:21:43.784256Z"
    },
    "papermill": {
     "duration": 0.079392,
     "end_time": "2022-03-11T05:55:23.641415",
     "exception": false,
     "start_time": "2022-03-11T05:55:23.562023",
     "status": "completed"
    },
    "tags": []
   },
   "outputs": [],
   "source": [
    "xx ={'id':[565],'comment_text':['hi I am happy to be here']}\n",
    "xx = pd.DataFrame(xx)"
   ]
  },
  {
   "cell_type": "code",
   "execution_count": 35,
   "id": "d2c92324",
   "metadata": {
    "execution": {
     "iopub.execute_input": "2022-03-11T05:55:23.790805Z",
     "iopub.status.busy": "2022-03-11T05:55:23.790049Z",
     "iopub.status.idle": "2022-03-11T05:55:23.909322Z",
     "shell.execute_reply": "2022-03-11T05:55:23.909702Z",
     "shell.execute_reply.started": "2022-03-11T05:21:43.786359Z"
    },
    "papermill": {
     "duration": 0.19957,
     "end_time": "2022-03-11T05:55:23.909850",
     "exception": false,
     "start_time": "2022-03-11T05:55:23.710280",
     "status": "completed"
    },
    "tags": []
   },
   "outputs": [
    {
     "data": {
      "text/plain": [
       "array([[0.00573629, 0.00150594, 0.00329071, 0.00081877, 0.00235262,\n",
       "        0.00235218]])"
      ]
     },
     "execution_count": 35,
     "metadata": {},
     "output_type": "execute_result"
    }
   ],
   "source": [
    "#test 2\n",
    "make_test_predictions(xx,classifier)"
   ]
  },
  {
   "cell_type": "code",
   "execution_count": 36,
   "id": "934abc96",
   "metadata": {
    "execution": {
     "iopub.execute_input": "2022-03-11T05:55:23.998795Z",
     "iopub.status.busy": "2022-03-11T05:55:23.997910Z",
     "iopub.status.idle": "2022-03-11T05:55:24.648070Z",
     "shell.execute_reply": "2022-03-11T05:55:24.647541Z",
     "shell.execute_reply.started": "2022-03-11T05:21:43.788815Z"
    },
    "papermill": {
     "duration": 0.695761,
     "end_time": "2022-03-11T05:55:24.648228",
     "exception": false,
     "start_time": "2022-03-11T05:55:23.952467",
     "status": "completed"
    },
    "tags": []
   },
   "outputs": [],
   "source": [
    "pickle.dump(classifier, open('classifier.sav', 'wb'))\n",
    "\n",
    "loaded_model = pickle.load(open('classifier.sav', 'rb'))"
   ]
  },
  {
   "cell_type": "code",
   "execution_count": null,
   "id": "bf3b359a",
   "metadata": {
    "papermill": {
     "duration": 0.041982,
     "end_time": "2022-03-11T05:55:24.732654",
     "exception": false,
     "start_time": "2022-03-11T05:55:24.690672",
     "status": "completed"
    },
    "tags": []
   },
   "outputs": [],
   "source": []
  }
 ],
 "metadata": {
  "kernelspec": {
   "display_name": "Python 3",
   "language": "python",
   "name": "python3"
  },
  "language_info": {
   "codemirror_mode": {
    "name": "ipython",
    "version": 3
   },
   "file_extension": ".py",
   "mimetype": "text/x-python",
   "name": "python",
   "nbconvert_exporter": "python",
   "pygments_lexer": "ipython3",
   "version": "3.7.12"
  },
  "papermill": {
   "default_parameters": {},
   "duration": 1641.997176,
   "end_time": "2022-03-11T05:55:27.529558",
   "environment_variables": {},
   "exception": null,
   "input_path": "__notebook__.ipynb",
   "output_path": "__notebook__.ipynb",
   "parameters": {},
   "start_time": "2022-03-11T05:28:05.532382",
   "version": "2.3.3"
  }
 },
 "nbformat": 4,
 "nbformat_minor": 5
}
