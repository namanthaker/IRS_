{
  "metadata": {
    "kernelspec": {
      "language": "python",
      "display_name": "Python 3",
      "name": "python3"
    },
    "language_info": {
      "pygments_lexer": "ipython3",
      "nbconvert_exporter": "python",
      "version": "3.6.4",
      "file_extension": ".py",
      "codemirror_mode": {
        "name": "ipython",
        "version": 3
      },
      "name": "python",
      "mimetype": "text/x-python"
    },
    "colab": {
      "name": "IRS_P5_20BCE529.ipynb",
      "provenance": []
    }
  },
  "nbformat_minor": 0,
  "nbformat": 4,
  "cells": [
    {
      "cell_type": "markdown",
      "source": [
        "Naman Thaker (20bce529)\n",
        "\n",
        "IRS PRACTICAL 5 EVALUATION MEASURES\n"
      ],
      "metadata": {
        "id": "9QB27TgH8F-k"
      }
    },
    {
      "cell_type": "code",
      "source": [
        "import numpy as np\n",
        "import pandas as pd\n",
        "import matplotlib.pyplot as plt"
      ],
      "metadata": {
        "execution": {
          "iopub.status.busy": "2022-04-22T04:28:05.486096Z",
          "iopub.execute_input": "2022-04-22T04:28:05.486412Z",
          "iopub.status.idle": "2022-04-22T04:28:05.492379Z",
          "shell.execute_reply.started": "2022-04-22T04:28:05.486381Z",
          "shell.execute_reply": "2022-04-22T04:28:05.491235Z"
        },
        "trusted": true,
        "id": "zPLTUkesIya0"
      },
      "execution_count": null,
      "outputs": []
    },
    {
      "cell_type": "code",
      "source": [
        "data = [[1,'+'],[2,'+'],[3,'+'],[4,'-'],[5,'+'],[6,'-'],[7,'+'],[8,'-'],[9,'+'],[10,'+'],[11,'-'],[12,'-'],[13,'+'],[14,'-'],[15,'-'],[16,'-'],[17,'-'],[18,'-'],[19,'-'],[20,'-']]"
      ],
      "metadata": {
        "execution": {
          "iopub.status.busy": "2022-04-22T04:21:01.53089Z",
          "iopub.execute_input": "2022-04-22T04:21:01.531484Z",
          "iopub.status.idle": "2022-04-22T04:21:01.540135Z",
          "shell.execute_reply.started": "2022-04-22T04:21:01.531418Z",
          "shell.execute_reply": "2022-04-22T04:21:01.539072Z"
        },
        "trusted": true,
        "id": "K1XXU17uIybB"
      },
      "execution_count": null,
      "outputs": []
    },
    {
      "cell_type": "code",
      "source": [
        "df=pd.DataFrame(data,columns=['Rank','Relevancy'])"
      ],
      "metadata": {
        "execution": {
          "iopub.status.busy": "2022-04-22T04:21:01.552139Z",
          "iopub.execute_input": "2022-04-22T04:21:01.553026Z",
          "iopub.status.idle": "2022-04-22T04:21:01.560544Z",
          "shell.execute_reply.started": "2022-04-22T04:21:01.552968Z",
          "shell.execute_reply": "2022-04-22T04:21:01.559319Z"
        },
        "trusted": true,
        "id": "HGCgVj0nIybM"
      },
      "execution_count": null,
      "outputs": []
    },
    {
      "cell_type": "code",
      "source": [
        "grnd=8\n",
        "df"
      ],
      "metadata": {
        "execution": {
          "iopub.status.busy": "2022-04-22T04:21:01.572806Z",
          "iopub.execute_input": "2022-04-22T04:21:01.573893Z",
          "iopub.status.idle": "2022-04-22T04:21:01.585789Z",
          "shell.execute_reply.started": "2022-04-22T04:21:01.573855Z",
          "shell.execute_reply": "2022-04-22T04:21:01.584533Z"
        },
        "trusted": true,
        "colab": {
          "base_uri": "https://localhost:8080/",
          "height": 676
        },
        "id": "HvHQRH80IybN",
        "outputId": "2842e049-d7b7-4cc5-a08f-84880913c0ae"
      },
      "execution_count": null,
      "outputs": [
        {
          "output_type": "execute_result",
          "data": {
            "text/plain": [
              "    Rank Relevancy\n",
              "0      1         +\n",
              "1      2         +\n",
              "2      3         +\n",
              "3      4         -\n",
              "4      5         +\n",
              "5      6         -\n",
              "6      7         +\n",
              "7      8         -\n",
              "8      9         +\n",
              "9     10         +\n",
              "10    11         -\n",
              "11    12         -\n",
              "12    13         +\n",
              "13    14         -\n",
              "14    15         -\n",
              "15    16         -\n",
              "16    17         -\n",
              "17    18         -\n",
              "18    19         -\n",
              "19    20         -"
            ],
            "text/html": [
              "\n",
              "  <div id=\"df-f31a89ee-b317-4d7d-a05e-5e2f10559330\">\n",
              "    <div class=\"colab-df-container\">\n",
              "      <div>\n",
              "<style scoped>\n",
              "    .dataframe tbody tr th:only-of-type {\n",
              "        vertical-align: middle;\n",
              "    }\n",
              "\n",
              "    .dataframe tbody tr th {\n",
              "        vertical-align: top;\n",
              "    }\n",
              "\n",
              "    .dataframe thead th {\n",
              "        text-align: right;\n",
              "    }\n",
              "</style>\n",
              "<table border=\"1\" class=\"dataframe\">\n",
              "  <thead>\n",
              "    <tr style=\"text-align: right;\">\n",
              "      <th></th>\n",
              "      <th>Rank</th>\n",
              "      <th>Relevancy</th>\n",
              "    </tr>\n",
              "  </thead>\n",
              "  <tbody>\n",
              "    <tr>\n",
              "      <th>0</th>\n",
              "      <td>1</td>\n",
              "      <td>+</td>\n",
              "    </tr>\n",
              "    <tr>\n",
              "      <th>1</th>\n",
              "      <td>2</td>\n",
              "      <td>+</td>\n",
              "    </tr>\n",
              "    <tr>\n",
              "      <th>2</th>\n",
              "      <td>3</td>\n",
              "      <td>+</td>\n",
              "    </tr>\n",
              "    <tr>\n",
              "      <th>3</th>\n",
              "      <td>4</td>\n",
              "      <td>-</td>\n",
              "    </tr>\n",
              "    <tr>\n",
              "      <th>4</th>\n",
              "      <td>5</td>\n",
              "      <td>+</td>\n",
              "    </tr>\n",
              "    <tr>\n",
              "      <th>5</th>\n",
              "      <td>6</td>\n",
              "      <td>-</td>\n",
              "    </tr>\n",
              "    <tr>\n",
              "      <th>6</th>\n",
              "      <td>7</td>\n",
              "      <td>+</td>\n",
              "    </tr>\n",
              "    <tr>\n",
              "      <th>7</th>\n",
              "      <td>8</td>\n",
              "      <td>-</td>\n",
              "    </tr>\n",
              "    <tr>\n",
              "      <th>8</th>\n",
              "      <td>9</td>\n",
              "      <td>+</td>\n",
              "    </tr>\n",
              "    <tr>\n",
              "      <th>9</th>\n",
              "      <td>10</td>\n",
              "      <td>+</td>\n",
              "    </tr>\n",
              "    <tr>\n",
              "      <th>10</th>\n",
              "      <td>11</td>\n",
              "      <td>-</td>\n",
              "    </tr>\n",
              "    <tr>\n",
              "      <th>11</th>\n",
              "      <td>12</td>\n",
              "      <td>-</td>\n",
              "    </tr>\n",
              "    <tr>\n",
              "      <th>12</th>\n",
              "      <td>13</td>\n",
              "      <td>+</td>\n",
              "    </tr>\n",
              "    <tr>\n",
              "      <th>13</th>\n",
              "      <td>14</td>\n",
              "      <td>-</td>\n",
              "    </tr>\n",
              "    <tr>\n",
              "      <th>14</th>\n",
              "      <td>15</td>\n",
              "      <td>-</td>\n",
              "    </tr>\n",
              "    <tr>\n",
              "      <th>15</th>\n",
              "      <td>16</td>\n",
              "      <td>-</td>\n",
              "    </tr>\n",
              "    <tr>\n",
              "      <th>16</th>\n",
              "      <td>17</td>\n",
              "      <td>-</td>\n",
              "    </tr>\n",
              "    <tr>\n",
              "      <th>17</th>\n",
              "      <td>18</td>\n",
              "      <td>-</td>\n",
              "    </tr>\n",
              "    <tr>\n",
              "      <th>18</th>\n",
              "      <td>19</td>\n",
              "      <td>-</td>\n",
              "    </tr>\n",
              "    <tr>\n",
              "      <th>19</th>\n",
              "      <td>20</td>\n",
              "      <td>-</td>\n",
              "    </tr>\n",
              "  </tbody>\n",
              "</table>\n",
              "</div>\n",
              "      <button class=\"colab-df-convert\" onclick=\"convertToInteractive('df-f31a89ee-b317-4d7d-a05e-5e2f10559330')\"\n",
              "              title=\"Convert this dataframe to an interactive table.\"\n",
              "              style=\"display:none;\">\n",
              "        \n",
              "  <svg xmlns=\"http://www.w3.org/2000/svg\" height=\"24px\"viewBox=\"0 0 24 24\"\n",
              "       width=\"24px\">\n",
              "    <path d=\"M0 0h24v24H0V0z\" fill=\"none\"/>\n",
              "    <path d=\"M18.56 5.44l.94 2.06.94-2.06 2.06-.94-2.06-.94-.94-2.06-.94 2.06-2.06.94zm-11 1L8.5 8.5l.94-2.06 2.06-.94-2.06-.94L8.5 2.5l-.94 2.06-2.06.94zm10 10l.94 2.06.94-2.06 2.06-.94-2.06-.94-.94-2.06-.94 2.06-2.06.94z\"/><path d=\"M17.41 7.96l-1.37-1.37c-.4-.4-.92-.59-1.43-.59-.52 0-1.04.2-1.43.59L10.3 9.45l-7.72 7.72c-.78.78-.78 2.05 0 2.83L4 21.41c.39.39.9.59 1.41.59.51 0 1.02-.2 1.41-.59l7.78-7.78 2.81-2.81c.8-.78.8-2.07 0-2.86zM5.41 20L4 18.59l7.72-7.72 1.47 1.35L5.41 20z\"/>\n",
              "  </svg>\n",
              "      </button>\n",
              "      \n",
              "  <style>\n",
              "    .colab-df-container {\n",
              "      display:flex;\n",
              "      flex-wrap:wrap;\n",
              "      gap: 12px;\n",
              "    }\n",
              "\n",
              "    .colab-df-convert {\n",
              "      background-color: #E8F0FE;\n",
              "      border: none;\n",
              "      border-radius: 50%;\n",
              "      cursor: pointer;\n",
              "      display: none;\n",
              "      fill: #1967D2;\n",
              "      height: 32px;\n",
              "      padding: 0 0 0 0;\n",
              "      width: 32px;\n",
              "    }\n",
              "\n",
              "    .colab-df-convert:hover {\n",
              "      background-color: #E2EBFA;\n",
              "      box-shadow: 0px 1px 2px rgba(60, 64, 67, 0.3), 0px 1px 3px 1px rgba(60, 64, 67, 0.15);\n",
              "      fill: #174EA6;\n",
              "    }\n",
              "\n",
              "    [theme=dark] .colab-df-convert {\n",
              "      background-color: #3B4455;\n",
              "      fill: #D2E3FC;\n",
              "    }\n",
              "\n",
              "    [theme=dark] .colab-df-convert:hover {\n",
              "      background-color: #434B5C;\n",
              "      box-shadow: 0px 1px 3px 1px rgba(0, 0, 0, 0.15);\n",
              "      filter: drop-shadow(0px 1px 2px rgba(0, 0, 0, 0.3));\n",
              "      fill: #FFFFFF;\n",
              "    }\n",
              "  </style>\n",
              "\n",
              "      <script>\n",
              "        const buttonEl =\n",
              "          document.querySelector('#df-f31a89ee-b317-4d7d-a05e-5e2f10559330 button.colab-df-convert');\n",
              "        buttonEl.style.display =\n",
              "          google.colab.kernel.accessAllowed ? 'block' : 'none';\n",
              "\n",
              "        async function convertToInteractive(key) {\n",
              "          const element = document.querySelector('#df-f31a89ee-b317-4d7d-a05e-5e2f10559330');\n",
              "          const dataTable =\n",
              "            await google.colab.kernel.invokeFunction('convertToInteractive',\n",
              "                                                     [key], {});\n",
              "          if (!dataTable) return;\n",
              "\n",
              "          const docLinkHtml = 'Like what you see? Visit the ' +\n",
              "            '<a target=\"_blank\" href=https://colab.research.google.com/notebooks/data_table.ipynb>data table notebook</a>'\n",
              "            + ' to learn more about interactive tables.';\n",
              "          element.innerHTML = '';\n",
              "          dataTable['output_type'] = 'display_data';\n",
              "          await google.colab.output.renderOutput(dataTable, element);\n",
              "          const docLink = document.createElement('div');\n",
              "          docLink.innerHTML = docLinkHtml;\n",
              "          element.appendChild(docLink);\n",
              "        }\n",
              "      </script>\n",
              "    </div>\n",
              "  </div>\n",
              "  "
            ]
          },
          "metadata": {},
          "execution_count": 33
        }
      ]
    },
    {
      "cell_type": "code",
      "source": [
        "rel=df['Relevancy']\n",
        "p=[]\n",
        "r=[]\n",
        "avg=0\n",
        "x=0\n",
        "for i in range(1,len(df)+1):\n",
        "    if(rel[i-1]=='+'):\n",
        "        x+=1\n",
        "    p.append(round((x/i)*100))\n",
        "    r.append(round((x/grnd)*100))"
      ],
      "metadata": {
        "execution": {
          "iopub.status.busy": "2022-04-22T04:21:01.592894Z",
          "iopub.execute_input": "2022-04-22T04:21:01.593881Z",
          "iopub.status.idle": "2022-04-22T04:21:01.602967Z",
          "shell.execute_reply.started": "2022-04-22T04:21:01.59383Z",
          "shell.execute_reply": "2022-04-22T04:21:01.602146Z"
        },
        "trusted": true,
        "id": "ReDwWzE7IybP"
      },
      "execution_count": null,
      "outputs": []
    },
    {
      "cell_type": "code",
      "source": [
        "p"
      ],
      "metadata": {
        "execution": {
          "iopub.status.busy": "2022-04-22T04:21:01.609368Z",
          "iopub.execute_input": "2022-04-22T04:21:01.610199Z",
          "iopub.status.idle": "2022-04-22T04:21:01.6198Z",
          "shell.execute_reply.started": "2022-04-22T04:21:01.610158Z",
          "shell.execute_reply": "2022-04-22T04:21:01.618772Z"
        },
        "trusted": true,
        "colab": {
          "base_uri": "https://localhost:8080/"
        },
        "id": "kukZqnHVIybQ",
        "outputId": "b38c8498-2f2c-4056-c4cb-4cf4a74848f8"
      },
      "execution_count": null,
      "outputs": [
        {
          "output_type": "execute_result",
          "data": {
            "text/plain": [
              "[100,\n",
              " 100,\n",
              " 100,\n",
              " 75,\n",
              " 80,\n",
              " 67,\n",
              " 71,\n",
              " 62,\n",
              " 67,\n",
              " 70,\n",
              " 64,\n",
              " 58,\n",
              " 62,\n",
              " 57,\n",
              " 53,\n",
              " 50,\n",
              " 47,\n",
              " 44,\n",
              " 42,\n",
              " 40]"
            ]
          },
          "metadata": {},
          "execution_count": 35
        }
      ]
    },
    {
      "cell_type": "code",
      "source": [
        "df.insert(2,\"Precision\",p)\n",
        "df.insert(3,\"Recall\",r)\n"
      ],
      "metadata": {
        "execution": {
          "iopub.status.busy": "2022-04-22T04:21:01.622053Z",
          "iopub.execute_input": "2022-04-22T04:21:01.622656Z",
          "iopub.status.idle": "2022-04-22T04:21:01.633907Z",
          "shell.execute_reply.started": "2022-04-22T04:21:01.622617Z",
          "shell.execute_reply": "2022-04-22T04:21:01.632989Z"
        },
        "trusted": true,
        "id": "4wiXzbGrIybS"
      },
      "execution_count": null,
      "outputs": []
    },
    {
      "cell_type": "code",
      "source": [
        "df"
      ],
      "metadata": {
        "execution": {
          "iopub.status.busy": "2022-04-22T04:21:01.640871Z",
          "iopub.execute_input": "2022-04-22T04:21:01.641316Z",
          "iopub.status.idle": "2022-04-22T04:21:01.659349Z",
          "shell.execute_reply.started": "2022-04-22T04:21:01.641257Z",
          "shell.execute_reply": "2022-04-22T04:21:01.658235Z"
        },
        "trusted": true,
        "colab": {
          "base_uri": "https://localhost:8080/",
          "height": 676
        },
        "id": "uzEw60C4IybT",
        "outputId": "786df6c5-fb19-4b41-fd81-bf383b5f88bb"
      },
      "execution_count": null,
      "outputs": [
        {
          "output_type": "execute_result",
          "data": {
            "text/plain": [
              "    Rank Relevancy  Precision  Recall\n",
              "0      1         +        100      12\n",
              "1      2         +        100      25\n",
              "2      3         +        100      38\n",
              "3      4         -         75      38\n",
              "4      5         +         80      50\n",
              "5      6         -         67      50\n",
              "6      7         +         71      62\n",
              "7      8         -         62      62\n",
              "8      9         +         67      75\n",
              "9     10         +         70      88\n",
              "10    11         -         64      88\n",
              "11    12         -         58      88\n",
              "12    13         +         62     100\n",
              "13    14         -         57     100\n",
              "14    15         -         53     100\n",
              "15    16         -         50     100\n",
              "16    17         -         47     100\n",
              "17    18         -         44     100\n",
              "18    19         -         42     100\n",
              "19    20         -         40     100"
            ],
            "text/html": [
              "\n",
              "  <div id=\"df-5847ec42-4dc5-4f73-a413-db8f5f709a8b\">\n",
              "    <div class=\"colab-df-container\">\n",
              "      <div>\n",
              "<style scoped>\n",
              "    .dataframe tbody tr th:only-of-type {\n",
              "        vertical-align: middle;\n",
              "    }\n",
              "\n",
              "    .dataframe tbody tr th {\n",
              "        vertical-align: top;\n",
              "    }\n",
              "\n",
              "    .dataframe thead th {\n",
              "        text-align: right;\n",
              "    }\n",
              "</style>\n",
              "<table border=\"1\" class=\"dataframe\">\n",
              "  <thead>\n",
              "    <tr style=\"text-align: right;\">\n",
              "      <th></th>\n",
              "      <th>Rank</th>\n",
              "      <th>Relevancy</th>\n",
              "      <th>Precision</th>\n",
              "      <th>Recall</th>\n",
              "    </tr>\n",
              "  </thead>\n",
              "  <tbody>\n",
              "    <tr>\n",
              "      <th>0</th>\n",
              "      <td>1</td>\n",
              "      <td>+</td>\n",
              "      <td>100</td>\n",
              "      <td>12</td>\n",
              "    </tr>\n",
              "    <tr>\n",
              "      <th>1</th>\n",
              "      <td>2</td>\n",
              "      <td>+</td>\n",
              "      <td>100</td>\n",
              "      <td>25</td>\n",
              "    </tr>\n",
              "    <tr>\n",
              "      <th>2</th>\n",
              "      <td>3</td>\n",
              "      <td>+</td>\n",
              "      <td>100</td>\n",
              "      <td>38</td>\n",
              "    </tr>\n",
              "    <tr>\n",
              "      <th>3</th>\n",
              "      <td>4</td>\n",
              "      <td>-</td>\n",
              "      <td>75</td>\n",
              "      <td>38</td>\n",
              "    </tr>\n",
              "    <tr>\n",
              "      <th>4</th>\n",
              "      <td>5</td>\n",
              "      <td>+</td>\n",
              "      <td>80</td>\n",
              "      <td>50</td>\n",
              "    </tr>\n",
              "    <tr>\n",
              "      <th>5</th>\n",
              "      <td>6</td>\n",
              "      <td>-</td>\n",
              "      <td>67</td>\n",
              "      <td>50</td>\n",
              "    </tr>\n",
              "    <tr>\n",
              "      <th>6</th>\n",
              "      <td>7</td>\n",
              "      <td>+</td>\n",
              "      <td>71</td>\n",
              "      <td>62</td>\n",
              "    </tr>\n",
              "    <tr>\n",
              "      <th>7</th>\n",
              "      <td>8</td>\n",
              "      <td>-</td>\n",
              "      <td>62</td>\n",
              "      <td>62</td>\n",
              "    </tr>\n",
              "    <tr>\n",
              "      <th>8</th>\n",
              "      <td>9</td>\n",
              "      <td>+</td>\n",
              "      <td>67</td>\n",
              "      <td>75</td>\n",
              "    </tr>\n",
              "    <tr>\n",
              "      <th>9</th>\n",
              "      <td>10</td>\n",
              "      <td>+</td>\n",
              "      <td>70</td>\n",
              "      <td>88</td>\n",
              "    </tr>\n",
              "    <tr>\n",
              "      <th>10</th>\n",
              "      <td>11</td>\n",
              "      <td>-</td>\n",
              "      <td>64</td>\n",
              "      <td>88</td>\n",
              "    </tr>\n",
              "    <tr>\n",
              "      <th>11</th>\n",
              "      <td>12</td>\n",
              "      <td>-</td>\n",
              "      <td>58</td>\n",
              "      <td>88</td>\n",
              "    </tr>\n",
              "    <tr>\n",
              "      <th>12</th>\n",
              "      <td>13</td>\n",
              "      <td>+</td>\n",
              "      <td>62</td>\n",
              "      <td>100</td>\n",
              "    </tr>\n",
              "    <tr>\n",
              "      <th>13</th>\n",
              "      <td>14</td>\n",
              "      <td>-</td>\n",
              "      <td>57</td>\n",
              "      <td>100</td>\n",
              "    </tr>\n",
              "    <tr>\n",
              "      <th>14</th>\n",
              "      <td>15</td>\n",
              "      <td>-</td>\n",
              "      <td>53</td>\n",
              "      <td>100</td>\n",
              "    </tr>\n",
              "    <tr>\n",
              "      <th>15</th>\n",
              "      <td>16</td>\n",
              "      <td>-</td>\n",
              "      <td>50</td>\n",
              "      <td>100</td>\n",
              "    </tr>\n",
              "    <tr>\n",
              "      <th>16</th>\n",
              "      <td>17</td>\n",
              "      <td>-</td>\n",
              "      <td>47</td>\n",
              "      <td>100</td>\n",
              "    </tr>\n",
              "    <tr>\n",
              "      <th>17</th>\n",
              "      <td>18</td>\n",
              "      <td>-</td>\n",
              "      <td>44</td>\n",
              "      <td>100</td>\n",
              "    </tr>\n",
              "    <tr>\n",
              "      <th>18</th>\n",
              "      <td>19</td>\n",
              "      <td>-</td>\n",
              "      <td>42</td>\n",
              "      <td>100</td>\n",
              "    </tr>\n",
              "    <tr>\n",
              "      <th>19</th>\n",
              "      <td>20</td>\n",
              "      <td>-</td>\n",
              "      <td>40</td>\n",
              "      <td>100</td>\n",
              "    </tr>\n",
              "  </tbody>\n",
              "</table>\n",
              "</div>\n",
              "      <button class=\"colab-df-convert\" onclick=\"convertToInteractive('df-5847ec42-4dc5-4f73-a413-db8f5f709a8b')\"\n",
              "              title=\"Convert this dataframe to an interactive table.\"\n",
              "              style=\"display:none;\">\n",
              "        \n",
              "  <svg xmlns=\"http://www.w3.org/2000/svg\" height=\"24px\"viewBox=\"0 0 24 24\"\n",
              "       width=\"24px\">\n",
              "    <path d=\"M0 0h24v24H0V0z\" fill=\"none\"/>\n",
              "    <path d=\"M18.56 5.44l.94 2.06.94-2.06 2.06-.94-2.06-.94-.94-2.06-.94 2.06-2.06.94zm-11 1L8.5 8.5l.94-2.06 2.06-.94-2.06-.94L8.5 2.5l-.94 2.06-2.06.94zm10 10l.94 2.06.94-2.06 2.06-.94-2.06-.94-.94-2.06-.94 2.06-2.06.94z\"/><path d=\"M17.41 7.96l-1.37-1.37c-.4-.4-.92-.59-1.43-.59-.52 0-1.04.2-1.43.59L10.3 9.45l-7.72 7.72c-.78.78-.78 2.05 0 2.83L4 21.41c.39.39.9.59 1.41.59.51 0 1.02-.2 1.41-.59l7.78-7.78 2.81-2.81c.8-.78.8-2.07 0-2.86zM5.41 20L4 18.59l7.72-7.72 1.47 1.35L5.41 20z\"/>\n",
              "  </svg>\n",
              "      </button>\n",
              "      \n",
              "  <style>\n",
              "    .colab-df-container {\n",
              "      display:flex;\n",
              "      flex-wrap:wrap;\n",
              "      gap: 12px;\n",
              "    }\n",
              "\n",
              "    .colab-df-convert {\n",
              "      background-color: #E8F0FE;\n",
              "      border: none;\n",
              "      border-radius: 50%;\n",
              "      cursor: pointer;\n",
              "      display: none;\n",
              "      fill: #1967D2;\n",
              "      height: 32px;\n",
              "      padding: 0 0 0 0;\n",
              "      width: 32px;\n",
              "    }\n",
              "\n",
              "    .colab-df-convert:hover {\n",
              "      background-color: #E2EBFA;\n",
              "      box-shadow: 0px 1px 2px rgba(60, 64, 67, 0.3), 0px 1px 3px 1px rgba(60, 64, 67, 0.15);\n",
              "      fill: #174EA6;\n",
              "    }\n",
              "\n",
              "    [theme=dark] .colab-df-convert {\n",
              "      background-color: #3B4455;\n",
              "      fill: #D2E3FC;\n",
              "    }\n",
              "\n",
              "    [theme=dark] .colab-df-convert:hover {\n",
              "      background-color: #434B5C;\n",
              "      box-shadow: 0px 1px 3px 1px rgba(0, 0, 0, 0.15);\n",
              "      filter: drop-shadow(0px 1px 2px rgba(0, 0, 0, 0.3));\n",
              "      fill: #FFFFFF;\n",
              "    }\n",
              "  </style>\n",
              "\n",
              "      <script>\n",
              "        const buttonEl =\n",
              "          document.querySelector('#df-5847ec42-4dc5-4f73-a413-db8f5f709a8b button.colab-df-convert');\n",
              "        buttonEl.style.display =\n",
              "          google.colab.kernel.accessAllowed ? 'block' : 'none';\n",
              "\n",
              "        async function convertToInteractive(key) {\n",
              "          const element = document.querySelector('#df-5847ec42-4dc5-4f73-a413-db8f5f709a8b');\n",
              "          const dataTable =\n",
              "            await google.colab.kernel.invokeFunction('convertToInteractive',\n",
              "                                                     [key], {});\n",
              "          if (!dataTable) return;\n",
              "\n",
              "          const docLinkHtml = 'Like what you see? Visit the ' +\n",
              "            '<a target=\"_blank\" href=https://colab.research.google.com/notebooks/data_table.ipynb>data table notebook</a>'\n",
              "            + ' to learn more about interactive tables.';\n",
              "          element.innerHTML = '';\n",
              "          dataTable['output_type'] = 'display_data';\n",
              "          await google.colab.output.renderOutput(dataTable, element);\n",
              "          const docLink = document.createElement('div');\n",
              "          docLink.innerHTML = docLinkHtml;\n",
              "          element.appendChild(docLink);\n",
              "        }\n",
              "      </script>\n",
              "    </div>\n",
              "  </div>\n",
              "  "
            ]
          },
          "metadata": {},
          "execution_count": 37
        }
      ]
    },
    {
      "cell_type": "code",
      "source": [
        "R = [0,10,20,30,40,50,60,70,80,90,100]\n",
        "PR = []\n",
        "for i in reversed(range(len(R))):\n",
        "    if R[i] in r:\n",
        "        index = r.index(R[i])\n",
        "        x = max(p[index:])\n",
        "        PR.append(x)\n",
        "    else:\n",
        "        if R[i]==0:\n",
        "            PR.append(x)\n",
        "        else:\n",
        "            for j in reversed(range(0,index)):\n",
        "                if R[i]<r[j]:\n",
        "                    index=j\n",
        "            x = max(p[index:])\n",
        "            PR.append(x)"
      ],
      "metadata": {
        "execution": {
          "iopub.status.busy": "2022-04-22T04:26:19.499437Z",
          "iopub.execute_input": "2022-04-22T04:26:19.499839Z",
          "iopub.status.idle": "2022-04-22T04:26:19.511637Z",
          "shell.execute_reply.started": "2022-04-22T04:26:19.499806Z",
          "shell.execute_reply": "2022-04-22T04:26:19.509712Z"
        },
        "trusted": true,
        "id": "jPrIo0-pIybU"
      },
      "execution_count": null,
      "outputs": []
    },
    {
      "cell_type": "code",
      "source": [
        "# for Precision,Recall in df:\n",
        "#   if Precision == Recall:\n",
        "#     print(Precision)\n",
        "#   # for j in df['Recall']:\n",
        "#     # print(p[i])\n",
        "  \n",
        "\n",
        "# # print(breakeven)"
      ],
      "metadata": {
        "id": "WjVT_VkuJPxi"
      },
      "execution_count": null,
      "outputs": []
    },
    {
      "cell_type": "code",
      "source": [
        "PR.reverse()"
      ],
      "metadata": {
        "execution": {
          "iopub.status.busy": "2022-04-22T04:27:12.001221Z",
          "iopub.execute_input": "2022-04-22T04:27:12.002497Z",
          "iopub.status.idle": "2022-04-22T04:27:12.007614Z",
          "shell.execute_reply.started": "2022-04-22T04:27:12.002404Z",
          "shell.execute_reply": "2022-04-22T04:27:12.006351Z"
        },
        "trusted": true,
        "id": "ks_u2fNRIybW"
      },
      "execution_count": null,
      "outputs": []
    },
    {
      "cell_type": "code",
      "source": [
        "PR"
      ],
      "metadata": {
        "execution": {
          "iopub.status.busy": "2022-04-22T04:27:15.153049Z",
          "iopub.execute_input": "2022-04-22T04:27:15.153369Z",
          "iopub.status.idle": "2022-04-22T04:27:15.161232Z",
          "shell.execute_reply.started": "2022-04-22T04:27:15.153339Z",
          "shell.execute_reply": "2022-04-22T04:27:15.160228Z"
        },
        "trusted": true,
        "colab": {
          "base_uri": "https://localhost:8080/"
        },
        "id": "kL1xW_B9IybX",
        "outputId": "fd40e476-6152-4ad1-94f3-efd73549da9a"
      },
      "execution_count": null,
      "outputs": [
        {
          "output_type": "execute_result",
          "data": {
            "text/plain": [
              "[100, 100, 100, 100, 80, 80, 71, 70, 70, 62, 62]"
            ]
          },
          "metadata": {},
          "execution_count": 41
        }
      ]
    },
    {
      "cell_type": "code",
      "source": [
        "plt.plot(R,PR)"
      ],
      "metadata": {
        "execution": {
          "iopub.status.busy": "2022-04-22T04:29:19.956852Z",
          "iopub.execute_input": "2022-04-22T04:29:19.95717Z",
          "iopub.status.idle": "2022-04-22T04:29:20.535331Z",
          "shell.execute_reply.started": "2022-04-22T04:29:19.957141Z",
          "shell.execute_reply": "2022-04-22T04:29:20.534336Z"
        },
        "trusted": true,
        "colab": {
          "base_uri": "https://localhost:8080/",
          "height": 282
        },
        "id": "tW6T8XBZIybY",
        "outputId": "360e1ca3-cd11-4736-d3a9-1959d58c5177"
      },
      "execution_count": null,
      "outputs": [
        {
          "output_type": "execute_result",
          "data": {
            "text/plain": [
              "[<matplotlib.lines.Line2D at 0x7f662b014510>]"
            ]
          },
          "metadata": {},
          "execution_count": 42
        },
        {
          "output_type": "display_data",
          "data": {
            "text/plain": [
              "<Figure size 432x288 with 1 Axes>"
            ],
            "image/png": "[encoded data removed]"
          },
          "metadata": {
            "needs_background": "light"
          }
        }
      ]
    },
    {
      "cell_type": "code",
      "source": [
        ""
      ],
      "metadata": {
        "id": "9hcANXD_IybY"
      },
      "execution_count": null,
      "outputs": []
    }
  ]
}