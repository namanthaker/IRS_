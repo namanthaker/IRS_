{
  "cells": [
    {
      "cell_type": "markdown",
      "source": [
        "NAMAN THAKER\n",
        "\n",
        "20BCE529\n",
        "\n",
        "IRS PRACTICAL 8 META SEARCH"
      ],
      "metadata": {
        "id": "H06LhJvR1naV"
      },
      "id": "H06LhJvR1naV"
    },
    {
      "cell_type": "code",
      "execution_count": 1,
      "id": "5ad4fa96",
      "metadata": {
        "execution": {
          "iopub.execute_input": "2022-04-08T04:07:22.836399Z",
          "iopub.status.busy": "2022-04-08T04:07:22.829735Z",
          "iopub.status.idle": "2022-04-08T04:07:24.469026Z",
          "shell.execute_reply": "2022-04-08T04:07:24.467923Z",
          "shell.execute_reply.started": "2022-04-02T15:57:01.946453Z"
        },
        "papermill": {
          "duration": 1.699897,
          "end_time": "2022-04-08T04:07:24.469203",
          "exception": false,
          "start_time": "2022-04-08T04:07:22.769306",
          "status": "completed"
        },
        "tags": [],
        "id": "5ad4fa96"
      },
      "outputs": [],
      "source": [
        "import nltk\n",
        "import regex\n",
        "import numpy as np\n",
        "import pandas as pd\n",
        "import matplotlib.pyplot as plt\n",
        "import math\n",
        "from sklearn.metrics.pairwise import cosine_similarity\n",
        "from sklearn.metrics.pairwise import euclidean_distances\n",
        "from sklearn import preprocessing"
      ]
    },
    {
      "cell_type": "code",
      "execution_count": 2,
      "id": "d41f5786",
      "metadata": {
        "execution": {
          "iopub.execute_input": "2022-04-08T04:07:24.520306Z",
          "iopub.status.busy": "2022-04-08T04:07:24.518260Z",
          "iopub.status.idle": "2022-04-08T04:07:24.521552Z",
          "shell.execute_reply": "2022-04-08T04:07:24.522108Z",
          "shell.execute_reply.started": "2022-04-02T15:57:01.960163Z"
        },
        "papermill": {
          "duration": 0.030264,
          "end_time": "2022-04-08T04:07:24.522260",
          "exception": false,
          "start_time": "2022-04-08T04:07:24.491996",
          "status": "completed"
        },
        "tags": [],
        "id": "d41f5786"
      },
      "outputs": [],
      "source": [
        "from sklearn.feature_extraction.text import TfidfVectorizer"
      ]
    },
    {
      "cell_type": "code",
      "execution_count": 3,
      "id": "374d52f1",
      "metadata": {
        "execution": {
          "iopub.execute_input": "2022-04-08T04:07:24.572922Z",
          "iopub.status.busy": "2022-04-08T04:07:24.571873Z",
          "iopub.status.idle": "2022-04-08T04:07:24.574519Z",
          "shell.execute_reply": "2022-04-08T04:07:24.574977Z",
          "shell.execute_reply.started": "2022-04-02T15:57:01.970328Z"
        },
        "papermill": {
          "duration": 0.029103,
          "end_time": "2022-04-08T04:07:24.575156",
          "exception": false,
          "start_time": "2022-04-08T04:07:24.546053",
          "status": "completed"
        },
        "tags": [],
        "id": "374d52f1"
      },
      "outputs": [],
      "source": [
        "Courpus1 = {'The Punisher is a fictional antihero appearing in American comic books published by Marvel Comics.',\n",
        "           'The character was created by writer Gerry Conway and artists John Romita Sr. and Ross Andru.',\n",
        "           'The character is depicted as an Italian-American vigilante who employs murder, kidnapping, extortion, coercion, threats of violence, and torture in his campaign against crime.',\n",
        "           'Driven by the deaths of his wife and two children, who were killed by the mob for witnessing a killing in New York City\\'s Central Park',\n",
        "           'the Punisher wages a one-man war on crime using various weapons.',}"
      ]
    },
    {
      "cell_type": "code",
      "execution_count": 4,
      "id": "32761983",
      "metadata": {
        "execution": {
          "iopub.execute_input": "2022-04-08T04:07:24.633091Z",
          "iopub.status.busy": "2022-04-08T04:07:24.632001Z",
          "iopub.status.idle": "2022-04-08T04:07:24.646544Z",
          "shell.execute_reply": "2022-04-08T04:07:24.645669Z",
          "shell.execute_reply.started": "2022-04-02T15:57:01.98472Z"
        },
        "papermill": {
          "duration": 0.049961,
          "end_time": "2022-04-08T04:07:24.646779",
          "exception": false,
          "start_time": "2022-04-08T04:07:24.596818",
          "status": "completed"
        },
        "tags": [],
        "colab": {
          "base_uri": "https://localhost:8080/",
          "height": 0
        },
        "id": "32761983",
        "outputId": "0af56363-28f3-4586-f641-316e9e3f579e"
      },
      "outputs": [
        {
          "output_type": "stream",
          "name": "stdout",
          "text": [
            "['against', 'american', 'an', 'and', 'andru', 'antihero', 'appearing', 'artists', 'as', 'books', 'by', 'campaign', 'central', 'character', 'children', 'city', 'coercion', 'comic', 'comics', 'conway', 'created', 'crime', 'deaths', 'depicted', 'driven', 'employs', 'extortion', 'fictional', 'for', 'gerry', 'his', 'in', 'is', 'italian', 'john', 'kidnapping', 'killed', 'killing', 'man', 'marvel', 'mob', 'murder', 'new', 'of', 'on', 'one', 'park', 'published', 'punisher', 'romita', 'ross', 'sr', 'the', 'threats', 'torture', 'two', 'using', 'various', 'vigilante', 'violence', 'wages', 'war', 'was', 'weapons', 'were', 'who', 'wife', 'witnessing', 'writer', 'york']\n",
            "[[0.         0.         0.         0.35644471 0.26611804 0.\n",
            "  0.         0.26611804 0.         0.         0.17822235 0.\n",
            "  0.         0.21470236 0.         0.         0.         0.\n",
            "  0.         0.26611804 0.26611804 0.         0.         0.\n",
            "  0.         0.         0.         0.         0.         0.26611804\n",
            "  0.         0.         0.         0.         0.26611804 0.\n",
            "  0.         0.         0.         0.         0.         0.\n",
            "  0.         0.         0.         0.         0.         0.\n",
            "  0.         0.26611804 0.26611804 0.26611804 0.12680667 0.\n",
            "  0.         0.         0.         0.         0.         0.\n",
            "  0.         0.         0.26611804 0.         0.         0.\n",
            "  0.         0.         0.26611804 0.        ]\n",
            " [0.         0.24241232 0.         0.         0.         0.30046383\n",
            "  0.30046383 0.         0.         0.30046383 0.20122413 0.\n",
            "  0.         0.         0.         0.         0.         0.30046383\n",
            "  0.30046383 0.         0.         0.         0.         0.\n",
            "  0.         0.         0.         0.30046383 0.         0.\n",
            "  0.         0.20122413 0.24241232 0.         0.         0.\n",
            "  0.         0.         0.         0.30046383 0.         0.\n",
            "  0.         0.         0.         0.         0.         0.30046383\n",
            "  0.24241232 0.         0.         0.         0.14317262 0.\n",
            "  0.         0.         0.         0.         0.         0.\n",
            "  0.         0.         0.         0.         0.         0.\n",
            "  0.         0.         0.         0.        ]\n",
            " [0.2198971  0.1774116  0.2198971  0.14726765 0.         0.\n",
            "  0.         0.         0.2198971  0.         0.         0.2198971\n",
            "  0.         0.1774116  0.         0.         0.2198971  0.\n",
            "  0.         0.         0.         0.1774116  0.         0.2198971\n",
            "  0.         0.2198971  0.2198971  0.         0.         0.\n",
            "  0.1774116  0.14726765 0.1774116  0.2198971  0.         0.2198971\n",
            "  0.         0.         0.         0.         0.         0.2198971\n",
            "  0.         0.1774116  0.         0.         0.         0.\n",
            "  0.         0.         0.         0.         0.10478215 0.2198971\n",
            "  0.2198971  0.         0.         0.         0.2198971  0.2198971\n",
            "  0.         0.         0.         0.         0.         0.1774116\n",
            "  0.         0.         0.         0.        ]\n",
            " [0.         0.         0.         0.14425918 0.         0.\n",
            "  0.         0.         0.         0.         0.28851836 0.\n",
            "  0.21540491 0.         0.21540491 0.21540491 0.         0.\n",
            "  0.         0.         0.         0.         0.21540491 0.\n",
            "  0.21540491 0.         0.         0.         0.21540491 0.\n",
            "  0.17378733 0.14425918 0.         0.         0.         0.\n",
            "  0.21540491 0.21540491 0.         0.         0.21540491 0.\n",
            "  0.21540491 0.17378733 0.         0.         0.21540491 0.\n",
            "  0.         0.         0.         0.         0.20528319 0.\n",
            "  0.         0.21540491 0.         0.         0.         0.\n",
            "  0.         0.         0.         0.         0.21540491 0.17378733\n",
            "  0.21540491 0.21540491 0.         0.21540491]\n",
            " [0.         0.         0.         0.         0.         0.\n",
            "  0.         0.         0.         0.         0.         0.\n",
            "  0.         0.         0.         0.         0.         0.\n",
            "  0.         0.         0.         0.26136134 0.         0.\n",
            "  0.         0.         0.         0.         0.         0.\n",
            "  0.         0.         0.         0.         0.         0.\n",
            "  0.         0.         0.32395065 0.         0.         0.\n",
            "  0.         0.         0.32395065 0.32395065 0.         0.\n",
            "  0.26136134 0.         0.         0.         0.15436422 0.\n",
            "  0.         0.         0.32395065 0.32395065 0.         0.\n",
            "  0.32395065 0.32395065 0.         0.32395065 0.         0.\n",
            "  0.         0.         0.         0.        ]]\n"
          ]
        },
        {
          "output_type": "stream",
          "name": "stderr",
          "text": [
            "/usr/local/lib/python3.7/dist-packages/sklearn/utils/deprecation.py:87: FutureWarning: Function get_feature_names is deprecated; get_feature_names is deprecated in 1.0 and will be removed in 1.2. Please use get_feature_names_out instead.\n",
            "  warnings.warn(msg, category=FutureWarning)\n"
          ]
        }
      ],
      "source": [
        "vectorizer = TfidfVectorizer()\n",
        "X = vectorizer.fit_transform(Courpus1)\n",
        "print(vectorizer.get_feature_names())\n",
        "print(X.toarray())"
      ]
    },
    {
      "cell_type": "markdown",
      "id": "8ffa90d3",
      "metadata": {
        "papermill": {
          "duration": 0.021804,
          "end_time": "2022-04-08T04:07:24.695035",
          "exception": false,
          "start_time": "2022-04-08T04:07:24.673231",
          "status": "completed"
        },
        "tags": [],
        "id": "8ffa90d3"
      },
      "source": [
        "# Euclidean Distance"
      ]
    },
    {
      "cell_type": "code",
      "execution_count": 5,
      "id": "3c3066f8",
      "metadata": {
        "execution": {
          "iopub.execute_input": "2022-04-08T04:07:24.748288Z",
          "iopub.status.busy": "2022-04-08T04:07:24.747451Z",
          "iopub.status.idle": "2022-04-08T04:07:24.751124Z",
          "shell.execute_reply": "2022-04-08T04:07:24.751938Z",
          "shell.execute_reply.started": "2022-04-02T15:57:02.01832Z"
        },
        "papermill": {
          "duration": 0.035194,
          "end_time": "2022-04-08T04:07:24.752161",
          "exception": false,
          "start_time": "2022-04-08T04:07:24.716967",
          "status": "completed"
        },
        "tags": [],
        "colab": {
          "base_uri": "https://localhost:8080/",
          "height": 0
        },
        "id": "3c3066f8",
        "outputId": "0000230b-ccb6-4d9d-d88d-26878fcf09b8"
      },
      "outputs": [
        {
          "output_type": "stream",
          "name": "stdout",
          "text": [
            "[[0.         1.89196424 1.79225892 1.74225576 1.96085117]\n",
            " [1.89196424 0.         1.73870149 1.76704757 1.82908412]\n",
            " [1.79225892 1.73870149 0.         1.6870098  1.8749137 ]\n",
            " [1.74225576 1.76704757 1.6870098  0.         1.93662324]\n",
            " [1.96085117 1.82908412 1.8749137  1.93662324 0.        ]]\n"
          ]
        }
      ],
      "source": [
        "euclidean_dist = euclidean_distances(X)\n",
        "squared_euclidean = np.square(euclidean_dist)\n",
        "print (squared_euclidean)"
      ]
    },
    {
      "cell_type": "markdown",
      "id": "6521dd54",
      "metadata": {
        "papermill": {
          "duration": 0.023085,
          "end_time": "2022-04-08T04:07:24.799111",
          "exception": false,
          "start_time": "2022-04-08T04:07:24.776026",
          "status": "completed"
        },
        "tags": [],
        "id": "6521dd54"
      },
      "source": [
        "# Cosine Similarity"
      ]
    },
    {
      "cell_type": "code",
      "execution_count": 6,
      "id": "24a2251f",
      "metadata": {
        "execution": {
          "iopub.execute_input": "2022-04-08T04:07:24.852833Z",
          "iopub.status.busy": "2022-04-08T04:07:24.851740Z",
          "iopub.status.idle": "2022-04-08T04:07:24.858428Z",
          "shell.execute_reply": "2022-04-08T04:07:24.857561Z",
          "shell.execute_reply.started": "2022-04-02T15:57:02.032109Z"
        },
        "papermill": {
          "duration": 0.035766,
          "end_time": "2022-04-08T04:07:24.858718",
          "exception": false,
          "start_time": "2022-04-08T04:07:24.822952",
          "status": "completed"
        },
        "tags": [],
        "colab": {
          "base_uri": "https://localhost:8080/",
          "height": 0
        },
        "id": "24a2251f",
        "outputId": "4acf8951-6991-4b22-9553-1b6c4d4e9bfd"
      },
      "outputs": [
        {
          "output_type": "stream",
          "name": "stdout",
          "text": [
            "[[1.         0.05401788 0.10387054 0.12887212 0.01957441]\n",
            " [0.05401788 1.         0.13064926 0.11647622 0.08545794]\n",
            " [0.10387054 0.13064926 1.         0.1564951  0.06254315]\n",
            " [0.12887212 0.11647622 0.1564951  1.         0.03168838]\n",
            " [0.01957441 0.08545794 0.06254315 0.03168838 1.        ]]\n"
          ]
        }
      ],
      "source": [
        "print(cosine_similarity(X))"
      ]
    },
    {
      "cell_type": "markdown",
      "id": "6d919caa",
      "metadata": {
        "papermill": {
          "duration": 0.023322,
          "end_time": "2022-04-08T04:07:24.905887",
          "exception": false,
          "start_time": "2022-04-08T04:07:24.882565",
          "status": "completed"
        },
        "tags": [],
        "id": "6d919caa"
      },
      "source": [
        "# Meta Search"
      ]
    },
    {
      "cell_type": "code",
      "execution_count": 8,
      "id": "097abd59",
      "metadata": {
        "execution": {
          "iopub.execute_input": "2022-04-08T04:07:24.960774Z",
          "iopub.status.busy": "2022-04-08T04:07:24.959934Z",
          "iopub.status.idle": "2022-04-08T04:07:25.100388Z",
          "shell.execute_reply": "2022-04-08T04:07:25.099544Z",
          "shell.execute_reply.started": "2022-04-02T16:04:31.291171Z"
        },
        "papermill": {
          "duration": 0.171514,
          "end_time": "2022-04-08T04:07:25.100718",
          "exception": true,
          "start_time": "2022-04-08T04:07:24.929204",
          "status": "failed"
        },
        "tags": [],
        "colab": {
          "base_uri": "https://localhost:8080/",
          "height": 0
        },
        "id": "097abd59",
        "outputId": "bd4b5db2-9cac-43ed-f072-944372372d74"
      },
      "outputs": [
        {
          "output_type": "stream",
          "name": "stdout",
          "text": [
            "Enter No Of Judges:4\n",
            "Enter No Of Participants5\n",
            "Enter Rank Given By Judge  1  To Participant  1  :\n",
            "1\n",
            "Enter Rank Given By Judge  2  To Participant  1  :\n",
            "2\n",
            "Enter Rank Given By Judge  3  To Participant  1  :\n",
            "5\n",
            "Enter Rank Given By Judge  4  To Participant  1  :\n",
            "4\n",
            "Enter Rank Given By Judge  1  To Participant  2  :\n",
            "2\n",
            "Enter Rank Given By Judge  2  To Participant  2  :\n",
            "1\n",
            "Enter Rank Given By Judge  3  To Participant  2  :\n",
            "4\n",
            "Enter Rank Given By Judge  4  To Participant  2  :\n",
            "3\n",
            "Enter Rank Given By Judge  1  To Participant  3  :\n",
            "3\n",
            "Enter Rank Given By Judge  2  To Participant  3  :\n",
            "4\n",
            "Enter Rank Given By Judge  3  To Participant  3  :\n",
            "1\n",
            "Enter Rank Given By Judge  4  To Participant  3  :\n",
            "2\n",
            "Enter Rank Given By Judge  1  To Participant  4  :\n",
            "4\n",
            "Enter Rank Given By Judge  2  To Participant  4  :\n",
            "3\n",
            "Enter Rank Given By Judge  3  To Participant  4  :\n",
            "2\n",
            "Enter Rank Given By Judge  4  To Participant  4  :\n",
            "1\n",
            "Enter Rank Given By Judge  1  To Participant  5  :\n",
            "5\n",
            "Enter Rank Given By Judge  2  To Participant  5  :\n",
            "5\n",
            "Enter Rank Given By Judge  3  To Participant  5  :\n",
            "3\n",
            "Enter Rank Given By Judge  4  To Participant  5  :\n",
            "5\n",
            "[[1, 2, 5, 4], [2, 1, 4, 3], [3, 4, 1, 2], [4, 3, 2, 1], [5, 5, 3, 5]]\n"
          ]
        }
      ],
      "source": [
        "import math\n",
        "\n",
        "jud=int(input(\"Enter No Of Judges:\"))\n",
        "par=int(input(\"Enter No Of Participants\"))\n",
        "\n",
        "create_csv=[]\n",
        "\n",
        "for i in range(par):\n",
        "    temp=[]\n",
        "    for j in range(jud):\n",
        "        print(\"Enter Rank Given By Judge \",j+1,\" To Participant \",i+1,\" :\")\n",
        "        vote=input()\n",
        "        if (vote==\"\"):\n",
        "            vote=math.inf\n",
        "        else:\n",
        "            vote=int(vote)\n",
        "        temp.append(vote)\n",
        "    create_csv.append(temp)\n",
        "print(create_csv)"
      ]
    },
    {
      "cell_type": "code",
      "execution_count": 9,
      "id": "dc858ce8",
      "metadata": {
        "execution": {
          "iopub.execute_input": "2022-04-02T17:05:23.89843Z",
          "iopub.status.busy": "2022-04-02T17:05:23.898113Z",
          "iopub.status.idle": "2022-04-02T17:05:23.906589Z",
          "shell.execute_reply": "2022-04-02T17:05:23.905176Z",
          "shell.execute_reply.started": "2022-04-02T17:05:23.898388Z"
        },
        "papermill": {
          "duration": null,
          "end_time": null,
          "exception": null,
          "start_time": null,
          "status": "pending"
        },
        "tags": [],
        "id": "dc858ce8"
      },
      "outputs": [],
      "source": [
        "df = pd.DataFrame(create_csv) \n",
        "df.to_csv('data.csv') "
      ]
    },
    {
      "cell_type": "code",
      "execution_count": 10,
      "id": "d963d51f",
      "metadata": {
        "execution": {
          "iopub.execute_input": "2022-04-02T17:05:25.713147Z",
          "iopub.status.busy": "2022-04-02T17:05:25.712541Z",
          "iopub.status.idle": "2022-04-02T17:05:25.718516Z",
          "shell.execute_reply": "2022-04-02T17:05:25.717066Z",
          "shell.execute_reply.started": "2022-04-02T17:05:25.713098Z"
        },
        "papermill": {
          "duration": null,
          "end_time": null,
          "exception": null,
          "start_time": null,
          "status": "pending"
        },
        "tags": [],
        "colab": {
          "base_uri": "https://localhost:8080/",
          "height": 0
        },
        "id": "d963d51f",
        "outputId": "a81f2ed3-272e-4eb2-9e44-18955572432b"
      },
      "outputs": [
        {
          "output_type": "stream",
          "name": "stdout",
          "text": [
            "[[1, 2, 5, 4], [2, 1, 4, 3], [3, 4, 1, 2], [4, 3, 2, 1], [5, 5, 3, 5]]\n"
          ]
        }
      ],
      "source": [
        "print(create_csv)"
      ]
    },
    {
      "cell_type": "code",
      "execution_count": 11,
      "id": "9ee7b2ac",
      "metadata": {
        "execution": {
          "iopub.execute_input": "2022-04-02T17:05:29.79645Z",
          "iopub.status.busy": "2022-04-02T17:05:29.796137Z",
          "iopub.status.idle": "2022-04-02T17:05:29.812252Z",
          "shell.execute_reply": "2022-04-02T17:05:29.810893Z",
          "shell.execute_reply.started": "2022-04-02T17:05:29.796419Z"
        },
        "papermill": {
          "duration": null,
          "end_time": null,
          "exception": null,
          "start_time": null,
          "status": "pending"
        },
        "tags": [],
        "colab": {
          "base_uri": "https://localhost:8080/",
          "height": 0
        },
        "id": "9ee7b2ac",
        "outputId": "77a7bf37-337b-41b9-eb3c-29219dcffd65"
      },
      "outputs": [
        {
          "output_type": "stream",
          "name": "stdout",
          "text": [
            "   0  1  2  3\n",
            "0  1  2  5  4\n",
            "1  2  1  4  3\n",
            "2  3  4  1  2\n",
            "3  4  3  2  1\n",
            "4  5  5  3  5\n"
          ]
        }
      ],
      "source": [
        "print(df)"
      ]
    },
    {
      "cell_type": "code",
      "execution_count": 13,
      "id": "c6a64362",
      "metadata": {
        "execution": {
          "iopub.execute_input": "2022-04-02T17:05:32.514523Z",
          "iopub.status.busy": "2022-04-02T17:05:32.514245Z",
          "iopub.status.idle": "2022-04-02T17:05:32.530878Z",
          "shell.execute_reply": "2022-04-02T17:05:32.529749Z",
          "shell.execute_reply.started": "2022-04-02T17:05:32.514494Z"
        },
        "papermill": {
          "duration": null,
          "end_time": null,
          "exception": null,
          "start_time": null,
          "status": "pending"
        },
        "tags": [],
        "id": "c6a64362"
      },
      "outputs": [],
      "source": [
        "Borda=df\n",
        "Reciprocal=df\n",
        "diff=0\n",
        "for i in range(jud):\n",
        "    Reciprocal[i]=Reciprocal[i].replace(math.inf,0)\n",
        "Reciprocal=Reciprocal.values.tolist()\n",
        "\n",
        "for i in range(jud):\n",
        "    Borda[i]=Borda[i].replace(math.inf,0)\n",
        "    data=Borda[i]\n",
        "    a=0\n",
        "    count=0\n",
        "    for j in range(par):\n",
        "        if data[j]!=0:\n",
        "            a=a+(par-data[j]+1)\n",
        "        else:\n",
        "            count=count+1\n",
        "    if (count):\n",
        "        s = sum(range(1, par + 1))\n",
        "        diff=(s-a)/count\n",
        "        \n",
        "    Borda[i]=Borda[i].replace(0,diff)\n",
        "    \n",
        "Borda=Borda.values.tolist()"
      ]
    },
    {
      "cell_type": "code",
      "execution_count": 14,
      "id": "d61b2d4b",
      "metadata": {
        "execution": {
          "iopub.execute_input": "2022-04-02T17:05:35.716317Z",
          "iopub.status.busy": "2022-04-02T17:05:35.715969Z",
          "iopub.status.idle": "2022-04-02T17:05:35.723891Z",
          "shell.execute_reply": "2022-04-02T17:05:35.722582Z",
          "shell.execute_reply.started": "2022-04-02T17:05:35.716288Z"
        },
        "papermill": {
          "duration": null,
          "end_time": null,
          "exception": null,
          "start_time": null,
          "status": "pending"
        },
        "tags": [],
        "colab": {
          "base_uri": "https://localhost:8080/",
          "height": 0
        },
        "id": "d61b2d4b",
        "outputId": "c6bfdcbf-6e0e-4911-fd37-f07c925dcd82"
      },
      "outputs": [
        {
          "output_type": "stream",
          "name": "stdout",
          "text": [
            "[[1, 2, 5, 4], [2, 1, 4, 3], [3, 4, 1, 2], [4, 3, 2, 1], [5, 5, 3, 5]]\n",
            "[[1, 2, 5, 4], [2, 1, 4, 3], [3, 4, 1, 2], [4, 3, 2, 1], [5, 5, 3, 5]]\n"
          ]
        }
      ],
      "source": [
        "print(Borda)\n",
        "print(Reciprocal)"
      ]
    },
    {
      "cell_type": "markdown",
      "id": "3e3d288c",
      "metadata": {
        "papermill": {
          "duration": null,
          "end_time": null,
          "exception": null,
          "start_time": null,
          "status": "pending"
        },
        "tags": [],
        "id": "3e3d288c"
      },
      "source": [
        "# Borda Method"
      ]
    },
    {
      "cell_type": "code",
      "execution_count": 15,
      "id": "2612b164",
      "metadata": {
        "execution": {
          "iopub.execute_input": "2022-04-02T17:05:48.172238Z",
          "iopub.status.busy": "2022-04-02T17:05:48.171949Z",
          "iopub.status.idle": "2022-04-02T17:05:48.178923Z",
          "shell.execute_reply": "2022-04-02T17:05:48.177294Z",
          "shell.execute_reply.started": "2022-04-02T17:05:48.172207Z"
        },
        "papermill": {
          "duration": null,
          "end_time": null,
          "exception": null,
          "start_time": null,
          "status": "pending"
        },
        "tags": [],
        "id": "2612b164"
      },
      "outputs": [],
      "source": [
        "ans=[]\n",
        "for i in range(par):\n",
        "    a=0\n",
        "    data=Borda[i]\n",
        "    for j in range(jud):\n",
        "        a=a+(par-data[j]+1)\n",
        "    ans.append(a)\n",
        "        \n",
        "    "
      ]
    },
    {
      "cell_type": "code",
      "execution_count": 16,
      "id": "e19d9941",
      "metadata": {
        "execution": {
          "iopub.execute_input": "2022-04-02T17:05:50.866998Z",
          "iopub.status.busy": "2022-04-02T17:05:50.866688Z",
          "iopub.status.idle": "2022-04-02T17:05:50.872622Z",
          "shell.execute_reply": "2022-04-02T17:05:50.871476Z",
          "shell.execute_reply.started": "2022-04-02T17:05:50.866968Z"
        },
        "papermill": {
          "duration": null,
          "end_time": null,
          "exception": null,
          "start_time": null,
          "status": "pending"
        },
        "tags": [],
        "colab": {
          "base_uri": "https://localhost:8080/",
          "height": 0
        },
        "id": "e19d9941",
        "outputId": "80c7672c-9469-4dc0-ca9f-6d854f380ae8"
      },
      "outputs": [
        {
          "output_type": "stream",
          "name": "stdout",
          "text": [
            "[12, 14, 14, 14, 6]\n"
          ]
        }
      ],
      "source": [
        "print(ans)"
      ]
    },
    {
      "cell_type": "markdown",
      "id": "cf140e06",
      "metadata": {
        "papermill": {
          "duration": null,
          "end_time": null,
          "exception": null,
          "start_time": null,
          "status": "pending"
        },
        "tags": [],
        "id": "cf140e06"
      },
      "source": [
        "# Reciprocal"
      ]
    },
    {
      "cell_type": "code",
      "execution_count": 17,
      "id": "f834e19c",
      "metadata": {
        "execution": {
          "iopub.execute_input": "2022-04-02T17:05:54.514629Z",
          "iopub.status.busy": "2022-04-02T17:05:54.514319Z",
          "iopub.status.idle": "2022-04-02T17:05:54.520741Z",
          "shell.execute_reply": "2022-04-02T17:05:54.519494Z",
          "shell.execute_reply.started": "2022-04-02T17:05:54.5146Z"
        },
        "papermill": {
          "duration": null,
          "end_time": null,
          "exception": null,
          "start_time": null,
          "status": "pending"
        },
        "tags": [],
        "id": "f834e19c"
      },
      "outputs": [],
      "source": [
        "ans=[]\n",
        "for i in range(par):\n",
        "    a=0\n",
        "    data=Reciprocal[i]\n",
        "    for j in range(jud):\n",
        "        if(data[j]==0):\n",
        "            continue\n",
        "        a=a+(1/data[j])\n",
        "    ans.append(a)"
      ]
    },
    {
      "cell_type": "code",
      "execution_count": 18,
      "id": "a14da20f",
      "metadata": {
        "execution": {
          "iopub.execute_input": "2022-04-02T17:05:58.061267Z",
          "iopub.status.busy": "2022-04-02T17:05:58.060658Z",
          "iopub.status.idle": "2022-04-02T17:05:58.067157Z",
          "shell.execute_reply": "2022-04-02T17:05:58.065774Z",
          "shell.execute_reply.started": "2022-04-02T17:05:58.061232Z"
        },
        "papermill": {
          "duration": null,
          "end_time": null,
          "exception": null,
          "start_time": null,
          "status": "pending"
        },
        "tags": [],
        "colab": {
          "base_uri": "https://localhost:8080/",
          "height": 0
        },
        "id": "a14da20f",
        "outputId": "90c3a41c-bea9-42b9-fb21-e54ec470e77e"
      },
      "outputs": [
        {
          "output_type": "stream",
          "name": "stdout",
          "text": [
            "[1.95, 2.0833333333333335, 2.083333333333333, 2.083333333333333, 0.9333333333333333]\n"
          ]
        }
      ],
      "source": [
        "print(ans)"
      ]
    },
    {
      "cell_type": "markdown",
      "source": [
        "# Condercet"
      ],
      "metadata": {
        "id": "M4YSitv91vnx"
      },
      "id": "M4YSitv91vnx"
    },
    {
      "cell_type": "code",
      "source": [
        "# This Python 3 environment comes with many helpful analytics libraries installed\n",
        "# It is defined by the kaggle/python Docker image: https://github.com/kaggle/docker-python\n",
        "# For example, here's several helpful packages to load\n",
        "\n",
        "import numpy as np # linear algebra\n",
        "import pandas as pd # data processing, CSV file I/O (e.g. pd.read_csv)\n",
        "\n",
        "# Input data files are available in the read-only \"../input/\" directory\n",
        "# For example, running this (by clicking run or pressing Shift+Enter) will list all files under the input directory\n",
        "\n",
        "import os\n",
        "for dirname, _, filenames in os.walk('/kaggle/input'):\n",
        "    for filename in filenames:\n",
        "        print(os.path.join(dirname, filename))\n",
        "\n",
        "# You can write up to 20GB to the current directory (/kaggle/working/) that gets preserved as output when you create a version using \"Save & Run All\" \n",
        "# You can also write temporary files to /kaggle/temp/, but they won't be saved outside of the current session"
      ],
      "metadata": {
        "id": "_nkxiPMt1zcJ"
      },
      "id": "_nkxiPMt1zcJ",
      "execution_count": 19,
      "outputs": []
    },
    {
      "cell_type": "code",
      "source": [
        "from itertools import combinations"
      ],
      "metadata": {
        "id": "YcKMeCoj15pt"
      },
      "id": "YcKMeCoj15pt",
      "execution_count": 20,
      "outputs": []
    },
    {
      "cell_type": "code",
      "source": [
        "df = pd.read_csv(\"condercet.csv\")"
      ],
      "metadata": {
        "id": "zjhQihG82ORu"
      },
      "id": "zjhQihG82ORu",
      "execution_count": 21,
      "outputs": []
    },
    {
      "cell_type": "code",
      "source": [
        "df"
      ],
      "metadata": {
        "colab": {
          "base_uri": "https://localhost:8080/",
          "height": 206
        },
        "id": "jF3RfXcj2QFJ",
        "outputId": "090ffbb2-fdf6-457d-a90e-a8ea5cb577b2"
      },
      "id": "jF3RfXcj2QFJ",
      "execution_count": 22,
      "outputs": [
        {
          "output_type": "execute_result",
          "data": {
            "text/plain": [
              "  Document  J1  J2  J3  J4\n",
              "0       P1   1   2   5   4\n",
              "1       P2   2   1   4   3\n",
              "2       P3   3   4   1   2\n",
              "3       P4   4   3   2   1\n",
              "4       P5   5   5   3   5"
            ],
            "text/html": [
              "\n",
              "  <div id=\"df-24094877-1013-48fa-b172-e46853ff052e\">\n",
              "    <div class=\"colab-df-container\">\n",
              "      <div>\n",
              "<style scoped>\n",
              "    .dataframe tbody tr th:only-of-type {\n",
              "        vertical-align: middle;\n",
              "    }\n",
              "\n",
              "    .dataframe tbody tr th {\n",
              "        vertical-align: top;\n",
              "    }\n",
              "\n",
              "    .dataframe thead th {\n",
              "        text-align: right;\n",
              "    }\n",
              "</style>\n",
              "<table border=\"1\" class=\"dataframe\">\n",
              "  <thead>\n",
              "    <tr style=\"text-align: right;\">\n",
              "      <th></th>\n",
              "      <th>Document</th>\n",
              "      <th>J1</th>\n",
              "      <th>J2</th>\n",
              "      <th>J3</th>\n",
              "      <th>J4</th>\n",
              "    </tr>\n",
              "  </thead>\n",
              "  <tbody>\n",
              "    <tr>\n",
              "      <th>0</th>\n",
              "      <td>P1</td>\n",
              "      <td>1</td>\n",
              "      <td>2</td>\n",
              "      <td>5</td>\n",
              "      <td>4</td>\n",
              "    </tr>\n",
              "    <tr>\n",
              "      <th>1</th>\n",
              "      <td>P2</td>\n",
              "      <td>2</td>\n",
              "      <td>1</td>\n",
              "      <td>4</td>\n",
              "      <td>3</td>\n",
              "    </tr>\n",
              "    <tr>\n",
              "      <th>2</th>\n",
              "      <td>P3</td>\n",
              "      <td>3</td>\n",
              "      <td>4</td>\n",
              "      <td>1</td>\n",
              "      <td>2</td>\n",
              "    </tr>\n",
              "    <tr>\n",
              "      <th>3</th>\n",
              "      <td>P4</td>\n",
              "      <td>4</td>\n",
              "      <td>3</td>\n",
              "      <td>2</td>\n",
              "      <td>1</td>\n",
              "    </tr>\n",
              "    <tr>\n",
              "      <th>4</th>\n",
              "      <td>P5</td>\n",
              "      <td>5</td>\n",
              "      <td>5</td>\n",
              "      <td>3</td>\n",
              "      <td>5</td>\n",
              "    </tr>\n",
              "  </tbody>\n",
              "</table>\n",
              "</div>\n",
              "      <button class=\"colab-df-convert\" onclick=\"convertToInteractive('df-24094877-1013-48fa-b172-e46853ff052e')\"\n",
              "              title=\"Convert this dataframe to an interactive table.\"\n",
              "              style=\"display:none;\">\n",
              "        \n",
              "  <svg xmlns=\"http://www.w3.org/2000/svg\" height=\"24px\"viewBox=\"0 0 24 24\"\n",
              "       width=\"24px\">\n",
              "    <path d=\"M0 0h24v24H0V0z\" fill=\"none\"/>\n",
              "    <path d=\"M18.56 5.44l.94 2.06.94-2.06 2.06-.94-2.06-.94-.94-2.06-.94 2.06-2.06.94zm-11 1L8.5 8.5l.94-2.06 2.06-.94-2.06-.94L8.5 2.5l-.94 2.06-2.06.94zm10 10l.94 2.06.94-2.06 2.06-.94-2.06-.94-.94-2.06-.94 2.06-2.06.94z\"/><path d=\"M17.41 7.96l-1.37-1.37c-.4-.4-.92-.59-1.43-.59-.52 0-1.04.2-1.43.59L10.3 9.45l-7.72 7.72c-.78.78-.78 2.05 0 2.83L4 21.41c.39.39.9.59 1.41.59.51 0 1.02-.2 1.41-.59l7.78-7.78 2.81-2.81c.8-.78.8-2.07 0-2.86zM5.41 20L4 18.59l7.72-7.72 1.47 1.35L5.41 20z\"/>\n",
              "  </svg>\n",
              "      </button>\n",
              "      \n",
              "  <style>\n",
              "    .colab-df-container {\n",
              "      display:flex;\n",
              "      flex-wrap:wrap;\n",
              "      gap: 12px;\n",
              "    }\n",
              "\n",
              "    .colab-df-convert {\n",
              "      background-color: #E8F0FE;\n",
              "      border: none;\n",
              "      border-radius: 50%;\n",
              "      cursor: pointer;\n",
              "      display: none;\n",
              "      fill: #1967D2;\n",
              "      height: 32px;\n",
              "      padding: 0 0 0 0;\n",
              "      width: 32px;\n",
              "    }\n",
              "\n",
              "    .colab-df-convert:hover {\n",
              "      background-color: #E2EBFA;\n",
              "      box-shadow: 0px 1px 2px rgba(60, 64, 67, 0.3), 0px 1px 3px 1px rgba(60, 64, 67, 0.15);\n",
              "      fill: #174EA6;\n",
              "    }\n",
              "\n",
              "    [theme=dark] .colab-df-convert {\n",
              "      background-color: #3B4455;\n",
              "      fill: #D2E3FC;\n",
              "    }\n",
              "\n",
              "    [theme=dark] .colab-df-convert:hover {\n",
              "      background-color: #434B5C;\n",
              "      box-shadow: 0px 1px 3px 1px rgba(0, 0, 0, 0.15);\n",
              "      filter: drop-shadow(0px 1px 2px rgba(0, 0, 0, 0.3));\n",
              "      fill: #FFFFFF;\n",
              "    }\n",
              "  </style>\n",
              "\n",
              "      <script>\n",
              "        const buttonEl =\n",
              "          document.querySelector('#df-24094877-1013-48fa-b172-e46853ff052e button.colab-df-convert');\n",
              "        buttonEl.style.display =\n",
              "          google.colab.kernel.accessAllowed ? 'block' : 'none';\n",
              "\n",
              "        async function convertToInteractive(key) {\n",
              "          const element = document.querySelector('#df-24094877-1013-48fa-b172-e46853ff052e');\n",
              "          const dataTable =\n",
              "            await google.colab.kernel.invokeFunction('convertToInteractive',\n",
              "                                                     [key], {});\n",
              "          if (!dataTable) return;\n",
              "\n",
              "          const docLinkHtml = 'Like what you see? Visit the ' +\n",
              "            '<a target=\"_blank\" href=https://colab.research.google.com/notebooks/data_table.ipynb>data table notebook</a>'\n",
              "            + ' to learn more about interactive tables.';\n",
              "          element.innerHTML = '';\n",
              "          dataTable['output_type'] = 'display_data';\n",
              "          await google.colab.output.renderOutput(dataTable, element);\n",
              "          const docLink = document.createElement('div');\n",
              "          docLink.innerHTML = docLinkHtml;\n",
              "          element.appendChild(docLink);\n",
              "        }\n",
              "      </script>\n",
              "    </div>\n",
              "  </div>\n",
              "  "
            ]
          },
          "metadata": {},
          "execution_count": 22
        }
      ]
    },
    {
      "cell_type": "code",
      "source": [
        "document_list = df.iloc[:,0].tolist()"
      ],
      "metadata": {
        "id": "_p2jKYu22Xbp"
      },
      "id": "_p2jKYu22Xbp",
      "execution_count": 23,
      "outputs": []
    },
    {
      "cell_type": "code",
      "source": [
        "document_list"
      ],
      "metadata": {
        "colab": {
          "base_uri": "https://localhost:8080/",
          "height": 0
        },
        "id": "lhvnHP5v2Yo-",
        "outputId": "c749a05b-0bfb-4226-dc8f-3647e7145bf4"
      },
      "id": "lhvnHP5v2Yo-",
      "execution_count": 24,
      "outputs": [
        {
          "output_type": "execute_result",
          "data": {
            "text/plain": [
              "['P1', 'P2', 'P3', 'P4', 'P5']"
            ]
          },
          "metadata": {},
          "execution_count": 24
        }
      ]
    },
    {
      "cell_type": "code",
      "source": [
        "pairs = list(combinations(document_list, 2))"
      ],
      "metadata": {
        "id": "bRNsGYNa2aYm"
      },
      "id": "bRNsGYNa2aYm",
      "execution_count": 25,
      "outputs": []
    },
    {
      "cell_type": "code",
      "source": [
        "pairs"
      ],
      "metadata": {
        "colab": {
          "base_uri": "https://localhost:8080/",
          "height": 0
        },
        "id": "puUo_zGB2cD2",
        "outputId": "1123919d-0268-4a68-90ff-9e8d42616e5e"
      },
      "id": "puUo_zGB2cD2",
      "execution_count": 26,
      "outputs": [
        {
          "output_type": "execute_result",
          "data": {
            "text/plain": [
              "[('P1', 'P2'),\n",
              " ('P1', 'P3'),\n",
              " ('P1', 'P4'),\n",
              " ('P1', 'P5'),\n",
              " ('P2', 'P3'),\n",
              " ('P2', 'P4'),\n",
              " ('P2', 'P5'),\n",
              " ('P3', 'P4'),\n",
              " ('P3', 'P5'),\n",
              " ('P4', 'P5')]"
            ]
          },
          "metadata": {},
          "execution_count": 26
        }
      ]
    },
    {
      "cell_type": "code",
      "source": [
        "print(df[df[\"Document\"]==\"P1\"].index.values[0])"
      ],
      "metadata": {
        "colab": {
          "base_uri": "https://localhost:8080/",
          "height": 0
        },
        "id": "fII5dqHG2e1m",
        "outputId": "c3c5938a-713d-4389-85db-182c7fe9cc4d"
      },
      "id": "fII5dqHG2e1m",
      "execution_count": 27,
      "outputs": [
        {
          "output_type": "stream",
          "name": "stdout",
          "text": [
            "0\n"
          ]
        }
      ]
    },
    {
      "cell_type": "code",
      "source": [
        "df[\"J1\"][0]"
      ],
      "metadata": {
        "colab": {
          "base_uri": "https://localhost:8080/",
          "height": 0
        },
        "id": "VhaJDHLB2fwM",
        "outputId": "b2b537e8-eb98-46ca-bb16-d91ac74b75ab"
      },
      "id": "VhaJDHLB2fwM",
      "execution_count": 28,
      "outputs": [
        {
          "output_type": "execute_result",
          "data": {
            "text/plain": [
              "1"
            ]
          },
          "metadata": {},
          "execution_count": 28
        }
      ]
    },
    {
      "cell_type": "code",
      "source": [
        "combinations = {}\n",
        "for i in pairs:\n",
        "    item_1 = i[0]\n",
        "    item_2 = i[1]\n",
        "    index_1 = df[df[\"Document\"] == item_1].index.values[0]\n",
        "    index_2 = df[df[\"Document\"] == item_2].index.values[0]\n",
        "    for j in df.columns[1:]:\n",
        "        if j not in combinations:\n",
        "            combinations[j] = []\n",
        "        if df[j][index_1] < df[j][index_2]:\n",
        "            combinations[j].append(item_1)\n",
        "        elif df[j][index_1] > df[j][index_2]:\n",
        "            combinations[j].append(item_2)\n",
        "        else:\n",
        "            combinations[j].append(\"-\")"
      ],
      "metadata": {
        "id": "Ttt806dy2i57"
      },
      "id": "Ttt806dy2i57",
      "execution_count": 29,
      "outputs": []
    },
    {
      "cell_type": "code",
      "source": [
        "combinations"
      ],
      "metadata": {
        "colab": {
          "base_uri": "https://localhost:8080/",
          "height": 0
        },
        "id": "7unN6M-_2lHo",
        "outputId": "b0963691-f2b0-406f-9345-ba951f868748"
      },
      "id": "7unN6M-_2lHo",
      "execution_count": 30,
      "outputs": [
        {
          "output_type": "execute_result",
          "data": {
            "text/plain": [
              "{'J1': ['P1', 'P1', 'P1', 'P1', 'P2', 'P2', 'P2', 'P3', 'P3', 'P4'],\n",
              " 'J2': ['P2', 'P1', 'P1', 'P1', 'P2', 'P2', 'P2', 'P4', 'P3', 'P4'],\n",
              " 'J3': ['P2', 'P3', 'P4', 'P5', 'P3', 'P4', 'P5', 'P3', 'P3', 'P4'],\n",
              " 'J4': ['P2', 'P3', 'P4', 'P1', 'P3', 'P4', 'P2', 'P4', 'P3', 'P4']}"
            ]
          },
          "metadata": {},
          "execution_count": 30
        }
      ]
    },
    {
      "cell_type": "code",
      "source": [
        "pair_df = pd.DataFrame(combinations)\n",
        "pair_df"
      ],
      "metadata": {
        "colab": {
          "base_uri": "https://localhost:8080/",
          "height": 363
        },
        "id": "B3e8Te4s2lvb",
        "outputId": "657dacfb-df85-4ef1-e3cc-3fdf31b985e6"
      },
      "id": "B3e8Te4s2lvb",
      "execution_count": 31,
      "outputs": [
        {
          "output_type": "execute_result",
          "data": {
            "text/plain": [
              "   J1  J2  J3  J4\n",
              "0  P1  P2  P2  P2\n",
              "1  P1  P1  P3  P3\n",
              "2  P1  P1  P4  P4\n",
              "3  P1  P1  P5  P1\n",
              "4  P2  P2  P3  P3\n",
              "5  P2  P2  P4  P4\n",
              "6  P2  P2  P5  P2\n",
              "7  P3  P4  P3  P4\n",
              "8  P3  P3  P3  P3\n",
              "9  P4  P4  P4  P4"
            ],
            "text/html": [
              "\n",
              "  <div id=\"df-82c7216c-02bd-4e1a-ac05-5928ca3a82f8\">\n",
              "    <div class=\"colab-df-container\">\n",
              "      <div>\n",
              "<style scoped>\n",
              "    .dataframe tbody tr th:only-of-type {\n",
              "        vertical-align: middle;\n",
              "    }\n",
              "\n",
              "    .dataframe tbody tr th {\n",
              "        vertical-align: top;\n",
              "    }\n",
              "\n",
              "    .dataframe thead th {\n",
              "        text-align: right;\n",
              "    }\n",
              "</style>\n",
              "<table border=\"1\" class=\"dataframe\">\n",
              "  <thead>\n",
              "    <tr style=\"text-align: right;\">\n",
              "      <th></th>\n",
              "      <th>J1</th>\n",
              "      <th>J2</th>\n",
              "      <th>J3</th>\n",
              "      <th>J4</th>\n",
              "    </tr>\n",
              "  </thead>\n",
              "  <tbody>\n",
              "    <tr>\n",
              "      <th>0</th>\n",
              "      <td>P1</td>\n",
              "      <td>P2</td>\n",
              "      <td>P2</td>\n",
              "      <td>P2</td>\n",
              "    </tr>\n",
              "    <tr>\n",
              "      <th>1</th>\n",
              "      <td>P1</td>\n",
              "      <td>P1</td>\n",
              "      <td>P3</td>\n",
              "      <td>P3</td>\n",
              "    </tr>\n",
              "    <tr>\n",
              "      <th>2</th>\n",
              "      <td>P1</td>\n",
              "      <td>P1</td>\n",
              "      <td>P4</td>\n",
              "      <td>P4</td>\n",
              "    </tr>\n",
              "    <tr>\n",
              "      <th>3</th>\n",
              "      <td>P1</td>\n",
              "      <td>P1</td>\n",
              "      <td>P5</td>\n",
              "      <td>P1</td>\n",
              "    </tr>\n",
              "    <tr>\n",
              "      <th>4</th>\n",
              "      <td>P2</td>\n",
              "      <td>P2</td>\n",
              "      <td>P3</td>\n",
              "      <td>P3</td>\n",
              "    </tr>\n",
              "    <tr>\n",
              "      <th>5</th>\n",
              "      <td>P2</td>\n",
              "      <td>P2</td>\n",
              "      <td>P4</td>\n",
              "      <td>P4</td>\n",
              "    </tr>\n",
              "    <tr>\n",
              "      <th>6</th>\n",
              "      <td>P2</td>\n",
              "      <td>P2</td>\n",
              "      <td>P5</td>\n",
              "      <td>P2</td>\n",
              "    </tr>\n",
              "    <tr>\n",
              "      <th>7</th>\n",
              "      <td>P3</td>\n",
              "      <td>P4</td>\n",
              "      <td>P3</td>\n",
              "      <td>P4</td>\n",
              "    </tr>\n",
              "    <tr>\n",
              "      <th>8</th>\n",
              "      <td>P3</td>\n",
              "      <td>P3</td>\n",
              "      <td>P3</td>\n",
              "      <td>P3</td>\n",
              "    </tr>\n",
              "    <tr>\n",
              "      <th>9</th>\n",
              "      <td>P4</td>\n",
              "      <td>P4</td>\n",
              "      <td>P4</td>\n",
              "      <td>P4</td>\n",
              "    </tr>\n",
              "  </tbody>\n",
              "</table>\n",
              "</div>\n",
              "      <button class=\"colab-df-convert\" onclick=\"convertToInteractive('df-82c7216c-02bd-4e1a-ac05-5928ca3a82f8')\"\n",
              "              title=\"Convert this dataframe to an interactive table.\"\n",
              "              style=\"display:none;\">\n",
              "        \n",
              "  <svg xmlns=\"http://www.w3.org/2000/svg\" height=\"24px\"viewBox=\"0 0 24 24\"\n",
              "       width=\"24px\">\n",
              "    <path d=\"M0 0h24v24H0V0z\" fill=\"none\"/>\n",
              "    <path d=\"M18.56 5.44l.94 2.06.94-2.06 2.06-.94-2.06-.94-.94-2.06-.94 2.06-2.06.94zm-11 1L8.5 8.5l.94-2.06 2.06-.94-2.06-.94L8.5 2.5l-.94 2.06-2.06.94zm10 10l.94 2.06.94-2.06 2.06-.94-2.06-.94-.94-2.06-.94 2.06-2.06.94z\"/><path d=\"M17.41 7.96l-1.37-1.37c-.4-.4-.92-.59-1.43-.59-.52 0-1.04.2-1.43.59L10.3 9.45l-7.72 7.72c-.78.78-.78 2.05 0 2.83L4 21.41c.39.39.9.59 1.41.59.51 0 1.02-.2 1.41-.59l7.78-7.78 2.81-2.81c.8-.78.8-2.07 0-2.86zM5.41 20L4 18.59l7.72-7.72 1.47 1.35L5.41 20z\"/>\n",
              "  </svg>\n",
              "      </button>\n",
              "      \n",
              "  <style>\n",
              "    .colab-df-container {\n",
              "      display:flex;\n",
              "      flex-wrap:wrap;\n",
              "      gap: 12px;\n",
              "    }\n",
              "\n",
              "    .colab-df-convert {\n",
              "      background-color: #E8F0FE;\n",
              "      border: none;\n",
              "      border-radius: 50%;\n",
              "      cursor: pointer;\n",
              "      display: none;\n",
              "      fill: #1967D2;\n",
              "      height: 32px;\n",
              "      padding: 0 0 0 0;\n",
              "      width: 32px;\n",
              "    }\n",
              "\n",
              "    .colab-df-convert:hover {\n",
              "      background-color: #E2EBFA;\n",
              "      box-shadow: 0px 1px 2px rgba(60, 64, 67, 0.3), 0px 1px 3px 1px rgba(60, 64, 67, 0.15);\n",
              "      fill: #174EA6;\n",
              "    }\n",
              "\n",
              "    [theme=dark] .colab-df-convert {\n",
              "      background-color: #3B4455;\n",
              "      fill: #D2E3FC;\n",
              "    }\n",
              "\n",
              "    [theme=dark] .colab-df-convert:hover {\n",
              "      background-color: #434B5C;\n",
              "      box-shadow: 0px 1px 3px 1px rgba(0, 0, 0, 0.15);\n",
              "      filter: drop-shadow(0px 1px 2px rgba(0, 0, 0, 0.3));\n",
              "      fill: #FFFFFF;\n",
              "    }\n",
              "  </style>\n",
              "\n",
              "      <script>\n",
              "        const buttonEl =\n",
              "          document.querySelector('#df-82c7216c-02bd-4e1a-ac05-5928ca3a82f8 button.colab-df-convert');\n",
              "        buttonEl.style.display =\n",
              "          google.colab.kernel.accessAllowed ? 'block' : 'none';\n",
              "\n",
              "        async function convertToInteractive(key) {\n",
              "          const element = document.querySelector('#df-82c7216c-02bd-4e1a-ac05-5928ca3a82f8');\n",
              "          const dataTable =\n",
              "            await google.colab.kernel.invokeFunction('convertToInteractive',\n",
              "                                                     [key], {});\n",
              "          if (!dataTable) return;\n",
              "\n",
              "          const docLinkHtml = 'Like what you see? Visit the ' +\n",
              "            '<a target=\"_blank\" href=https://colab.research.google.com/notebooks/data_table.ipynb>data table notebook</a>'\n",
              "            + ' to learn more about interactive tables.';\n",
              "          element.innerHTML = '';\n",
              "          dataTable['output_type'] = 'display_data';\n",
              "          await google.colab.output.renderOutput(dataTable, element);\n",
              "          const docLink = document.createElement('div');\n",
              "          docLink.innerHTML = docLinkHtml;\n",
              "          element.appendChild(docLink);\n",
              "        }\n",
              "      </script>\n",
              "    </div>\n",
              "  </div>\n",
              "  "
            ]
          },
          "metadata": {},
          "execution_count": 31
        }
      ]
    },
    {
      "cell_type": "code",
      "source": [
        "pair_df[\"Pairs\"] = pairs"
      ],
      "metadata": {
        "id": "QwdnK68Y2qQe"
      },
      "id": "QwdnK68Y2qQe",
      "execution_count": 32,
      "outputs": []
    },
    {
      "cell_type": "code",
      "source": [
        "pair_df = pair_df[[\"Pairs\", \"J1\", \"J2\", \"J3\", \"J4\"]]"
      ],
      "metadata": {
        "id": "jvOeTbFe2sIn"
      },
      "id": "jvOeTbFe2sIn",
      "execution_count": 33,
      "outputs": []
    },
    {
      "cell_type": "code",
      "source": [
        "pair_df"
      ],
      "metadata": {
        "colab": {
          "base_uri": "https://localhost:8080/",
          "height": 363
        },
        "id": "sdFo8jmF2uHr",
        "outputId": "2da8adee-0de8-4ae8-ac72-5be3f579e24a"
      },
      "id": "sdFo8jmF2uHr",
      "execution_count": 34,
      "outputs": [
        {
          "output_type": "execute_result",
          "data": {
            "text/plain": [
              "      Pairs  J1  J2  J3  J4\n",
              "0  (P1, P2)  P1  P2  P2  P2\n",
              "1  (P1, P3)  P1  P1  P3  P3\n",
              "2  (P1, P4)  P1  P1  P4  P4\n",
              "3  (P1, P5)  P1  P1  P5  P1\n",
              "4  (P2, P3)  P2  P2  P3  P3\n",
              "5  (P2, P4)  P2  P2  P4  P4\n",
              "6  (P2, P5)  P2  P2  P5  P2\n",
              "7  (P3, P4)  P3  P4  P3  P4\n",
              "8  (P3, P5)  P3  P3  P3  P3\n",
              "9  (P4, P5)  P4  P4  P4  P4"
            ],
            "text/html": [
              "\n",
              "  <div id=\"df-43a8ad21-f598-49e6-af97-ed7a6843772e\">\n",
              "    <div class=\"colab-df-container\">\n",
              "      <div>\n",
              "<style scoped>\n",
              "    .dataframe tbody tr th:only-of-type {\n",
              "        vertical-align: middle;\n",
              "    }\n",
              "\n",
              "    .dataframe tbody tr th {\n",
              "        vertical-align: top;\n",
              "    }\n",
              "\n",
              "    .dataframe thead th {\n",
              "        text-align: right;\n",
              "    }\n",
              "</style>\n",
              "<table border=\"1\" class=\"dataframe\">\n",
              "  <thead>\n",
              "    <tr style=\"text-align: right;\">\n",
              "      <th></th>\n",
              "      <th>Pairs</th>\n",
              "      <th>J1</th>\n",
              "      <th>J2</th>\n",
              "      <th>J3</th>\n",
              "      <th>J4</th>\n",
              "    </tr>\n",
              "  </thead>\n",
              "  <tbody>\n",
              "    <tr>\n",
              "      <th>0</th>\n",
              "      <td>(P1, P2)</td>\n",
              "      <td>P1</td>\n",
              "      <td>P2</td>\n",
              "      <td>P2</td>\n",
              "      <td>P2</td>\n",
              "    </tr>\n",
              "    <tr>\n",
              "      <th>1</th>\n",
              "      <td>(P1, P3)</td>\n",
              "      <td>P1</td>\n",
              "      <td>P1</td>\n",
              "      <td>P3</td>\n",
              "      <td>P3</td>\n",
              "    </tr>\n",
              "    <tr>\n",
              "      <th>2</th>\n",
              "      <td>(P1, P4)</td>\n",
              "      <td>P1</td>\n",
              "      <td>P1</td>\n",
              "      <td>P4</td>\n",
              "      <td>P4</td>\n",
              "    </tr>\n",
              "    <tr>\n",
              "      <th>3</th>\n",
              "      <td>(P1, P5)</td>\n",
              "      <td>P1</td>\n",
              "      <td>P1</td>\n",
              "      <td>P5</td>\n",
              "      <td>P1</td>\n",
              "    </tr>\n",
              "    <tr>\n",
              "      <th>4</th>\n",
              "      <td>(P2, P3)</td>\n",
              "      <td>P2</td>\n",
              "      <td>P2</td>\n",
              "      <td>P3</td>\n",
              "      <td>P3</td>\n",
              "    </tr>\n",
              "    <tr>\n",
              "      <th>5</th>\n",
              "      <td>(P2, P4)</td>\n",
              "      <td>P2</td>\n",
              "      <td>P2</td>\n",
              "      <td>P4</td>\n",
              "      <td>P4</td>\n",
              "    </tr>\n",
              "    <tr>\n",
              "      <th>6</th>\n",
              "      <td>(P2, P5)</td>\n",
              "      <td>P2</td>\n",
              "      <td>P2</td>\n",
              "      <td>P5</td>\n",
              "      <td>P2</td>\n",
              "    </tr>\n",
              "    <tr>\n",
              "      <th>7</th>\n",
              "      <td>(P3, P4)</td>\n",
              "      <td>P3</td>\n",
              "      <td>P4</td>\n",
              "      <td>P3</td>\n",
              "      <td>P4</td>\n",
              "    </tr>\n",
              "    <tr>\n",
              "      <th>8</th>\n",
              "      <td>(P3, P5)</td>\n",
              "      <td>P3</td>\n",
              "      <td>P3</td>\n",
              "      <td>P3</td>\n",
              "      <td>P3</td>\n",
              "    </tr>\n",
              "    <tr>\n",
              "      <th>9</th>\n",
              "      <td>(P4, P5)</td>\n",
              "      <td>P4</td>\n",
              "      <td>P4</td>\n",
              "      <td>P4</td>\n",
              "      <td>P4</td>\n",
              "    </tr>\n",
              "  </tbody>\n",
              "</table>\n",
              "</div>\n",
              "      <button class=\"colab-df-convert\" onclick=\"convertToInteractive('df-43a8ad21-f598-49e6-af97-ed7a6843772e')\"\n",
              "              title=\"Convert this dataframe to an interactive table.\"\n",
              "              style=\"display:none;\">\n",
              "        \n",
              "  <svg xmlns=\"http://www.w3.org/2000/svg\" height=\"24px\"viewBox=\"0 0 24 24\"\n",
              "       width=\"24px\">\n",
              "    <path d=\"M0 0h24v24H0V0z\" fill=\"none\"/>\n",
              "    <path d=\"M18.56 5.44l.94 2.06.94-2.06 2.06-.94-2.06-.94-.94-2.06-.94 2.06-2.06.94zm-11 1L8.5 8.5l.94-2.06 2.06-.94-2.06-.94L8.5 2.5l-.94 2.06-2.06.94zm10 10l.94 2.06.94-2.06 2.06-.94-2.06-.94-.94-2.06-.94 2.06-2.06.94z\"/><path d=\"M17.41 7.96l-1.37-1.37c-.4-.4-.92-.59-1.43-.59-.52 0-1.04.2-1.43.59L10.3 9.45l-7.72 7.72c-.78.78-.78 2.05 0 2.83L4 21.41c.39.39.9.59 1.41.59.51 0 1.02-.2 1.41-.59l7.78-7.78 2.81-2.81c.8-.78.8-2.07 0-2.86zM5.41 20L4 18.59l7.72-7.72 1.47 1.35L5.41 20z\"/>\n",
              "  </svg>\n",
              "      </button>\n",
              "      \n",
              "  <style>\n",
              "    .colab-df-container {\n",
              "      display:flex;\n",
              "      flex-wrap:wrap;\n",
              "      gap: 12px;\n",
              "    }\n",
              "\n",
              "    .colab-df-convert {\n",
              "      background-color: #E8F0FE;\n",
              "      border: none;\n",
              "      border-radius: 50%;\n",
              "      cursor: pointer;\n",
              "      display: none;\n",
              "      fill: #1967D2;\n",
              "      height: 32px;\n",
              "      padding: 0 0 0 0;\n",
              "      width: 32px;\n",
              "    }\n",
              "\n",
              "    .colab-df-convert:hover {\n",
              "      background-color: #E2EBFA;\n",
              "      box-shadow: 0px 1px 2px rgba(60, 64, 67, 0.3), 0px 1px 3px 1px rgba(60, 64, 67, 0.15);\n",
              "      fill: #174EA6;\n",
              "    }\n",
              "\n",
              "    [theme=dark] .colab-df-convert {\n",
              "      background-color: #3B4455;\n",
              "      fill: #D2E3FC;\n",
              "    }\n",
              "\n",
              "    [theme=dark] .colab-df-convert:hover {\n",
              "      background-color: #434B5C;\n",
              "      box-shadow: 0px 1px 3px 1px rgba(0, 0, 0, 0.15);\n",
              "      filter: drop-shadow(0px 1px 2px rgba(0, 0, 0, 0.3));\n",
              "      fill: #FFFFFF;\n",
              "    }\n",
              "  </style>\n",
              "\n",
              "      <script>\n",
              "        const buttonEl =\n",
              "          document.querySelector('#df-43a8ad21-f598-49e6-af97-ed7a6843772e button.colab-df-convert');\n",
              "        buttonEl.style.display =\n",
              "          google.colab.kernel.accessAllowed ? 'block' : 'none';\n",
              "\n",
              "        async function convertToInteractive(key) {\n",
              "          const element = document.querySelector('#df-43a8ad21-f598-49e6-af97-ed7a6843772e');\n",
              "          const dataTable =\n",
              "            await google.colab.kernel.invokeFunction('convertToInteractive',\n",
              "                                                     [key], {});\n",
              "          if (!dataTable) return;\n",
              "\n",
              "          const docLinkHtml = 'Like what you see? Visit the ' +\n",
              "            '<a target=\"_blank\" href=https://colab.research.google.com/notebooks/data_table.ipynb>data table notebook</a>'\n",
              "            + ' to learn more about interactive tables.';\n",
              "          element.innerHTML = '';\n",
              "          dataTable['output_type'] = 'display_data';\n",
              "          await google.colab.output.renderOutput(dataTable, element);\n",
              "          const docLink = document.createElement('div');\n",
              "          docLink.innerHTML = docLinkHtml;\n",
              "          element.appendChild(docLink);\n",
              "        }\n",
              "      </script>\n",
              "    </div>\n",
              "  </div>\n",
              "  "
            ]
          },
          "metadata": {},
          "execution_count": 34
        }
      ]
    },
    {
      "cell_type": "code",
      "source": [
        "win_loss_1 = []\n",
        "win_loss_2 = []\n",
        "for i in range(pair_df.shape[0]):\n",
        "    count_item_1 = 0\n",
        "    count_item_2 = 0\n",
        "    tie = 0\n",
        "    count_ties = 0\n",
        "    \n",
        "    item_1 = pair_df[\"Pairs\"][i][0]\n",
        "    item_2 = pair_df[\"Pairs\"][i][1]\n",
        "    \n",
        "    row = pair_df.iloc[i, 1:]\n",
        "    for j in row:\n",
        "        if j == item_1:\n",
        "            count_item_1 += 1\n",
        "        else:\n",
        "            count_item_2 += 1\n",
        "    print(\"Item: \" + str(item_1) + \" Count: \" + str(count_item_1))\n",
        "    print(\"Item: \" + str(item_2) + \" Count: \" + str(count_item_2))\n",
        "    \n",
        "    out_str_1 = \"\"\n",
        "    out_str_2 = \"\"\n",
        "    \n",
        "    if item_1 == \"-\" or item_2 == \"-\":\n",
        "        tie = 1\n",
        "    out_str_1 = str(count_item_1) + \":\" + str(count_item_2) + \":\" + str(tie)\n",
        "    out_str_2 = str(count_item_2) + \":\" + str(count_item_1) + \":\" + str(tie)    \n",
        "    \n",
        "    print(\"Output String 1: \", out_str_1)\n",
        "    print(\"Output String 2: \", out_str_2)\n",
        "    \n",
        "    print(\"\\n\\n\")\n",
        "    win_loss_1.append(out_str_1)\n",
        "    win_loss_2.append(out_str_2)"
      ],
      "metadata": {
        "colab": {
          "base_uri": "https://localhost:8080/",
          "height": 0
        },
        "id": "Yb2aHGS-2w-R",
        "outputId": "0b63e235-5718-47b0-cbb0-65f756a7ce36"
      },
      "id": "Yb2aHGS-2w-R",
      "execution_count": 35,
      "outputs": [
        {
          "output_type": "stream",
          "name": "stdout",
          "text": [
            "Item: P1 Count: 1\n",
            "Item: P2 Count: 3\n",
            "Output String 1:  1:3:0\n",
            "Output String 2:  3:1:0\n",
            "\n",
            "\n",
            "\n",
            "Item: P1 Count: 2\n",
            "Item: P3 Count: 2\n",
            "Output String 1:  2:2:0\n",
            "Output String 2:  2:2:0\n",
            "\n",
            "\n",
            "\n",
            "Item: P1 Count: 2\n",
            "Item: P4 Count: 2\n",
            "Output String 1:  2:2:0\n",
            "Output String 2:  2:2:0\n",
            "\n",
            "\n",
            "\n",
            "Item: P1 Count: 3\n",
            "Item: P5 Count: 1\n",
            "Output String 1:  3:1:0\n",
            "Output String 2:  1:3:0\n",
            "\n",
            "\n",
            "\n",
            "Item: P2 Count: 2\n",
            "Item: P3 Count: 2\n",
            "Output String 1:  2:2:0\n",
            "Output String 2:  2:2:0\n",
            "\n",
            "\n",
            "\n",
            "Item: P2 Count: 2\n",
            "Item: P4 Count: 2\n",
            "Output String 1:  2:2:0\n",
            "Output String 2:  2:2:0\n",
            "\n",
            "\n",
            "\n",
            "Item: P2 Count: 3\n",
            "Item: P5 Count: 1\n",
            "Output String 1:  3:1:0\n",
            "Output String 2:  1:3:0\n",
            "\n",
            "\n",
            "\n",
            "Item: P3 Count: 2\n",
            "Item: P4 Count: 2\n",
            "Output String 1:  2:2:0\n",
            "Output String 2:  2:2:0\n",
            "\n",
            "\n",
            "\n",
            "Item: P3 Count: 4\n",
            "Item: P5 Count: 0\n",
            "Output String 1:  4:0:0\n",
            "Output String 2:  0:4:0\n",
            "\n",
            "\n",
            "\n",
            "Item: P4 Count: 4\n",
            "Item: P5 Count: 0\n",
            "Output String 1:  4:0:0\n",
            "Output String 2:  0:4:0\n",
            "\n",
            "\n",
            "\n"
          ]
        }
      ]
    },
    {
      "cell_type": "code",
      "source": [
        "win_loss_1"
      ],
      "metadata": {
        "colab": {
          "base_uri": "https://localhost:8080/",
          "height": 0
        },
        "id": "Pp6uVOpu2zzc",
        "outputId": "2dd288ff-2408-4fd1-cd52-d9c92333c0f4"
      },
      "id": "Pp6uVOpu2zzc",
      "execution_count": 36,
      "outputs": [
        {
          "output_type": "execute_result",
          "data": {
            "text/plain": [
              "['1:3:0',\n",
              " '2:2:0',\n",
              " '2:2:0',\n",
              " '3:1:0',\n",
              " '2:2:0',\n",
              " '2:2:0',\n",
              " '3:1:0',\n",
              " '2:2:0',\n",
              " '4:0:0',\n",
              " '4:0:0']"
            ]
          },
          "metadata": {},
          "execution_count": 36
        }
      ]
    },
    {
      "cell_type": "code",
      "source": [
        "win_loss_2"
      ],
      "metadata": {
        "colab": {
          "base_uri": "https://localhost:8080/",
          "height": 0
        },
        "id": "V4atH0Hl20SI",
        "outputId": "ed30421c-44a5-46fa-84b1-ae31213375a1"
      },
      "id": "V4atH0Hl20SI",
      "execution_count": 37,
      "outputs": [
        {
          "output_type": "execute_result",
          "data": {
            "text/plain": [
              "['3:1:0',\n",
              " '2:2:0',\n",
              " '2:2:0',\n",
              " '1:3:0',\n",
              " '2:2:0',\n",
              " '2:2:0',\n",
              " '1:3:0',\n",
              " '2:2:0',\n",
              " '0:4:0',\n",
              " '0:4:0']"
            ]
          },
          "metadata": {},
          "execution_count": 37
        }
      ]
    },
    {
      "cell_type": "code",
      "source": [
        "document_matrix = np.empty((len(document_list), len(document_list)), dtype = \"<U5\")"
      ],
      "metadata": {
        "id": "EdBY7aZg22_E"
      },
      "id": "EdBY7aZg22_E",
      "execution_count": 38,
      "outputs": []
    },
    {
      "cell_type": "code",
      "source": [
        "document_matrix"
      ],
      "metadata": {
        "colab": {
          "base_uri": "https://localhost:8080/",
          "height": 0
        },
        "id": "lTROhXL-24Wt",
        "outputId": "ee123396-e8f5-4a29-9093-fe0eeacdf341"
      },
      "id": "lTROhXL-24Wt",
      "execution_count": 39,
      "outputs": [
        {
          "output_type": "execute_result",
          "data": {
            "text/plain": [
              "array([['', '', '', '', ''],\n",
              "       ['', '', '', '', ''],\n",
              "       ['', '', '', '', ''],\n",
              "       ['', '', '', '', ''],\n",
              "       ['', '', '', '', '']], dtype='<U5')"
            ]
          },
          "metadata": {},
          "execution_count": 39
        }
      ]
    },
    {
      "cell_type": "code",
      "source": [
        "counter_win_loss_1 = 0\n",
        "counter_win_loss_2 = 0\n",
        "for i in range(document_matrix.shape[0]):\n",
        "    for j in range(i, document_matrix.shape[1]):\n",
        "        if i == j:\n",
        "            document_matrix[i][j] = \"-\"\n",
        "        else:\n",
        "            document_matrix[i][j] = win_loss_1[counter_win_loss_1]\n",
        "            print(\"\\nWin_Loss_1: \", type(win_loss_1[counter_win_loss_1]))\n",
        "            \n",
        "            document_matrix[j][i] = win_loss_2[counter_win_loss_2]\n",
        "            print(\"\\nWin_Loss_2: \", win_loss_2[counter_win_loss_2])\n",
        "            \n",
        "            print(\"\\nDocument Matrix: \\n\", document_matrix)\n",
        "            \n",
        "            counter_win_loss_1 += 1\n",
        "            counter_win_loss_2 += 1"
      ],
      "metadata": {
        "colab": {
          "base_uri": "https://localhost:8080/",
          "height": 0
        },
        "id": "KlqTYP_i25qu",
        "outputId": "ed24130b-ec9d-483d-c897-b412f69c110f"
      },
      "id": "KlqTYP_i25qu",
      "execution_count": 40,
      "outputs": [
        {
          "output_type": "stream",
          "name": "stdout",
          "text": [
            "\n",
            "Win_Loss_1:  <class 'str'>\n",
            "\n",
            "Win_Loss_2:  3:1:0\n",
            "\n",
            "Document Matrix: \n",
            " [['-' '1:3:0' '' '' '']\n",
            " ['3:1:0' '' '' '' '']\n",
            " ['' '' '' '' '']\n",
            " ['' '' '' '' '']\n",
            " ['' '' '' '' '']]\n",
            "\n",
            "Win_Loss_1:  <class 'str'>\n",
            "\n",
            "Win_Loss_2:  2:2:0\n",
            "\n",
            "Document Matrix: \n",
            " [['-' '1:3:0' '2:2:0' '' '']\n",
            " ['3:1:0' '' '' '' '']\n",
            " ['2:2:0' '' '' '' '']\n",
            " ['' '' '' '' '']\n",
            " ['' '' '' '' '']]\n",
            "\n",
            "Win_Loss_1:  <class 'str'>\n",
            "\n",
            "Win_Loss_2:  2:2:0\n",
            "\n",
            "Document Matrix: \n",
            " [['-' '1:3:0' '2:2:0' '2:2:0' '']\n",
            " ['3:1:0' '' '' '' '']\n",
            " ['2:2:0' '' '' '' '']\n",
            " ['2:2:0' '' '' '' '']\n",
            " ['' '' '' '' '']]\n",
            "\n",
            "Win_Loss_1:  <class 'str'>\n",
            "\n",
            "Win_Loss_2:  1:3:0\n",
            "\n",
            "Document Matrix: \n",
            " [['-' '1:3:0' '2:2:0' '2:2:0' '3:1:0']\n",
            " ['3:1:0' '' '' '' '']\n",
            " ['2:2:0' '' '' '' '']\n",
            " ['2:2:0' '' '' '' '']\n",
            " ['1:3:0' '' '' '' '']]\n",
            "\n",
            "Win_Loss_1:  <class 'str'>\n",
            "\n",
            "Win_Loss_2:  2:2:0\n",
            "\n",
            "Document Matrix: \n",
            " [['-' '1:3:0' '2:2:0' '2:2:0' '3:1:0']\n",
            " ['3:1:0' '-' '2:2:0' '' '']\n",
            " ['2:2:0' '2:2:0' '' '' '']\n",
            " ['2:2:0' '' '' '' '']\n",
            " ['1:3:0' '' '' '' '']]\n",
            "\n",
            "Win_Loss_1:  <class 'str'>\n",
            "\n",
            "Win_Loss_2:  2:2:0\n",
            "\n",
            "Document Matrix: \n",
            " [['-' '1:3:0' '2:2:0' '2:2:0' '3:1:0']\n",
            " ['3:1:0' '-' '2:2:0' '2:2:0' '']\n",
            " ['2:2:0' '2:2:0' '' '' '']\n",
            " ['2:2:0' '2:2:0' '' '' '']\n",
            " ['1:3:0' '' '' '' '']]\n",
            "\n",
            "Win_Loss_1:  <class 'str'>\n",
            "\n",
            "Win_Loss_2:  1:3:0\n",
            "\n",
            "Document Matrix: \n",
            " [['-' '1:3:0' '2:2:0' '2:2:0' '3:1:0']\n",
            " ['3:1:0' '-' '2:2:0' '2:2:0' '3:1:0']\n",
            " ['2:2:0' '2:2:0' '' '' '']\n",
            " ['2:2:0' '2:2:0' '' '' '']\n",
            " ['1:3:0' '1:3:0' '' '' '']]\n",
            "\n",
            "Win_Loss_1:  <class 'str'>\n",
            "\n",
            "Win_Loss_2:  2:2:0\n",
            "\n",
            "Document Matrix: \n",
            " [['-' '1:3:0' '2:2:0' '2:2:0' '3:1:0']\n",
            " ['3:1:0' '-' '2:2:0' '2:2:0' '3:1:0']\n",
            " ['2:2:0' '2:2:0' '-' '2:2:0' '']\n",
            " ['2:2:0' '2:2:0' '2:2:0' '' '']\n",
            " ['1:3:0' '1:3:0' '' '' '']]\n",
            "\n",
            "Win_Loss_1:  <class 'str'>\n",
            "\n",
            "Win_Loss_2:  0:4:0\n",
            "\n",
            "Document Matrix: \n",
            " [['-' '1:3:0' '2:2:0' '2:2:0' '3:1:0']\n",
            " ['3:1:0' '-' '2:2:0' '2:2:0' '3:1:0']\n",
            " ['2:2:0' '2:2:0' '-' '2:2:0' '4:0:0']\n",
            " ['2:2:0' '2:2:0' '2:2:0' '' '']\n",
            " ['1:3:0' '1:3:0' '0:4:0' '' '']]\n",
            "\n",
            "Win_Loss_1:  <class 'str'>\n",
            "\n",
            "Win_Loss_2:  0:4:0\n",
            "\n",
            "Document Matrix: \n",
            " [['-' '1:3:0' '2:2:0' '2:2:0' '3:1:0']\n",
            " ['3:1:0' '-' '2:2:0' '2:2:0' '3:1:0']\n",
            " ['2:2:0' '2:2:0' '-' '2:2:0' '4:0:0']\n",
            " ['2:2:0' '2:2:0' '2:2:0' '-' '4:0:0']\n",
            " ['1:3:0' '1:3:0' '0:4:0' '0:4:0' '']]\n"
          ]
        }
      ]
    },
    {
      "cell_type": "code",
      "source": [
        "document_matrix"
      ],
      "metadata": {
        "colab": {
          "base_uri": "https://localhost:8080/",
          "height": 0
        },
        "id": "cmJkAENj28P9",
        "outputId": "88ff8641-b982-421c-9843-fdae222f289d"
      },
      "id": "cmJkAENj28P9",
      "execution_count": 41,
      "outputs": [
        {
          "output_type": "execute_result",
          "data": {
            "text/plain": [
              "array([['-', '1:3:0', '2:2:0', '2:2:0', '3:1:0'],\n",
              "       ['3:1:0', '-', '2:2:0', '2:2:0', '3:1:0'],\n",
              "       ['2:2:0', '2:2:0', '-', '2:2:0', '4:0:0'],\n",
              "       ['2:2:0', '2:2:0', '2:2:0', '-', '4:0:0'],\n",
              "       ['1:3:0', '1:3:0', '0:4:0', '0:4:0', '-']], dtype='<U5')"
            ]
          },
          "metadata": {},
          "execution_count": 41
        }
      ]
    },
    {
      "cell_type": "code",
      "source": [
        "final_df = pd.DataFrame(columns=[\"Document\", \"Win\", \"Lose\", \"Tie\"])"
      ],
      "metadata": {
        "id": "NlCcoHil2-Gt"
      },
      "id": "NlCcoHil2-Gt",
      "execution_count": 42,
      "outputs": []
    },
    {
      "cell_type": "code",
      "source": [
        "final_df[\"Document\"] = np.array(document_list).T"
      ],
      "metadata": {
        "id": "TK36bNqS2_5v"
      },
      "id": "TK36bNqS2_5v",
      "execution_count": 43,
      "outputs": []
    },
    {
      "cell_type": "code",
      "source": [
        "final_df"
      ],
      "metadata": {
        "colab": {
          "base_uri": "https://localhost:8080/",
          "height": 206
        },
        "id": "8KX_yyz43BfQ",
        "outputId": "5a88687b-2510-4a90-82c8-481968bba9e1"
      },
      "id": "8KX_yyz43BfQ",
      "execution_count": 44,
      "outputs": [
        {
          "output_type": "execute_result",
          "data": {
            "text/plain": [
              "  Document  Win Lose  Tie\n",
              "0       P1  NaN  NaN  NaN\n",
              "1       P2  NaN  NaN  NaN\n",
              "2       P3  NaN  NaN  NaN\n",
              "3       P4  NaN  NaN  NaN\n",
              "4       P5  NaN  NaN  NaN"
            ],
            "text/html": [
              "\n",
              "  <div id=\"df-fc38383b-6e75-41c6-bac9-c65322e846cf\">\n",
              "    <div class=\"colab-df-container\">\n",
              "      <div>\n",
              "<style scoped>\n",
              "    .dataframe tbody tr th:only-of-type {\n",
              "        vertical-align: middle;\n",
              "    }\n",
              "\n",
              "    .dataframe tbody tr th {\n",
              "        vertical-align: top;\n",
              "    }\n",
              "\n",
              "    .dataframe thead th {\n",
              "        text-align: right;\n",
              "    }\n",
              "</style>\n",
              "<table border=\"1\" class=\"dataframe\">\n",
              "  <thead>\n",
              "    <tr style=\"text-align: right;\">\n",
              "      <th></th>\n",
              "      <th>Document</th>\n",
              "      <th>Win</th>\n",
              "      <th>Lose</th>\n",
              "      <th>Tie</th>\n",
              "    </tr>\n",
              "  </thead>\n",
              "  <tbody>\n",
              "    <tr>\n",
              "      <th>0</th>\n",
              "      <td>P1</td>\n",
              "      <td>NaN</td>\n",
              "      <td>NaN</td>\n",
              "      <td>NaN</td>\n",
              "    </tr>\n",
              "    <tr>\n",
              "      <th>1</th>\n",
              "      <td>P2</td>\n",
              "      <td>NaN</td>\n",
              "      <td>NaN</td>\n",
              "      <td>NaN</td>\n",
              "    </tr>\n",
              "    <tr>\n",
              "      <th>2</th>\n",
              "      <td>P3</td>\n",
              "      <td>NaN</td>\n",
              "      <td>NaN</td>\n",
              "      <td>NaN</td>\n",
              "    </tr>\n",
              "    <tr>\n",
              "      <th>3</th>\n",
              "      <td>P4</td>\n",
              "      <td>NaN</td>\n",
              "      <td>NaN</td>\n",
              "      <td>NaN</td>\n",
              "    </tr>\n",
              "    <tr>\n",
              "      <th>4</th>\n",
              "      <td>P5</td>\n",
              "      <td>NaN</td>\n",
              "      <td>NaN</td>\n",
              "      <td>NaN</td>\n",
              "    </tr>\n",
              "  </tbody>\n",
              "</table>\n",
              "</div>\n",
              "      <button class=\"colab-df-convert\" onclick=\"convertToInteractive('df-fc38383b-6e75-41c6-bac9-c65322e846cf')\"\n",
              "              title=\"Convert this dataframe to an interactive table.\"\n",
              "              style=\"display:none;\">\n",
              "        \n",
              "  <svg xmlns=\"http://www.w3.org/2000/svg\" height=\"24px\"viewBox=\"0 0 24 24\"\n",
              "       width=\"24px\">\n",
              "    <path d=\"M0 0h24v24H0V0z\" fill=\"none\"/>\n",
              "    <path d=\"M18.56 5.44l.94 2.06.94-2.06 2.06-.94-2.06-.94-.94-2.06-.94 2.06-2.06.94zm-11 1L8.5 8.5l.94-2.06 2.06-.94-2.06-.94L8.5 2.5l-.94 2.06-2.06.94zm10 10l.94 2.06.94-2.06 2.06-.94-2.06-.94-.94-2.06-.94 2.06-2.06.94z\"/><path d=\"M17.41 7.96l-1.37-1.37c-.4-.4-.92-.59-1.43-.59-.52 0-1.04.2-1.43.59L10.3 9.45l-7.72 7.72c-.78.78-.78 2.05 0 2.83L4 21.41c.39.39.9.59 1.41.59.51 0 1.02-.2 1.41-.59l7.78-7.78 2.81-2.81c.8-.78.8-2.07 0-2.86zM5.41 20L4 18.59l7.72-7.72 1.47 1.35L5.41 20z\"/>\n",
              "  </svg>\n",
              "      </button>\n",
              "      \n",
              "  <style>\n",
              "    .colab-df-container {\n",
              "      display:flex;\n",
              "      flex-wrap:wrap;\n",
              "      gap: 12px;\n",
              "    }\n",
              "\n",
              "    .colab-df-convert {\n",
              "      background-color: #E8F0FE;\n",
              "      border: none;\n",
              "      border-radius: 50%;\n",
              "      cursor: pointer;\n",
              "      display: none;\n",
              "      fill: #1967D2;\n",
              "      height: 32px;\n",
              "      padding: 0 0 0 0;\n",
              "      width: 32px;\n",
              "    }\n",
              "\n",
              "    .colab-df-convert:hover {\n",
              "      background-color: #E2EBFA;\n",
              "      box-shadow: 0px 1px 2px rgba(60, 64, 67, 0.3), 0px 1px 3px 1px rgba(60, 64, 67, 0.15);\n",
              "      fill: #174EA6;\n",
              "    }\n",
              "\n",
              "    [theme=dark] .colab-df-convert {\n",
              "      background-color: #3B4455;\n",
              "      fill: #D2E3FC;\n",
              "    }\n",
              "\n",
              "    [theme=dark] .colab-df-convert:hover {\n",
              "      background-color: #434B5C;\n",
              "      box-shadow: 0px 1px 3px 1px rgba(0, 0, 0, 0.15);\n",
              "      filter: drop-shadow(0px 1px 2px rgba(0, 0, 0, 0.3));\n",
              "      fill: #FFFFFF;\n",
              "    }\n",
              "  </style>\n",
              "\n",
              "      <script>\n",
              "        const buttonEl =\n",
              "          document.querySelector('#df-fc38383b-6e75-41c6-bac9-c65322e846cf button.colab-df-convert');\n",
              "        buttonEl.style.display =\n",
              "          google.colab.kernel.accessAllowed ? 'block' : 'none';\n",
              "\n",
              "        async function convertToInteractive(key) {\n",
              "          const element = document.querySelector('#df-fc38383b-6e75-41c6-bac9-c65322e846cf');\n",
              "          const dataTable =\n",
              "            await google.colab.kernel.invokeFunction('convertToInteractive',\n",
              "                                                     [key], {});\n",
              "          if (!dataTable) return;\n",
              "\n",
              "          const docLinkHtml = 'Like what you see? Visit the ' +\n",
              "            '<a target=\"_blank\" href=https://colab.research.google.com/notebooks/data_table.ipynb>data table notebook</a>'\n",
              "            + ' to learn more about interactive tables.';\n",
              "          element.innerHTML = '';\n",
              "          dataTable['output_type'] = 'display_data';\n",
              "          await google.colab.output.renderOutput(dataTable, element);\n",
              "          const docLink = document.createElement('div');\n",
              "          docLink.innerHTML = docLinkHtml;\n",
              "          element.appendChild(docLink);\n",
              "        }\n",
              "      </script>\n",
              "    </div>\n",
              "  </div>\n",
              "  "
            ]
          },
          "metadata": {},
          "execution_count": 44
        }
      ]
    },
    {
      "cell_type": "code",
      "source": [
        "for i in range(document_matrix.shape[0]):\n",
        "    win = 0\n",
        "    loss = 0\n",
        "    tie = 0\n",
        "    for j in range(document_matrix.shape[1]):\n",
        "        if i == j:\n",
        "            continue\n",
        "        values = document_matrix[i][j][:-2].split(\":\")\n",
        "        item_1 = int(values[0])\n",
        "        item_2 = int(values[1])\n",
        "        if item_1 > item_2:\n",
        "            win += 1\n",
        "        elif item_1 < item_2:\n",
        "            loss += 1\n",
        "        else:\n",
        "            tie += 1\n",
        "    final_df[\"Win\"][i] = win\n",
        "    final_df[\"Lose\"][i] = loss\n",
        "    final_df[\"Tie\"][i] = tie"
      ],
      "metadata": {
        "id": "8nXMUCWU3Dqn"
      },
      "id": "8nXMUCWU3Dqn",
      "execution_count": 45,
      "outputs": []
    },
    {
      "cell_type": "code",
      "source": [
        "final_df"
      ],
      "metadata": {
        "colab": {
          "base_uri": "https://localhost:8080/",
          "height": 206
        },
        "id": "PM8WbXkP3Ef9",
        "outputId": "1d5cb8dd-68d7-43ef-d385-e4c46cf69c3d"
      },
      "id": "PM8WbXkP3Ef9",
      "execution_count": 46,
      "outputs": [
        {
          "output_type": "execute_result",
          "data": {
            "text/plain": [
              "  Document Win Lose Tie\n",
              "0       P1   1    1   2\n",
              "1       P2   2    0   2\n",
              "2       P3   1    0   3\n",
              "3       P4   1    0   3\n",
              "4       P5   0    4   0"
            ],
            "text/html": [
              "\n",
              "  <div id=\"df-a0354b63-cb2a-48fc-b1e5-cfaa55787123\">\n",
              "    <div class=\"colab-df-container\">\n",
              "      <div>\n",
              "<style scoped>\n",
              "    .dataframe tbody tr th:only-of-type {\n",
              "        vertical-align: middle;\n",
              "    }\n",
              "\n",
              "    .dataframe tbody tr th {\n",
              "        vertical-align: top;\n",
              "    }\n",
              "\n",
              "    .dataframe thead th {\n",
              "        text-align: right;\n",
              "    }\n",
              "</style>\n",
              "<table border=\"1\" class=\"dataframe\">\n",
              "  <thead>\n",
              "    <tr style=\"text-align: right;\">\n",
              "      <th></th>\n",
              "      <th>Document</th>\n",
              "      <th>Win</th>\n",
              "      <th>Lose</th>\n",
              "      <th>Tie</th>\n",
              "    </tr>\n",
              "  </thead>\n",
              "  <tbody>\n",
              "    <tr>\n",
              "      <th>0</th>\n",
              "      <td>P1</td>\n",
              "      <td>1</td>\n",
              "      <td>1</td>\n",
              "      <td>2</td>\n",
              "    </tr>\n",
              "    <tr>\n",
              "      <th>1</th>\n",
              "      <td>P2</td>\n",
              "      <td>2</td>\n",
              "      <td>0</td>\n",
              "      <td>2</td>\n",
              "    </tr>\n",
              "    <tr>\n",
              "      <th>2</th>\n",
              "      <td>P3</td>\n",
              "      <td>1</td>\n",
              "      <td>0</td>\n",
              "      <td>3</td>\n",
              "    </tr>\n",
              "    <tr>\n",
              "      <th>3</th>\n",
              "      <td>P4</td>\n",
              "      <td>1</td>\n",
              "      <td>0</td>\n",
              "      <td>3</td>\n",
              "    </tr>\n",
              "    <tr>\n",
              "      <th>4</th>\n",
              "      <td>P5</td>\n",
              "      <td>0</td>\n",
              "      <td>4</td>\n",
              "      <td>0</td>\n",
              "    </tr>\n",
              "  </tbody>\n",
              "</table>\n",
              "</div>\n",
              "      <button class=\"colab-df-convert\" onclick=\"convertToInteractive('df-a0354b63-cb2a-48fc-b1e5-cfaa55787123')\"\n",
              "              title=\"Convert this dataframe to an interactive table.\"\n",
              "              style=\"display:none;\">\n",
              "        \n",
              "  <svg xmlns=\"http://www.w3.org/2000/svg\" height=\"24px\"viewBox=\"0 0 24 24\"\n",
              "       width=\"24px\">\n",
              "    <path d=\"M0 0h24v24H0V0z\" fill=\"none\"/>\n",
              "    <path d=\"M18.56 5.44l.94 2.06.94-2.06 2.06-.94-2.06-.94-.94-2.06-.94 2.06-2.06.94zm-11 1L8.5 8.5l.94-2.06 2.06-.94-2.06-.94L8.5 2.5l-.94 2.06-2.06.94zm10 10l.94 2.06.94-2.06 2.06-.94-2.06-.94-.94-2.06-.94 2.06-2.06.94z\"/><path d=\"M17.41 7.96l-1.37-1.37c-.4-.4-.92-.59-1.43-.59-.52 0-1.04.2-1.43.59L10.3 9.45l-7.72 7.72c-.78.78-.78 2.05 0 2.83L4 21.41c.39.39.9.59 1.41.59.51 0 1.02-.2 1.41-.59l7.78-7.78 2.81-2.81c.8-.78.8-2.07 0-2.86zM5.41 20L4 18.59l7.72-7.72 1.47 1.35L5.41 20z\"/>\n",
              "  </svg>\n",
              "      </button>\n",
              "      \n",
              "  <style>\n",
              "    .colab-df-container {\n",
              "      display:flex;\n",
              "      flex-wrap:wrap;\n",
              "      gap: 12px;\n",
              "    }\n",
              "\n",
              "    .colab-df-convert {\n",
              "      background-color: #E8F0FE;\n",
              "      border: none;\n",
              "      border-radius: 50%;\n",
              "      cursor: pointer;\n",
              "      display: none;\n",
              "      fill: #1967D2;\n",
              "      height: 32px;\n",
              "      padding: 0 0 0 0;\n",
              "      width: 32px;\n",
              "    }\n",
              "\n",
              "    .colab-df-convert:hover {\n",
              "      background-color: #E2EBFA;\n",
              "      box-shadow: 0px 1px 2px rgba(60, 64, 67, 0.3), 0px 1px 3px 1px rgba(60, 64, 67, 0.15);\n",
              "      fill: #174EA6;\n",
              "    }\n",
              "\n",
              "    [theme=dark] .colab-df-convert {\n",
              "      background-color: #3B4455;\n",
              "      fill: #D2E3FC;\n",
              "    }\n",
              "\n",
              "    [theme=dark] .colab-df-convert:hover {\n",
              "      background-color: #434B5C;\n",
              "      box-shadow: 0px 1px 3px 1px rgba(0, 0, 0, 0.15);\n",
              "      filter: drop-shadow(0px 1px 2px rgba(0, 0, 0, 0.3));\n",
              "      fill: #FFFFFF;\n",
              "    }\n",
              "  </style>\n",
              "\n",
              "      <script>\n",
              "        const buttonEl =\n",
              "          document.querySelector('#df-a0354b63-cb2a-48fc-b1e5-cfaa55787123 button.colab-df-convert');\n",
              "        buttonEl.style.display =\n",
              "          google.colab.kernel.accessAllowed ? 'block' : 'none';\n",
              "\n",
              "        async function convertToInteractive(key) {\n",
              "          const element = document.querySelector('#df-a0354b63-cb2a-48fc-b1e5-cfaa55787123');\n",
              "          const dataTable =\n",
              "            await google.colab.kernel.invokeFunction('convertToInteractive',\n",
              "                                                     [key], {});\n",
              "          if (!dataTable) return;\n",
              "\n",
              "          const docLinkHtml = 'Like what you see? Visit the ' +\n",
              "            '<a target=\"_blank\" href=https://colab.research.google.com/notebooks/data_table.ipynb>data table notebook</a>'\n",
              "            + ' to learn more about interactive tables.';\n",
              "          element.innerHTML = '';\n",
              "          dataTable['output_type'] = 'display_data';\n",
              "          await google.colab.output.renderOutput(dataTable, element);\n",
              "          const docLink = document.createElement('div');\n",
              "          docLink.innerHTML = docLinkHtml;\n",
              "          element.appendChild(docLink);\n",
              "        }\n",
              "      </script>\n",
              "    </div>\n",
              "  </div>\n",
              "  "
            ]
          },
          "metadata": {},
          "execution_count": 46
        }
      ]
    }
  ],
  "metadata": {
    "kernelspec": {
      "display_name": "Python 3",
      "language": "python",
      "name": "python3"
    },
    "language_info": {
      "codemirror_mode": {
        "name": "ipython",
        "version": 3
      },
      "file_extension": ".py",
      "mimetype": "text/x-python",
      "name": "python",
      "nbconvert_exporter": "python",
      "pygments_lexer": "ipython3",
      "version": "3.7.12"
    },
    "papermill": {
      "default_parameters": {},
      "duration": 13.149684,
      "end_time": "2022-04-08T04:07:25.937362",
      "environment_variables": {},
      "exception": true,
      "input_path": "__notebook__.ipynb",
      "output_path": "__notebook__.ipynb",
      "parameters": {},
      "start_time": "2022-04-08T04:07:12.787678",
      "version": "2.3.3"
    },
    "colab": {
      "name": "IRS_P8_20BCE529.ipynb",
      "provenance": []
    }
  },
  "nbformat": 4,
  "nbformat_minor": 5
}