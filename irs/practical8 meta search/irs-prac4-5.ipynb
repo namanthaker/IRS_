{
 "cells": [
  {
   "cell_type": "code",
   "execution_count": 1,
   "id": "5ad4fa96",
   "metadata": {
    "execution": {
     "iopub.execute_input": "2022-04-08T04:07:22.836399Z",
     "iopub.status.busy": "2022-04-08T04:07:22.829735Z",
     "iopub.status.idle": "2022-04-08T04:07:24.469026Z",
     "shell.execute_reply": "2022-04-08T04:07:24.467923Z",
     "shell.execute_reply.started": "2022-04-02T15:57:01.946453Z"
    },
    "papermill": {
     "duration": 1.699897,
     "end_time": "2022-04-08T04:07:24.469203",
     "exception": false,
     "start_time": "2022-04-08T04:07:22.769306",
     "status": "completed"
    },
    "tags": []
   },
   "outputs": [],
   "source": [
    "import nltk\n",
    "import regex\n",
    "import numpy as np\n",
    "import pandas as pd\n",
    "import matplotlib.pyplot as plt\n",
    "import math\n",
    "from sklearn.metrics.pairwise import cosine_similarity\n",
    "from sklearn.metrics.pairwise import euclidean_distances\n",
    "from sklearn import preprocessing"
   ]
  },
  {
   "cell_type": "code",
   "execution_count": 2,
   "id": "d41f5786",
   "metadata": {
    "execution": {
     "iopub.execute_input": "2022-04-08T04:07:24.520306Z",
     "iopub.status.busy": "2022-04-08T04:07:24.518260Z",
     "iopub.status.idle": "2022-04-08T04:07:24.521552Z",
     "shell.execute_reply": "2022-04-08T04:07:24.522108Z",
     "shell.execute_reply.started": "2022-04-02T15:57:01.960163Z"
    },
    "papermill": {
     "duration": 0.030264,
     "end_time": "2022-04-08T04:07:24.522260",
     "exception": false,
     "start_time": "2022-04-08T04:07:24.491996",
     "status": "completed"
    },
    "tags": []
   },
   "outputs": [],
   "source": [
    "from sklearn.feature_extraction.text import TfidfVectorizer"
   ]
  },
  {
   "cell_type": "code",
   "execution_count": 3,
   "id": "374d52f1",
   "metadata": {
    "execution": {
     "iopub.execute_input": "2022-04-08T04:07:24.572922Z",
     "iopub.status.busy": "2022-04-08T04:07:24.571873Z",
     "iopub.status.idle": "2022-04-08T04:07:24.574519Z",
     "shell.execute_reply": "2022-04-08T04:07:24.574977Z",
     "shell.execute_reply.started": "2022-04-02T15:57:01.970328Z"
    },
    "papermill": {
     "duration": 0.029103,
     "end_time": "2022-04-08T04:07:24.575156",
     "exception": false,
     "start_time": "2022-04-08T04:07:24.546053",
     "status": "completed"
    },
    "tags": []
   },
   "outputs": [],
   "source": [
    "Courpus1 = {'The Punisher is a fictional antihero appearing in American comic books published by Marvel Comics.',\n",
    "           'The character was created by writer Gerry Conway and artists John Romita Sr. and Ross Andru.',\n",
    "           'The character is depicted as an Italian-American vigilante who employs murder, kidnapping, extortion, coercion, threats of violence, and torture in his campaign against crime.',\n",
    "           'Driven by the deaths of his wife and two children, who were killed by the mob for witnessing a killing in New York City\\'s Central Park',\n",
    "           'the Punisher wages a one-man war on crime using various weapons.',}"
   ]
  },
  {
   "cell_type": "code",
   "execution_count": 4,
   "id": "32761983",
   "metadata": {
    "execution": {
     "iopub.execute_input": "2022-04-08T04:07:24.633091Z",
     "iopub.status.busy": "2022-04-08T04:07:24.632001Z",
     "iopub.status.idle": "2022-04-08T04:07:24.646544Z",
     "shell.execute_reply": "2022-04-08T04:07:24.645669Z",
     "shell.execute_reply.started": "2022-04-02T15:57:01.98472Z"
    },
    "papermill": {
     "duration": 0.049961,
     "end_time": "2022-04-08T04:07:24.646779",
     "exception": false,
     "start_time": "2022-04-08T04:07:24.596818",
     "status": "completed"
    },
    "tags": []
   },
   "outputs": [
    {
     "name": "stdout",
     "output_type": "stream",
     "text": [
      "['against', 'american', 'an', 'and', 'andru', 'antihero', 'appearing', 'artists', 'as', 'books', 'by', 'campaign', 'central', 'character', 'children', 'city', 'coercion', 'comic', 'comics', 'conway', 'created', 'crime', 'deaths', 'depicted', 'driven', 'employs', 'extortion', 'fictional', 'for', 'gerry', 'his', 'in', 'is', 'italian', 'john', 'kidnapping', 'killed', 'killing', 'man', 'marvel', 'mob', 'murder', 'new', 'of', 'on', 'one', 'park', 'published', 'punisher', 'romita', 'ross', 'sr', 'the', 'threats', 'torture', 'two', 'using', 'various', 'vigilante', 'violence', 'wages', 'war', 'was', 'weapons', 'were', 'who', 'wife', 'witnessing', 'writer', 'york']\n",
      "[[0.         0.24241232 0.         0.         0.         0.30046383\n",
      "  0.30046383 0.         0.         0.30046383 0.20122413 0.\n",
      "  0.         0.         0.         0.         0.         0.30046383\n",
      "  0.30046383 0.         0.         0.         0.         0.\n",
      "  0.         0.         0.         0.30046383 0.         0.\n",
      "  0.         0.20122413 0.24241232 0.         0.         0.\n",
      "  0.         0.         0.         0.30046383 0.         0.\n",
      "  0.         0.         0.         0.         0.         0.30046383\n",
      "  0.24241232 0.         0.         0.         0.14317262 0.\n",
      "  0.         0.         0.         0.         0.         0.\n",
      "  0.         0.         0.         0.         0.         0.\n",
      "  0.         0.         0.         0.        ]\n",
      " [0.2198971  0.1774116  0.2198971  0.14726765 0.         0.\n",
      "  0.         0.         0.2198971  0.         0.         0.2198971\n",
      "  0.         0.1774116  0.         0.         0.2198971  0.\n",
      "  0.         0.         0.         0.1774116  0.         0.2198971\n",
      "  0.         0.2198971  0.2198971  0.         0.         0.\n",
      "  0.1774116  0.14726765 0.1774116  0.2198971  0.         0.2198971\n",
      "  0.         0.         0.         0.         0.         0.2198971\n",
      "  0.         0.1774116  0.         0.         0.         0.\n",
      "  0.         0.         0.         0.         0.10478215 0.2198971\n",
      "  0.2198971  0.         0.         0.         0.2198971  0.2198971\n",
      "  0.         0.         0.         0.         0.         0.1774116\n",
      "  0.         0.         0.         0.        ]\n",
      " [0.         0.         0.         0.         0.         0.\n",
      "  0.         0.         0.         0.         0.         0.\n",
      "  0.         0.         0.         0.         0.         0.\n",
      "  0.         0.         0.         0.26136134 0.         0.\n",
      "  0.         0.         0.         0.         0.         0.\n",
      "  0.         0.         0.         0.         0.         0.\n",
      "  0.         0.         0.32395065 0.         0.         0.\n",
      "  0.         0.         0.32395065 0.32395065 0.         0.\n",
      "  0.26136134 0.         0.         0.         0.15436422 0.\n",
      "  0.         0.         0.32395065 0.32395065 0.         0.\n",
      "  0.32395065 0.32395065 0.         0.32395065 0.         0.\n",
      "  0.         0.         0.         0.        ]\n",
      " [0.         0.         0.         0.35644471 0.26611804 0.\n",
      "  0.         0.26611804 0.         0.         0.17822235 0.\n",
      "  0.         0.21470236 0.         0.         0.         0.\n",
      "  0.         0.26611804 0.26611804 0.         0.         0.\n",
      "  0.         0.         0.         0.         0.         0.26611804\n",
      "  0.         0.         0.         0.         0.26611804 0.\n",
      "  0.         0.         0.         0.         0.         0.\n",
      "  0.         0.         0.         0.         0.         0.\n",
      "  0.         0.26611804 0.26611804 0.26611804 0.12680667 0.\n",
      "  0.         0.         0.         0.         0.         0.\n",
      "  0.         0.         0.26611804 0.         0.         0.\n",
      "  0.         0.         0.26611804 0.        ]\n",
      " [0.         0.         0.         0.14425918 0.         0.\n",
      "  0.         0.         0.         0.         0.28851836 0.\n",
      "  0.21540491 0.         0.21540491 0.21540491 0.         0.\n",
      "  0.         0.         0.         0.         0.21540491 0.\n",
      "  0.21540491 0.         0.         0.         0.21540491 0.\n",
      "  0.17378733 0.14425918 0.         0.         0.         0.\n",
      "  0.21540491 0.21540491 0.         0.         0.21540491 0.\n",
      "  0.21540491 0.17378733 0.         0.         0.21540491 0.\n",
      "  0.         0.         0.         0.         0.20528319 0.\n",
      "  0.         0.21540491 0.         0.         0.         0.\n",
      "  0.         0.         0.         0.         0.21540491 0.17378733\n",
      "  0.21540491 0.21540491 0.         0.21540491]]\n"
     ]
    },
    {
     "name": "stderr",
     "output_type": "stream",
     "text": [
      "/opt/conda/lib/python3.7/site-packages/sklearn/utils/deprecation.py:87: FutureWarning: Function get_feature_names is deprecated; get_feature_names is deprecated in 1.0 and will be removed in 1.2. Please use get_feature_names_out instead.\n",
      "  warnings.warn(msg, category=FutureWarning)\n"
     ]
    }
   ],
   "source": [
    "vectorizer = TfidfVectorizer()\n",
    "X = vectorizer.fit_transform(Courpus1)\n",
    "print(vectorizer.get_feature_names())\n",
    "print(X.toarray())"
   ]
  },
  {
   "cell_type": "markdown",
   "id": "8ffa90d3",
   "metadata": {
    "papermill": {
     "duration": 0.021804,
     "end_time": "2022-04-08T04:07:24.695035",
     "exception": false,
     "start_time": "2022-04-08T04:07:24.673231",
     "status": "completed"
    },
    "tags": []
   },
   "source": [
    "# Euclidean Distance"
   ]
  },
  {
   "cell_type": "code",
   "execution_count": 5,
   "id": "3c3066f8",
   "metadata": {
    "execution": {
     "iopub.execute_input": "2022-04-08T04:07:24.748288Z",
     "iopub.status.busy": "2022-04-08T04:07:24.747451Z",
     "iopub.status.idle": "2022-04-08T04:07:24.751124Z",
     "shell.execute_reply": "2022-04-08T04:07:24.751938Z",
     "shell.execute_reply.started": "2022-04-02T15:57:02.01832Z"
    },
    "papermill": {
     "duration": 0.035194,
     "end_time": "2022-04-08T04:07:24.752161",
     "exception": false,
     "start_time": "2022-04-08T04:07:24.716967",
     "status": "completed"
    },
    "tags": []
   },
   "outputs": [
    {
     "name": "stdout",
     "output_type": "stream",
     "text": [
      "[[0.         1.73870149 1.82908412 1.89196424 1.76704757]\n",
      " [1.73870149 0.         1.8749137  1.79225892 1.6870098 ]\n",
      " [1.82908412 1.8749137  0.         1.96085117 1.93662324]\n",
      " [1.89196424 1.79225892 1.96085117 0.         1.74225576]\n",
      " [1.76704757 1.6870098  1.93662324 1.74225576 0.        ]]\n"
     ]
    }
   ],
   "source": [
    "euclidean_dist = euclidean_distances(X)\n",
    "squared_euclidean = np.square(euclidean_dist)\n",
    "print (squared_euclidean)"
   ]
  },
  {
   "cell_type": "markdown",
   "id": "6521dd54",
   "metadata": {
    "papermill": {
     "duration": 0.023085,
     "end_time": "2022-04-08T04:07:24.799111",
     "exception": false,
     "start_time": "2022-04-08T04:07:24.776026",
     "status": "completed"
    },
    "tags": []
   },
   "source": [
    "# Cosine Similarity"
   ]
  },
  {
   "cell_type": "code",
   "execution_count": 6,
   "id": "24a2251f",
   "metadata": {
    "execution": {
     "iopub.execute_input": "2022-04-08T04:07:24.852833Z",
     "iopub.status.busy": "2022-04-08T04:07:24.851740Z",
     "iopub.status.idle": "2022-04-08T04:07:24.858428Z",
     "shell.execute_reply": "2022-04-08T04:07:24.857561Z",
     "shell.execute_reply.started": "2022-04-02T15:57:02.032109Z"
    },
    "papermill": {
     "duration": 0.035766,
     "end_time": "2022-04-08T04:07:24.858718",
     "exception": false,
     "start_time": "2022-04-08T04:07:24.822952",
     "status": "completed"
    },
    "tags": []
   },
   "outputs": [
    {
     "name": "stdout",
     "output_type": "stream",
     "text": [
      "[[1.         0.13064926 0.08545794 0.05401788 0.11647622]\n",
      " [0.13064926 1.         0.06254315 0.10387054 0.1564951 ]\n",
      " [0.08545794 0.06254315 1.         0.01957441 0.03168838]\n",
      " [0.05401788 0.10387054 0.01957441 1.         0.12887212]\n",
      " [0.11647622 0.1564951  0.03168838 0.12887212 1.        ]]\n"
     ]
    }
   ],
   "source": [
    "print(cosine_similarity(X))"
   ]
  },
  {
   "cell_type": "markdown",
   "id": "6d919caa",
   "metadata": {
    "papermill": {
     "duration": 0.023322,
     "end_time": "2022-04-08T04:07:24.905887",
     "exception": false,
     "start_time": "2022-04-08T04:07:24.882565",
     "status": "completed"
    },
    "tags": []
   },
   "source": [
    "# Meta Search"
   ]
  },
  {
   "cell_type": "code",
   "execution_count": 7,
   "id": "097abd59",
   "metadata": {
    "execution": {
     "iopub.execute_input": "2022-04-08T04:07:24.960774Z",
     "iopub.status.busy": "2022-04-08T04:07:24.959934Z",
     "iopub.status.idle": "2022-04-08T04:07:25.100388Z",
     "shell.execute_reply": "2022-04-08T04:07:25.099544Z",
     "shell.execute_reply.started": "2022-04-02T16:04:31.291171Z"
    },
    "papermill": {
     "duration": 0.171514,
     "end_time": "2022-04-08T04:07:25.100718",
     "exception": true,
     "start_time": "2022-04-08T04:07:24.929204",
     "status": "failed"
    },
    "tags": []
   },
   "outputs": [
    {
     "ename": "StdinNotImplementedError",
     "evalue": "raw_input was called, but this frontend does not support input requests.",
     "output_type": "error",
     "traceback": [
      "\u001b[0;31m---------------------------------------------------------------------------\u001b[0m",
      "\u001b[0;31mStdinNotImplementedError\u001b[0m                  Traceback (most recent call last)",
      "\u001b[0;32m/tmp/ipykernel_23/1113451194.py\u001b[0m in \u001b[0;36m<module>\u001b[0;34m\u001b[0m\n\u001b[1;32m      1\u001b[0m \u001b[0;32mimport\u001b[0m \u001b[0mmath\u001b[0m\u001b[0;34m\u001b[0m\u001b[0;34m\u001b[0m\u001b[0m\n\u001b[1;32m      2\u001b[0m \u001b[0;34m\u001b[0m\u001b[0m\n\u001b[0;32m----> 3\u001b[0;31m \u001b[0mjud\u001b[0m\u001b[0;34m=\u001b[0m\u001b[0mint\u001b[0m\u001b[0;34m(\u001b[0m\u001b[0minput\u001b[0m\u001b[0;34m(\u001b[0m\u001b[0;34m\"Enter No Of Judges:\"\u001b[0m\u001b[0;34m)\u001b[0m\u001b[0;34m)\u001b[0m\u001b[0;34m\u001b[0m\u001b[0;34m\u001b[0m\u001b[0m\n\u001b[0m\u001b[1;32m      4\u001b[0m \u001b[0mpar\u001b[0m\u001b[0;34m=\u001b[0m\u001b[0mint\u001b[0m\u001b[0;34m(\u001b[0m\u001b[0minput\u001b[0m\u001b[0;34m(\u001b[0m\u001b[0;34m\"Enter No Of Participants\"\u001b[0m\u001b[0;34m)\u001b[0m\u001b[0;34m)\u001b[0m\u001b[0;34m\u001b[0m\u001b[0;34m\u001b[0m\u001b[0m\n\u001b[1;32m      5\u001b[0m \u001b[0;34m\u001b[0m\u001b[0m\n",
      "\u001b[0;32m/opt/conda/lib/python3.7/site-packages/ipykernel/kernelbase.py\u001b[0m in \u001b[0;36mraw_input\u001b[0;34m(self, prompt)\u001b[0m\n\u001b[1;32m   1003\u001b[0m         \u001b[0;32mif\u001b[0m \u001b[0;32mnot\u001b[0m \u001b[0mself\u001b[0m\u001b[0;34m.\u001b[0m\u001b[0m_allow_stdin\u001b[0m\u001b[0;34m:\u001b[0m\u001b[0;34m\u001b[0m\u001b[0;34m\u001b[0m\u001b[0m\n\u001b[1;32m   1004\u001b[0m             raise StdinNotImplementedError(\n\u001b[0;32m-> 1005\u001b[0;31m                 \u001b[0;34m\"raw_input was called, but this frontend does not support input requests.\"\u001b[0m\u001b[0;34m\u001b[0m\u001b[0;34m\u001b[0m\u001b[0m\n\u001b[0m\u001b[1;32m   1006\u001b[0m             )\n\u001b[1;32m   1007\u001b[0m         return self._input_request(\n",
      "\u001b[0;31mStdinNotImplementedError\u001b[0m: raw_input was called, but this frontend does not support input requests."
     ]
    }
   ],
   "source": [
    "import math\n",
    "\n",
    "jud=int(input(\"Enter No Of Judges:\"))\n",
    "par=int(input(\"Enter No Of Participants\"))\n",
    "\n",
    "create_csv=[]\n",
    "\n",
    "for i in range(par):\n",
    "    temp=[]\n",
    "    for j in range(jud):\n",
    "        print(\"Enter Rank Given By Judge \",j+1,\" To Participant \",i+1,\" :\")\n",
    "        vote=input()\n",
    "        if (vote==\"\"):\n",
    "            vote=math.inf\n",
    "        else:\n",
    "            vote=int(vote)\n",
    "        temp.append(vote)\n",
    "    create_csv.append(temp)\n",
    "print(create_csv)"
   ]
  },
  {
   "cell_type": "code",
   "execution_count": null,
   "id": "dc858ce8",
   "metadata": {
    "execution": {
     "iopub.execute_input": "2022-04-02T17:05:23.89843Z",
     "iopub.status.busy": "2022-04-02T17:05:23.898113Z",
     "iopub.status.idle": "2022-04-02T17:05:23.906589Z",
     "shell.execute_reply": "2022-04-02T17:05:23.905176Z",
     "shell.execute_reply.started": "2022-04-02T17:05:23.898388Z"
    },
    "papermill": {
     "duration": null,
     "end_time": null,
     "exception": null,
     "start_time": null,
     "status": "pending"
    },
    "tags": []
   },
   "outputs": [],
   "source": [
    "df = pd.DataFrame(create_csv) \n",
    "df.to_csv('data.csv') "
   ]
  },
  {
   "cell_type": "code",
   "execution_count": null,
   "id": "d963d51f",
   "metadata": {
    "execution": {
     "iopub.execute_input": "2022-04-02T17:05:25.713147Z",
     "iopub.status.busy": "2022-04-02T17:05:25.712541Z",
     "iopub.status.idle": "2022-04-02T17:05:25.718516Z",
     "shell.execute_reply": "2022-04-02T17:05:25.717066Z",
     "shell.execute_reply.started": "2022-04-02T17:05:25.713098Z"
    },
    "papermill": {
     "duration": null,
     "end_time": null,
     "exception": null,
     "start_time": null,
     "status": "pending"
    },
    "tags": []
   },
   "outputs": [],
   "source": [
    "print(create_csv)"
   ]
  },
  {
   "cell_type": "code",
   "execution_count": null,
   "id": "9ee7b2ac",
   "metadata": {
    "execution": {
     "iopub.execute_input": "2022-04-02T17:05:29.79645Z",
     "iopub.status.busy": "2022-04-02T17:05:29.796137Z",
     "iopub.status.idle": "2022-04-02T17:05:29.812252Z",
     "shell.execute_reply": "2022-04-02T17:05:29.810893Z",
     "shell.execute_reply.started": "2022-04-02T17:05:29.796419Z"
    },
    "papermill": {
     "duration": null,
     "end_time": null,
     "exception": null,
     "start_time": null,
     "status": "pending"
    },
    "tags": []
   },
   "outputs": [],
   "source": [
    "print(df)"
   ]
  },
  {
   "cell_type": "code",
   "execution_count": null,
   "id": "c6a64362",
   "metadata": {
    "execution": {
     "iopub.execute_input": "2022-04-02T17:05:32.514523Z",
     "iopub.status.busy": "2022-04-02T17:05:32.514245Z",
     "iopub.status.idle": "2022-04-02T17:05:32.530878Z",
     "shell.execute_reply": "2022-04-02T17:05:32.529749Z",
     "shell.execute_reply.started": "2022-04-02T17:05:32.514494Z"
    },
    "papermill": {
     "duration": null,
     "end_time": null,
     "exception": null,
     "start_time": null,
     "status": "pending"
    },
    "tags": []
   },
   "outputs": [],
   "source": [
    "Borda=df\n",
    "Reciprocal=df\n",
    "\n",
    "for i in range(jud):\n",
    "    Reciprocal[i]=Reciprocal[i].replace(math.inf,0)\n",
    "Reciprocal=Reciprocal.values.tolist()\n",
    "\n",
    "for i in range(jud):\n",
    "    Borda[i]=Borda[i].replace(math.inf,0)\n",
    "    data=Borda[i]\n",
    "    a=0\n",
    "    count=0\n",
    "    for j in range(par):\n",
    "        if data[j]!=0:\n",
    "            a=a+(par-data[j]+1)\n",
    "        else:\n",
    "            count=count+1\n",
    "    if (count):\n",
    "        s = sum(range(1, par + 1))\n",
    "        diff=(s-a)/count\n",
    "        \n",
    "    Borda[i]=Borda[i].replace(0,diff)\n",
    "    \n",
    "Borda=Borda.values.tolist()"
   ]
  },
  {
   "cell_type": "code",
   "execution_count": null,
   "id": "d61b2d4b",
   "metadata": {
    "execution": {
     "iopub.execute_input": "2022-04-02T17:05:35.716317Z",
     "iopub.status.busy": "2022-04-02T17:05:35.715969Z",
     "iopub.status.idle": "2022-04-02T17:05:35.723891Z",
     "shell.execute_reply": "2022-04-02T17:05:35.722582Z",
     "shell.execute_reply.started": "2022-04-02T17:05:35.716288Z"
    },
    "papermill": {
     "duration": null,
     "end_time": null,
     "exception": null,
     "start_time": null,
     "status": "pending"
    },
    "tags": []
   },
   "outputs": [],
   "source": [
    "print(Borda)\n",
    "print(Reciprocal)"
   ]
  },
  {
   "cell_type": "markdown",
   "id": "3e3d288c",
   "metadata": {
    "papermill": {
     "duration": null,
     "end_time": null,
     "exception": null,
     "start_time": null,
     "status": "pending"
    },
    "tags": []
   },
   "source": [
    "# Borda Method"
   ]
  },
  {
   "cell_type": "code",
   "execution_count": null,
   "id": "2612b164",
   "metadata": {
    "execution": {
     "iopub.execute_input": "2022-04-02T17:05:48.172238Z",
     "iopub.status.busy": "2022-04-02T17:05:48.171949Z",
     "iopub.status.idle": "2022-04-02T17:05:48.178923Z",
     "shell.execute_reply": "2022-04-02T17:05:48.177294Z",
     "shell.execute_reply.started": "2022-04-02T17:05:48.172207Z"
    },
    "papermill": {
     "duration": null,
     "end_time": null,
     "exception": null,
     "start_time": null,
     "status": "pending"
    },
    "tags": []
   },
   "outputs": [],
   "source": [
    "ans=[]\n",
    "for i in range(par):\n",
    "    a=0\n",
    "    data=Borda[i]\n",
    "    for j in range(jud):\n",
    "        a=a+(par-data[j]+1)\n",
    "    ans.append(a)\n",
    "        \n",
    "    "
   ]
  },
  {
   "cell_type": "code",
   "execution_count": null,
   "id": "e19d9941",
   "metadata": {
    "execution": {
     "iopub.execute_input": "2022-04-02T17:05:50.866998Z",
     "iopub.status.busy": "2022-04-02T17:05:50.866688Z",
     "iopub.status.idle": "2022-04-02T17:05:50.872622Z",
     "shell.execute_reply": "2022-04-02T17:05:50.871476Z",
     "shell.execute_reply.started": "2022-04-02T17:05:50.866968Z"
    },
    "papermill": {
     "duration": null,
     "end_time": null,
     "exception": null,
     "start_time": null,
     "status": "pending"
    },
    "tags": []
   },
   "outputs": [],
   "source": [
    "print(ans)"
   ]
  },
  {
   "cell_type": "markdown",
   "id": "cf140e06",
   "metadata": {
    "papermill": {
     "duration": null,
     "end_time": null,
     "exception": null,
     "start_time": null,
     "status": "pending"
    },
    "tags": []
   },
   "source": [
    "# Reciprocal"
   ]
  },
  {
   "cell_type": "code",
   "execution_count": null,
   "id": "f834e19c",
   "metadata": {
    "execution": {
     "iopub.execute_input": "2022-04-02T17:05:54.514629Z",
     "iopub.status.busy": "2022-04-02T17:05:54.514319Z",
     "iopub.status.idle": "2022-04-02T17:05:54.520741Z",
     "shell.execute_reply": "2022-04-02T17:05:54.519494Z",
     "shell.execute_reply.started": "2022-04-02T17:05:54.5146Z"
    },
    "papermill": {
     "duration": null,
     "end_time": null,
     "exception": null,
     "start_time": null,
     "status": "pending"
    },
    "tags": []
   },
   "outputs": [],
   "source": [
    "ans=[]\n",
    "for i in range(par):\n",
    "    a=0\n",
    "    data=Reciprocal[i]\n",
    "    for j in range(jud):\n",
    "        if(data[j]==0):\n",
    "            continue\n",
    "        a=a+(1/data[j])\n",
    "    ans.append(a)"
   ]
  },
  {
   "cell_type": "code",
   "execution_count": null,
   "id": "a14da20f",
   "metadata": {
    "execution": {
     "iopub.execute_input": "2022-04-02T17:05:58.061267Z",
     "iopub.status.busy": "2022-04-02T17:05:58.060658Z",
     "iopub.status.idle": "2022-04-02T17:05:58.067157Z",
     "shell.execute_reply": "2022-04-02T17:05:58.065774Z",
     "shell.execute_reply.started": "2022-04-02T17:05:58.061232Z"
    },
    "papermill": {
     "duration": null,
     "end_time": null,
     "exception": null,
     "start_time": null,
     "status": "pending"
    },
    "tags": []
   },
   "outputs": [],
   "source": [
    "print(ans)"
   ]
  }
 ],
 "metadata": {
  "kernelspec": {
   "display_name": "Python 3",
   "language": "python",
   "name": "python3"
  },
  "language_info": {
   "codemirror_mode": {
    "name": "ipython",
    "version": 3
   },
   "file_extension": ".py",
   "mimetype": "text/x-python",
   "name": "python",
   "nbconvert_exporter": "python",
   "pygments_lexer": "ipython3",
   "version": "3.7.12"
  },
  "papermill": {
   "default_parameters": {},
   "duration": 13.149684,
   "end_time": "2022-04-08T04:07:25.937362",
   "environment_variables": {},
   "exception": true,
   "input_path": "__notebook__.ipynb",
   "output_path": "__notebook__.ipynb",
   "parameters": {},
   "start_time": "2022-04-08T04:07:12.787678",
   "version": "2.3.3"
  }
 },
 "nbformat": 4,
 "nbformat_minor": 5
}
